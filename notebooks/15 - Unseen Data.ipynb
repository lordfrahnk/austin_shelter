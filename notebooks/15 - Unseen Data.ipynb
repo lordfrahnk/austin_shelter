{
 "cells": [
  {
   "cell_type": "code",
   "execution_count": 1,
   "metadata": {},
   "outputs": [],
   "source": [
    "import pandas as pd\n",
    "import numpy as np\n",
    "import janitor"
   ]
  },
  {
   "cell_type": "markdown",
   "metadata": {},
   "source": [
    "### Unseen Intakes"
   ]
  },
  {
   "cell_type": "code",
   "execution_count": 2,
   "metadata": {},
   "outputs": [],
   "source": [
    "unseen_intakes = pd.read_csv('https://data.austintexas.gov/api/views/wter-evkm/rows.csv?accessType=DOWNLOAD')"
   ]
  },
  {
   "cell_type": "code",
   "execution_count": 3,
   "metadata": {},
   "outputs": [],
   "source": [
    "unseen_intakes = unseen_intakes.clean_names()"
   ]
  },
  {
   "cell_type": "markdown",
   "metadata": {},
   "source": [
    "#### Subset data to dogs and only get new data"
   ]
  },
  {
   "cell_type": "code",
   "execution_count": 4,
   "metadata": {},
   "outputs": [],
   "source": [
    "unseen_intakes = unseen_intakes[unseen_intakes['animal_type'] == 'Dog']"
   ]
  },
  {
   "cell_type": "code",
   "execution_count": 5,
   "metadata": {},
   "outputs": [],
   "source": [
    "unseen_intakes['datetime'] = pd.to_datetime(unseen_intakes['datetime'])"
   ]
  },
  {
   "cell_type": "code",
   "execution_count": 6,
   "metadata": {},
   "outputs": [],
   "source": [
    "unseen_intakes = unseen_intakes[unseen_intakes['datetime'].dt.date > pd.to_datetime('2021-05-16')]"
   ]
  },
  {
   "cell_type": "markdown",
   "metadata": {},
   "source": [
    "#### Add year and month columns"
   ]
  },
  {
   "cell_type": "code",
   "execution_count": 7,
   "metadata": {},
   "outputs": [],
   "source": [
    "unseen_intakes['intake_year'] = unseen_intakes['datetime'].dt.year\n",
    "unseen_intakes['intake_month'] = unseen_intakes['datetime'].dt.month"
   ]
  },
  {
   "cell_type": "markdown",
   "metadata": {},
   "source": [
    "#### Get sex and spay/neuter split"
   ]
  },
  {
   "cell_type": "code",
   "execution_count": 8,
   "metadata": {},
   "outputs": [],
   "source": [
    "unseen_intakes['sex_upon_intake'] = unseen_intakes['sex_upon_intake'].str.replace('Unknown', 'Unknown Unknown')\n",
    "unseen_intakes['sex_split'] = unseen_intakes['sex_upon_intake'].str.split(' ')\n",
    "unseen_intakes['spay_neuter'] = unseen_intakes['sex_upon_intake'].str.split(' ').str[0]\n",
    "unseen_intakes['sex'] = unseen_intakes['sex_upon_intake'].str.split(' ').str[1]"
   ]
  },
  {
   "cell_type": "markdown",
   "metadata": {},
   "source": [
    "#### Age in Years"
   ]
  },
  {
   "cell_type": "code",
   "execution_count": 9,
   "metadata": {},
   "outputs": [],
   "source": [
    "#age digit\n",
    "unseen_intakes['age_digit'] = [str.split(x, ' ')[0] for x in unseen_intakes['age_upon_intake']]\n",
    "unseen_intakes['age_digit'] = unseen_intakes['age_digit'].str.replace('-', '')\n",
    "unseen_intakes['age_digit'] = unseen_intakes['age_digit'].astype('int')\n",
    "\n",
    "#age unit\n",
    "unseen_intakes['age_unit'] = [str.split(x, ' ')[1] for x in unseen_intakes['age_upon_intake']]\n",
    "age_unit_dict = {\n",
    "    'year':'years',\n",
    "    'month':'months',\n",
    "    'week': 'weeks',\n",
    "    'day':'days'\n",
    "}\n",
    "\n",
    "unseen_intakes['age_unit'] = unseen_intakes['age_unit'].map(age_unit_dict).fillna(unseen_intakes['age_unit'])"
   ]
  },
  {
   "cell_type": "code",
   "execution_count": 10,
   "metadata": {},
   "outputs": [],
   "source": [
    "def age_in_years(unit):\n",
    "    if unit == 'years':\n",
    "        return 1\n",
    "    elif unit == 'months':\n",
    "        return 12\n",
    "    elif unit == 'weeks':\n",
    "        return 52.143\n",
    "    elif unit == 'days':\n",
    "        return 365"
   ]
  },
  {
   "cell_type": "code",
   "execution_count": 11,
   "metadata": {},
   "outputs": [],
   "source": [
    "unseen_intakes['age_conversion'] = [age_in_years(x) for x in unseen_intakes['age_unit']]\n",
    "unseen_intakes['age_in_years'] = round(unseen_intakes['age_digit'] / unseen_intakes['age_conversion'], 2)"
   ]
  },
  {
   "cell_type": "markdown",
   "metadata": {},
   "source": [
    "#### Breed"
   ]
  },
  {
   "cell_type": "code",
   "execution_count": 12,
   "metadata": {},
   "outputs": [],
   "source": [
    "unseen_intakes['breed'] = unseen_intakes['breed'].str.replace('Black/Tan Hound', 'Black and Tan Hound')"
   ]
  },
  {
   "cell_type": "code",
   "execution_count": 13,
   "metadata": {},
   "outputs": [],
   "source": [
    "#Mixed breeds either contain \"Mix\" or \"/\"\n",
    "unseen_intakes['mix_flag'] = np.where((unseen_intakes['breed'].str.contains(' Mix')) | (unseen_intakes['breed'].str.contains('\\/')), True, False)"
   ]
  },
  {
   "cell_type": "markdown",
   "metadata": {},
   "source": [
    "#### Category"
   ]
  },
  {
   "cell_type": "code",
   "execution_count": 14,
   "metadata": {},
   "outputs": [],
   "source": [
    "unseen_intakes['category'] = 'intake'"
   ]
  },
  {
   "cell_type": "code",
   "execution_count": 15,
   "metadata": {},
   "outputs": [],
   "source": [
    "columns_to_keep = [\n",
    "    'animal_id',\n",
    "    'intake_year',\n",
    "    'intake_month',\n",
    "    'datetime',\n",
    "    'intake_type',\n",
    "    'intake_condition',\n",
    "    'spay_neuter',\n",
    "    'age_in_years',\n",
    "    'breed',\n",
    "    'category'\n",
    "]\n",
    "\n",
    "unseen_intakes = unseen_intakes[columns_to_keep]"
   ]
  },
  {
   "cell_type": "markdown",
   "metadata": {},
   "source": [
    "### Unseen Outcomes"
   ]
  },
  {
   "cell_type": "code",
   "execution_count": 16,
   "metadata": {},
   "outputs": [],
   "source": [
    "unseen_outcomes = pd.read_csv('https://data.austintexas.gov/api/views/9t4d-g238/rows.csv?accessType=DOWNLOAD')"
   ]
  },
  {
   "cell_type": "code",
   "execution_count": 17,
   "metadata": {},
   "outputs": [],
   "source": [
    "unseen_outcomes = unseen_outcomes.clean_names()"
   ]
  },
  {
   "cell_type": "markdown",
   "metadata": {},
   "source": [
    "#### Subset data"
   ]
  },
  {
   "cell_type": "code",
   "execution_count": 18,
   "metadata": {},
   "outputs": [],
   "source": [
    "unseen_outcomes = unseen_outcomes[unseen_outcomes['animal_type'] == 'Dog']"
   ]
  },
  {
   "cell_type": "code",
   "execution_count": 19,
   "metadata": {},
   "outputs": [],
   "source": [
    "unseen_outcomes['datetime'] = pd.to_datetime(unseen_outcomes['datetime'])"
   ]
  },
  {
   "cell_type": "code",
   "execution_count": 20,
   "metadata": {},
   "outputs": [],
   "source": [
    "unseen_outcomes = unseen_outcomes[unseen_outcomes['datetime'].dt.date > pd.to_datetime('2021-05-16')]"
   ]
  },
  {
   "cell_type": "markdown",
   "metadata": {},
   "source": [
    "#### Category"
   ]
  },
  {
   "cell_type": "code",
   "execution_count": 21,
   "metadata": {},
   "outputs": [],
   "source": [
    "unseen_outcomes['category'] = 'outcome'"
   ]
  },
  {
   "cell_type": "markdown",
   "metadata": {},
   "source": [
    "#### Selecting columns"
   ]
  },
  {
   "cell_type": "code",
   "execution_count": 22,
   "metadata": {},
   "outputs": [],
   "source": [
    "unseen_outcomes = unseen_outcomes[['animal_id', 'datetime', 'outcome_type', 'category']]"
   ]
  },
  {
   "cell_type": "markdown",
   "metadata": {},
   "source": [
    "### Merge"
   ]
  },
  {
   "cell_type": "code",
   "execution_count": 23,
   "metadata": {},
   "outputs": [],
   "source": [
    "i_merge = unseen_intakes[['animal_id', 'datetime', 'category']]\n",
    "o_merge = unseen_outcomes[['animal_id', 'datetime', 'category']]"
   ]
  },
  {
   "cell_type": "code",
   "execution_count": 24,
   "metadata": {},
   "outputs": [],
   "source": [
    "intermediate = pd.concat([i_merge, o_merge]).sort_values('datetime')"
   ]
  },
  {
   "cell_type": "code",
   "execution_count": 25,
   "metadata": {},
   "outputs": [],
   "source": [
    "intermediate['time_shift'] = intermediate.groupby('animal_id').datetime.shift(-1)\n",
    "intermediate['next_event'] = intermediate.groupby('animal_id').category.shift(-1)"
   ]
  },
  {
   "cell_type": "code",
   "execution_count": 26,
   "metadata": {},
   "outputs": [
    {
     "data": {
      "text/html": [
       "<div>\n",
       "<style scoped>\n",
       "    .dataframe tbody tr th:only-of-type {\n",
       "        vertical-align: middle;\n",
       "    }\n",
       "\n",
       "    .dataframe tbody tr th {\n",
       "        vertical-align: top;\n",
       "    }\n",
       "\n",
       "    .dataframe thead th {\n",
       "        text-align: right;\n",
       "    }\n",
       "</style>\n",
       "<table border=\"1\" class=\"dataframe\">\n",
       "  <thead>\n",
       "    <tr style=\"text-align: right;\">\n",
       "      <th></th>\n",
       "      <th>animal_id</th>\n",
       "      <th>datetime</th>\n",
       "      <th>category</th>\n",
       "      <th>time_shift</th>\n",
       "      <th>next_event</th>\n",
       "    </tr>\n",
       "  </thead>\n",
       "  <tbody>\n",
       "    <tr>\n",
       "      <th>125926</th>\n",
       "      <td>A834676</td>\n",
       "      <td>2021-05-17 08:55:00</td>\n",
       "      <td>intake</td>\n",
       "      <td>2021-05-18 11:29:00</td>\n",
       "      <td>outcome</td>\n",
       "    </tr>\n",
       "    <tr>\n",
       "      <th>125896</th>\n",
       "      <td>A834682</td>\n",
       "      <td>2021-05-17 09:33:00</td>\n",
       "      <td>intake</td>\n",
       "      <td>2021-05-20 11:51:00</td>\n",
       "      <td>outcome</td>\n",
       "    </tr>\n",
       "    <tr>\n",
       "      <th>125897</th>\n",
       "      <td>A834683</td>\n",
       "      <td>2021-05-17 09:33:00</td>\n",
       "      <td>intake</td>\n",
       "      <td>2021-05-20 11:51:00</td>\n",
       "      <td>outcome</td>\n",
       "    </tr>\n",
       "    <tr>\n",
       "      <th>126860</th>\n",
       "      <td>A834472</td>\n",
       "      <td>2021-05-17 09:39:00</td>\n",
       "      <td>outcome</td>\n",
       "      <td>NaT</td>\n",
       "      <td>NaN</td>\n",
       "    </tr>\n",
       "    <tr>\n",
       "      <th>126366</th>\n",
       "      <td>A834609</td>\n",
       "      <td>2021-05-17 11:30:00</td>\n",
       "      <td>outcome</td>\n",
       "      <td>NaT</td>\n",
       "      <td>NaN</td>\n",
       "    </tr>\n",
       "    <tr>\n",
       "      <th>...</th>\n",
       "      <td>...</td>\n",
       "      <td>...</td>\n",
       "      <td>...</td>\n",
       "      <td>...</td>\n",
       "      <td>...</td>\n",
       "    </tr>\n",
       "    <tr>\n",
       "      <th>127076</th>\n",
       "      <td>A836125</td>\n",
       "      <td>2021-06-08 13:05:00</td>\n",
       "      <td>outcome</td>\n",
       "      <td>NaT</td>\n",
       "      <td>NaN</td>\n",
       "    </tr>\n",
       "    <tr>\n",
       "      <th>127078</th>\n",
       "      <td>A835508</td>\n",
       "      <td>2021-06-08 14:10:00</td>\n",
       "      <td>outcome</td>\n",
       "      <td>NaT</td>\n",
       "      <td>NaN</td>\n",
       "    </tr>\n",
       "    <tr>\n",
       "      <th>127081</th>\n",
       "      <td>A835502</td>\n",
       "      <td>2021-06-08 14:10:00</td>\n",
       "      <td>outcome</td>\n",
       "      <td>NaT</td>\n",
       "      <td>NaN</td>\n",
       "    </tr>\n",
       "    <tr>\n",
       "      <th>126878</th>\n",
       "      <td>A836297</td>\n",
       "      <td>2021-06-08 14:15:00</td>\n",
       "      <td>intake</td>\n",
       "      <td>NaT</td>\n",
       "      <td>NaN</td>\n",
       "    </tr>\n",
       "    <tr>\n",
       "      <th>127080</th>\n",
       "      <td>A787383</td>\n",
       "      <td>2021-06-08 14:52:00</td>\n",
       "      <td>outcome</td>\n",
       "      <td>NaT</td>\n",
       "      <td>NaN</td>\n",
       "    </tr>\n",
       "  </tbody>\n",
       "</table>\n",
       "<p>706 rows × 5 columns</p>\n",
       "</div>"
      ],
      "text/plain": [
       "       animal_id            datetime category          time_shift next_event\n",
       "125926   A834676 2021-05-17 08:55:00   intake 2021-05-18 11:29:00    outcome\n",
       "125896   A834682 2021-05-17 09:33:00   intake 2021-05-20 11:51:00    outcome\n",
       "125897   A834683 2021-05-17 09:33:00   intake 2021-05-20 11:51:00    outcome\n",
       "126860   A834472 2021-05-17 09:39:00  outcome                 NaT        NaN\n",
       "126366   A834609 2021-05-17 11:30:00  outcome                 NaT        NaN\n",
       "...          ...                 ...      ...                 ...        ...\n",
       "127076   A836125 2021-06-08 13:05:00  outcome                 NaT        NaN\n",
       "127078   A835508 2021-06-08 14:10:00  outcome                 NaT        NaN\n",
       "127081   A835502 2021-06-08 14:10:00  outcome                 NaT        NaN\n",
       "126878   A836297 2021-06-08 14:15:00   intake                 NaT        NaN\n",
       "127080   A787383 2021-06-08 14:52:00  outcome                 NaT        NaN\n",
       "\n",
       "[706 rows x 5 columns]"
      ]
     },
     "execution_count": 26,
     "metadata": {},
     "output_type": "execute_result"
    }
   ],
   "source": [
    "intermediate"
   ]
  },
  {
   "cell_type": "code",
   "execution_count": 27,
   "metadata": {},
   "outputs": [],
   "source": [
    "intermediate = intermediate[(intermediate['category'] == 'intake') & (intermediate['next_event'] == 'outcome')]"
   ]
  },
  {
   "cell_type": "code",
   "execution_count": 28,
   "metadata": {},
   "outputs": [
    {
     "data": {
      "text/html": [
       "<div>\n",
       "<style scoped>\n",
       "    .dataframe tbody tr th:only-of-type {\n",
       "        vertical-align: middle;\n",
       "    }\n",
       "\n",
       "    .dataframe tbody tr th {\n",
       "        vertical-align: top;\n",
       "    }\n",
       "\n",
       "    .dataframe thead th {\n",
       "        text-align: right;\n",
       "    }\n",
       "</style>\n",
       "<table border=\"1\" class=\"dataframe\">\n",
       "  <thead>\n",
       "    <tr style=\"text-align: right;\">\n",
       "      <th></th>\n",
       "      <th>animal_id</th>\n",
       "      <th>datetime</th>\n",
       "      <th>category</th>\n",
       "      <th>time_shift</th>\n",
       "      <th>next_event</th>\n",
       "    </tr>\n",
       "  </thead>\n",
       "  <tbody>\n",
       "    <tr>\n",
       "      <th>125926</th>\n",
       "      <td>A834676</td>\n",
       "      <td>2021-05-17 08:55:00</td>\n",
       "      <td>intake</td>\n",
       "      <td>2021-05-18 11:29:00</td>\n",
       "      <td>outcome</td>\n",
       "    </tr>\n",
       "    <tr>\n",
       "      <th>125896</th>\n",
       "      <td>A834682</td>\n",
       "      <td>2021-05-17 09:33:00</td>\n",
       "      <td>intake</td>\n",
       "      <td>2021-05-20 11:51:00</td>\n",
       "      <td>outcome</td>\n",
       "    </tr>\n",
       "    <tr>\n",
       "      <th>125897</th>\n",
       "      <td>A834683</td>\n",
       "      <td>2021-05-17 09:33:00</td>\n",
       "      <td>intake</td>\n",
       "      <td>2021-05-20 11:51:00</td>\n",
       "      <td>outcome</td>\n",
       "    </tr>\n",
       "    <tr>\n",
       "      <th>126058</th>\n",
       "      <td>A833321</td>\n",
       "      <td>2021-05-17 12:58:00</td>\n",
       "      <td>intake</td>\n",
       "      <td>2021-05-20 12:57:00</td>\n",
       "      <td>outcome</td>\n",
       "    </tr>\n",
       "    <tr>\n",
       "      <th>125906</th>\n",
       "      <td>A834710</td>\n",
       "      <td>2021-05-17 13:10:00</td>\n",
       "      <td>intake</td>\n",
       "      <td>2021-05-20 11:24:00</td>\n",
       "      <td>outcome</td>\n",
       "    </tr>\n",
       "    <tr>\n",
       "      <th>...</th>\n",
       "      <td>...</td>\n",
       "      <td>...</td>\n",
       "      <td>...</td>\n",
       "      <td>...</td>\n",
       "      <td>...</td>\n",
       "    </tr>\n",
       "    <tr>\n",
       "      <th>126860</th>\n",
       "      <td>A836087</td>\n",
       "      <td>2021-06-05 15:02:00</td>\n",
       "      <td>intake</td>\n",
       "      <td>2021-06-05 16:02:00</td>\n",
       "      <td>outcome</td>\n",
       "    </tr>\n",
       "    <tr>\n",
       "      <th>126857</th>\n",
       "      <td>A836090</td>\n",
       "      <td>2021-06-05 15:23:00</td>\n",
       "      <td>intake</td>\n",
       "      <td>2021-06-07 12:00:00</td>\n",
       "      <td>outcome</td>\n",
       "    </tr>\n",
       "    <tr>\n",
       "      <th>126942</th>\n",
       "      <td>A836112</td>\n",
       "      <td>2021-06-06 10:05:00</td>\n",
       "      <td>intake</td>\n",
       "      <td>2021-06-07 12:01:00</td>\n",
       "      <td>outcome</td>\n",
       "    </tr>\n",
       "    <tr>\n",
       "      <th>127026</th>\n",
       "      <td>A836125</td>\n",
       "      <td>2021-06-06 11:36:00</td>\n",
       "      <td>intake</td>\n",
       "      <td>2021-06-08 13:05:00</td>\n",
       "      <td>outcome</td>\n",
       "    </tr>\n",
       "    <tr>\n",
       "      <th>126997</th>\n",
       "      <td>A836146</td>\n",
       "      <td>2021-06-06 18:16:00</td>\n",
       "      <td>intake</td>\n",
       "      <td>2021-06-07 17:41:00</td>\n",
       "      <td>outcome</td>\n",
       "    </tr>\n",
       "  </tbody>\n",
       "</table>\n",
       "<p>195 rows × 5 columns</p>\n",
       "</div>"
      ],
      "text/plain": [
       "       animal_id            datetime category          time_shift next_event\n",
       "125926   A834676 2021-05-17 08:55:00   intake 2021-05-18 11:29:00    outcome\n",
       "125896   A834682 2021-05-17 09:33:00   intake 2021-05-20 11:51:00    outcome\n",
       "125897   A834683 2021-05-17 09:33:00   intake 2021-05-20 11:51:00    outcome\n",
       "126058   A833321 2021-05-17 12:58:00   intake 2021-05-20 12:57:00    outcome\n",
       "125906   A834710 2021-05-17 13:10:00   intake 2021-05-20 11:24:00    outcome\n",
       "...          ...                 ...      ...                 ...        ...\n",
       "126860   A836087 2021-06-05 15:02:00   intake 2021-06-05 16:02:00    outcome\n",
       "126857   A836090 2021-06-05 15:23:00   intake 2021-06-07 12:00:00    outcome\n",
       "126942   A836112 2021-06-06 10:05:00   intake 2021-06-07 12:01:00    outcome\n",
       "127026   A836125 2021-06-06 11:36:00   intake 2021-06-08 13:05:00    outcome\n",
       "126997   A836146 2021-06-06 18:16:00   intake 2021-06-07 17:41:00    outcome\n",
       "\n",
       "[195 rows x 5 columns]"
      ]
     },
     "execution_count": 28,
     "metadata": {},
     "output_type": "execute_result"
    }
   ],
   "source": [
    "intermediate"
   ]
  },
  {
   "cell_type": "code",
   "execution_count": 29,
   "metadata": {},
   "outputs": [],
   "source": [
    "intermediate = intermediate.merge(unseen_intakes, on=['animal_id', 'datetime'], suffixes=['_inter', '_intakes'])"
   ]
  },
  {
   "cell_type": "code",
   "execution_count": 30,
   "metadata": {},
   "outputs": [],
   "source": [
    "unseen_merged = intermediate.merge(unseen_outcomes, left_on=['animal_id', 'time_shift'], right_on=['animal_id', 'datetime'])"
   ]
  },
  {
   "cell_type": "markdown",
   "metadata": {},
   "source": [
    "#### Subset to \"Normal\" intake condition"
   ]
  },
  {
   "cell_type": "code",
   "execution_count": 31,
   "metadata": {},
   "outputs": [],
   "source": [
    "unseen_merged = unseen_merged[unseen_merged['intake_condition'] == 'Normal']"
   ]
  },
  {
   "cell_type": "markdown",
   "metadata": {},
   "source": [
    "#### Rename Columns"
   ]
  },
  {
   "cell_type": "code",
   "execution_count": 32,
   "metadata": {},
   "outputs": [],
   "source": [
    "unseen_merged = unseen_merged.rename(columns={'spay_neuter':'intake_spay_neuter', \n",
    "                                              'breed_x':'breed',\n",
    "                                             'age_in_years':'intake_age_in_years'})"
   ]
  },
  {
   "cell_type": "code",
   "execution_count": 33,
   "metadata": {},
   "outputs": [
    {
     "data": {
      "text/plain": [
       "Index(['animal_id', 'datetime_x', 'category_inter', 'time_shift', 'next_event',\n",
       "       'intake_year', 'intake_month', 'intake_type', 'intake_condition',\n",
       "       'intake_spay_neuter', 'intake_age_in_years', 'breed',\n",
       "       'category_intakes', 'datetime_y', 'outcome_type', 'category'],\n",
       "      dtype='object')"
      ]
     },
     "execution_count": 33,
     "metadata": {},
     "output_type": "execute_result"
    }
   ],
   "source": [
    "unseen_merged.columns"
   ]
  },
  {
   "cell_type": "markdown",
   "metadata": {},
   "source": [
    "#### Select Columns"
   ]
  },
  {
   "cell_type": "code",
   "execution_count": 35,
   "metadata": {},
   "outputs": [],
   "source": [
    "unseen_merged = unseen_merged[['intake_type', 'intake_year', 'intake_month', 'intake_spay_neuter', 'breed', 'intake_age_in_years', 'outcome_type']]"
   ]
  },
  {
   "cell_type": "code",
   "execution_count": 36,
   "metadata": {},
   "outputs": [],
   "source": [
    "unseen_merged.to_csv('../data/unseen_data', index=False)"
   ]
  },
  {
   "cell_type": "code",
   "execution_count": null,
   "metadata": {},
   "outputs": [],
   "source": []
  }
 ],
 "metadata": {
  "kernelspec": {
   "display_name": "Python 3",
   "language": "python",
   "name": "python3"
  },
  "language_info": {
   "codemirror_mode": {
    "name": "ipython",
    "version": 3
   },
   "file_extension": ".py",
   "mimetype": "text/x-python",
   "name": "python",
   "nbconvert_exporter": "python",
   "pygments_lexer": "ipython3",
   "version": "3.8.3"
  }
 },
 "nbformat": 4,
 "nbformat_minor": 4
}
