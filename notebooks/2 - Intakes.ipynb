{
 "cells": [
  {
   "cell_type": "markdown",
   "metadata": {},
   "source": [
    "# Intakes Data"
   ]
  },
  {
   "cell_type": "markdown",
   "metadata": {},
   "source": [
    "#### Imports"
   ]
  },
  {
   "cell_type": "code",
   "execution_count": 1,
   "metadata": {},
   "outputs": [],
   "source": [
    "import pandas as pd\n",
    "import janitor\n",
    "import numpy as np\n",
    "import re"
   ]
  },
  {
   "cell_type": "markdown",
   "metadata": {},
   "source": [
    "#### Read in data"
   ]
  },
  {
   "cell_type": "code",
   "execution_count": 2,
   "metadata": {},
   "outputs": [],
   "source": [
    "intakes = pd.read_csv('../data/intakes.csv')"
   ]
  },
  {
   "cell_type": "markdown",
   "metadata": {},
   "source": [
    "#### Standardize column names"
   ]
  },
  {
   "cell_type": "code",
   "execution_count": 3,
   "metadata": {},
   "outputs": [],
   "source": [
    "intakes = intakes.clean_names() #from janitor package"
   ]
  },
  {
   "cell_type": "markdown",
   "metadata": {},
   "source": [
    "## Clean columns"
   ]
  },
  {
   "cell_type": "markdown",
   "metadata": {},
   "source": [
    "#### Name"
   ]
  },
  {
   "cell_type": "code",
   "execution_count": 4,
   "metadata": {},
   "outputs": [
    {
     "data": {
      "text/plain": [
       "False    0.669175\n",
       "True     0.330825\n",
       "Name: name, dtype: float64"
      ]
     },
     "execution_count": 4,
     "metadata": {},
     "output_type": "execute_result"
    }
   ],
   "source": [
    "intakes['name'].str.startswith(\"*\").value_counts(normalize=True)"
   ]
  },
  {
   "cell_type": "code",
   "execution_count": 5,
   "metadata": {},
   "outputs": [],
   "source": [
    "#after doing some research, I couldn't any info on why some names have the *\n",
    "intakes['name'] = intakes['name'].str.replace('*', '') "
   ]
  },
  {
   "cell_type": "markdown",
   "metadata": {},
   "source": [
    "#### Date time"
   ]
  },
  {
   "cell_type": "code",
   "execution_count": 6,
   "metadata": {},
   "outputs": [],
   "source": [
    "intakes['datetime'] = pd.to_datetime(intakes['datetime'])"
   ]
  },
  {
   "cell_type": "markdown",
   "metadata": {},
   "source": [
    "#### Month year"
   ]
  },
  {
   "cell_type": "code",
   "execution_count": 7,
   "metadata": {},
   "outputs": [],
   "source": [
    "intakes = intakes.drop(columns='monthyear') # we'll add this as a feature later if needed"
   ]
  },
  {
   "cell_type": "markdown",
   "metadata": {},
   "source": [
    "#### Found location"
   ]
  },
  {
   "cell_type": "code",
   "execution_count": 8,
   "metadata": {},
   "outputs": [
    {
     "data": {
      "text/plain": [
       "0             2501 Magin Meadow Dr in Austin (TX)\n",
       "1                9409 Bluegrass Dr in Austin (TX)\n",
       "2              2818 Palomino Trail in Austin (TX)\n",
       "3                                     Austin (TX)\n",
       "4                   800 Grove Blvd in Austin (TX)\n",
       "                           ...                   \n",
       "126138           124 W Anderson Ln in Austin (TX)\n",
       "126139    1912 E William Cannon Dr in Austin (TX)\n",
       "126140         Cesar Chavez Street in Austin (TX)\n",
       "126141       1000 East 41St Street in Austin (TX)\n",
       "126142          5020Bonneville Bnd in Austin (TX)\n",
       "Name: found_location, Length: 126143, dtype: object"
      ]
     },
     "execution_count": 8,
     "metadata": {},
     "output_type": "execute_result"
    }
   ],
   "source": [
    "intakes['found_location']"
   ]
  },
  {
   "cell_type": "markdown",
   "metadata": {},
   "source": [
    "The pattern of this column is: <br>\n",
    "    1) Street address that starts with numbers and ends with \"in __ (TX)\" <br>\n",
    "    2) City that is formatted like \"__ (TX)\""
   ]
  },
  {
   "cell_type": "code",
   "execution_count": 9,
   "metadata": {},
   "outputs": [],
   "source": [
    "intakes['found_location_split'] = intakes['found_location'].str.split(' in ')"
   ]
  },
  {
   "cell_type": "code",
   "execution_count": 10,
   "metadata": {},
   "outputs": [],
   "source": [
    "intakes['found_address'] = [x[0] if len(x) > 1 else np.nan for x in intakes['found_location_split']]"
   ]
  },
  {
   "cell_type": "code",
   "execution_count": 11,
   "metadata": {},
   "outputs": [],
   "source": [
    "intakes['found_city'] = [x[1] if len(x) > 1 else x[0] for x in intakes['found_location_split']]"
   ]
  },
  {
   "cell_type": "code",
   "execution_count": 12,
   "metadata": {},
   "outputs": [],
   "source": [
    "# function returns the string if it starts with a number otherwise returns NaN\n",
    "\n",
    "def contains_numbers(string):\n",
    "    match = re.search('^\\d', string)\n",
    "    \n",
    "    if match == None:\n",
    "        return np.nan\n",
    "    else:\n",
    "        return string"
   ]
  },
  {
   "cell_type": "code",
   "execution_count": 13,
   "metadata": {},
   "outputs": [],
   "source": [
    "intakes['found_address'] = [contains_numbers(str(x)) for x in intakes['found_address']]"
   ]
  },
  {
   "cell_type": "markdown",
   "metadata": {},
   "source": [
    "#### Intake Type"
   ]
  },
  {
   "cell_type": "code",
   "execution_count": 14,
   "metadata": {},
   "outputs": [
    {
     "data": {
      "text/plain": [
       "Stray                 87635\n",
       "Owner Surrender       25085\n",
       "Public Assist          7734\n",
       "Wildlife               5047\n",
       "Abandoned               385\n",
       "Euthanasia Request      257\n",
       "Name: intake_type, dtype: int64"
      ]
     },
     "execution_count": 14,
     "metadata": {},
     "output_type": "execute_result"
    }
   ],
   "source": [
    "intakes['intake_type'].value_counts()"
   ]
  },
  {
   "cell_type": "markdown",
   "metadata": {},
   "source": [
    "#### Animal Type"
   ]
  },
  {
   "cell_type": "code",
   "execution_count": 15,
   "metadata": {},
   "outputs": [
    {
     "data": {
      "text/plain": [
       "Dog          71465\n",
       "Cat          47272\n",
       "Other         6789\n",
       "Bird           595\n",
       "Livestock       22\n",
       "Name: animal_type, dtype: int64"
      ]
     },
     "execution_count": 15,
     "metadata": {},
     "output_type": "execute_result"
    }
   ],
   "source": [
    "intakes['animal_type'].value_counts()"
   ]
  },
  {
   "cell_type": "markdown",
   "metadata": {},
   "source": [
    "#### Sex upon intake"
   ]
  },
  {
   "cell_type": "code",
   "execution_count": 16,
   "metadata": {},
   "outputs": [
    {
     "data": {
      "text/plain": [
       "Intact Male      41015\n",
       "Intact Female    38794\n",
       "Neutered Male    19389\n",
       "Spayed Female    16530\n",
       "Unknown          10414\n",
       "Name: sex_upon_intake, dtype: int64"
      ]
     },
     "execution_count": 16,
     "metadata": {},
     "output_type": "execute_result"
    }
   ],
   "source": [
    "intakes['sex_upon_intake'].value_counts()"
   ]
  },
  {
   "cell_type": "code",
   "execution_count": 17,
   "metadata": {},
   "outputs": [],
   "source": [
    "intakes['sex_upon_intake'] = intakes['sex_upon_intake'].str.replace('Unknown', 'Unknown Unknown')"
   ]
  },
  {
   "cell_type": "code",
   "execution_count": 18,
   "metadata": {},
   "outputs": [],
   "source": [
    "intakes['sex_split'] = intakes['sex_upon_intake'].str.split(' ')"
   ]
  },
  {
   "cell_type": "code",
   "execution_count": 19,
   "metadata": {},
   "outputs": [
    {
     "data": {
      "text/plain": [
       "[Intact, Male]        41015\n",
       "[Intact, Female]      38794\n",
       "[Neutered, Male]      19389\n",
       "[Spayed, Female]      16530\n",
       "[Unknown, Unknown]    10414\n",
       "Name: sex_split, dtype: int64"
      ]
     },
     "execution_count": 19,
     "metadata": {},
     "output_type": "execute_result"
    }
   ],
   "source": [
    "intakes['sex_split'].value_counts()"
   ]
  },
  {
   "cell_type": "code",
   "execution_count": 20,
   "metadata": {},
   "outputs": [
    {
     "data": {
      "text/plain": [
       "'Spayed'"
      ]
     },
     "execution_count": 20,
     "metadata": {},
     "output_type": "execute_result"
    }
   ],
   "source": [
    "intakes['sex_split'][1][0]"
   ]
  },
  {
   "cell_type": "code",
   "execution_count": 21,
   "metadata": {},
   "outputs": [
    {
     "data": {
      "text/plain": [
       "'Male'"
      ]
     },
     "execution_count": 21,
     "metadata": {},
     "output_type": "execute_result"
    }
   ],
   "source": [
    "intakes['sex_split'][0][1]"
   ]
  },
  {
   "cell_type": "code",
   "execution_count": 22,
   "metadata": {},
   "outputs": [],
   "source": [
    "intakes['spay_neuter'] = intakes['sex_upon_intake'].str.split(' ').str[0]"
   ]
  },
  {
   "cell_type": "code",
   "execution_count": 23,
   "metadata": {},
   "outputs": [],
   "source": [
    "intakes['sex'] = intakes['sex_upon_intake'].str.split(' ').str[1]"
   ]
  },
  {
   "cell_type": "markdown",
   "metadata": {},
   "source": [
    "#### Age upon intake"
   ]
  },
  {
   "cell_type": "code",
   "execution_count": 24,
   "metadata": {},
   "outputs": [
    {
     "data": {
      "text/plain": [
       "1 year       22083\n",
       "2 years      19446\n",
       "1 month      12052\n",
       "3 years       7537\n",
       "2 months      6823\n",
       "4 weeks       4515\n",
       "4 years       4513\n",
       "5 years       4128\n",
       "3 weeks       3701\n",
       "3 months      3326\n",
       "4 months      3237\n",
       "5 months      3112\n",
       "6 years       2755\n",
       "2 weeks       2586\n",
       "6 months      2414\n",
       "7 years       2357\n",
       "8 years       2308\n",
       "7 months      1885\n",
       "10 years      1856\n",
       "9 months      1844\n",
       "8 months      1507\n",
       "9 years       1346\n",
       "1 week        1054\n",
       "10 months     1030\n",
       "1 weeks        927\n",
       "12 years       888\n",
       "11 months      806\n",
       "0 years        765\n",
       "11 years       756\n",
       "1 day          671\n",
       "3 days         591\n",
       "13 years       583\n",
       "2 days         500\n",
       "14 years       395\n",
       "15 years       341\n",
       "4 days         329\n",
       "6 days         327\n",
       "5 weeks        320\n",
       "5 days         188\n",
       "16 years       146\n",
       "17 years        82\n",
       "18 years        50\n",
       "19 years        27\n",
       "20 years        20\n",
       "-1 years         5\n",
       "22 years         5\n",
       "25 years         1\n",
       "-2 years         1\n",
       "24 years         1\n",
       "-3 years         1\n",
       "23 years         1\n",
       "21 years         1\n",
       "Name: age_upon_intake, dtype: int64"
      ]
     },
     "execution_count": 24,
     "metadata": {},
     "output_type": "execute_result"
    }
   ],
   "source": [
    "intakes['age_upon_intake'].value_counts()"
   ]
  },
  {
   "cell_type": "markdown",
   "metadata": {},
   "source": [
    "Strategy is to split the digit from the unit of time. Standardize to year. Make function to multiply digit based on unit of time"
   ]
  },
  {
   "cell_type": "code",
   "execution_count": 25,
   "metadata": {},
   "outputs": [],
   "source": [
    "intakes['age_digit'] = [str.split(x, ' ')[0] for x in intakes['age_upon_intake']]"
   ]
  },
  {
   "cell_type": "code",
   "execution_count": 26,
   "metadata": {},
   "outputs": [
    {
     "data": {
      "text/plain": [
       "1     36787\n",
       "2     29355\n",
       "3     15155\n",
       "4     12594\n",
       "5      7748\n",
       "6      5496\n",
       "7      4242\n",
       "8      3815\n",
       "9      3190\n",
       "10     2886\n",
       "11     1562\n",
       "12      888\n",
       "0       765\n",
       "13      583\n",
       "14      395\n",
       "15      341\n",
       "16      146\n",
       "17       82\n",
       "18       50\n",
       "19       27\n",
       "20       20\n",
       "-1        5\n",
       "22        5\n",
       "-3        1\n",
       "25        1\n",
       "24        1\n",
       "23        1\n",
       "21        1\n",
       "-2        1\n",
       "Name: age_digit, dtype: int64"
      ]
     },
     "execution_count": 26,
     "metadata": {},
     "output_type": "execute_result"
    }
   ],
   "source": [
    "intakes['age_digit'].value_counts()"
   ]
  },
  {
   "cell_type": "markdown",
   "metadata": {},
   "source": [
    "There are 7 negative values in the dataset that suggest the animal is less than __ years old (ex: -1 years old means less than 1 year old). Because these are estimates from the shelter, we'll convert them to positive numbers. Overall, the age numbers should not be taken as absolute truth"
   ]
  },
  {
   "cell_type": "code",
   "execution_count": 27,
   "metadata": {},
   "outputs": [],
   "source": [
    "intakes['age_digit'] = intakes['age_digit'].str.replace('-', '')"
   ]
  },
  {
   "cell_type": "code",
   "execution_count": 28,
   "metadata": {},
   "outputs": [],
   "source": [
    "intakes['age_digit'] = intakes['age_digit'].astype('int')"
   ]
  },
  {
   "cell_type": "code",
   "execution_count": 29,
   "metadata": {},
   "outputs": [],
   "source": [
    "intakes['age_unit'] = [str.split(x, ' ')[1] for x in intakes['age_upon_intake']]"
   ]
  },
  {
   "cell_type": "code",
   "execution_count": 30,
   "metadata": {},
   "outputs": [
    {
     "data": {
      "text/plain": [
       "years     50315\n",
       "months    25984\n",
       "year      22083\n",
       "month     12052\n",
       "weeks     12049\n",
       "days       1935\n",
       "week       1054\n",
       "day         671\n",
       "Name: age_unit, dtype: int64"
      ]
     },
     "execution_count": 30,
     "metadata": {},
     "output_type": "execute_result"
    }
   ],
   "source": [
    "intakes['age_unit'].value_counts()"
   ]
  },
  {
   "cell_type": "code",
   "execution_count": 31,
   "metadata": {},
   "outputs": [],
   "source": [
    "age_unit_dict = {\n",
    "    'year':'years',\n",
    "    'month':'months',\n",
    "    'week': 'weeks',\n",
    "    'day':'days'\n",
    "}\n",
    "\n",
    "intakes['age_unit'] = intakes['age_unit'].map(age_unit_dict).fillna(intakes['age_unit'])"
   ]
  },
  {
   "cell_type": "code",
   "execution_count": 32,
   "metadata": {},
   "outputs": [
    {
     "data": {
      "text/plain": [
       "years     72398\n",
       "months    38036\n",
       "weeks     13103\n",
       "days       2606\n",
       "Name: age_unit, dtype: int64"
      ]
     },
     "execution_count": 32,
     "metadata": {},
     "output_type": "execute_result"
    }
   ],
   "source": [
    "intakes['age_unit'].value_counts()"
   ]
  },
  {
   "cell_type": "code",
   "execution_count": 33,
   "metadata": {},
   "outputs": [],
   "source": [
    "def age_in_years(unit):\n",
    "    if unit == 'years':\n",
    "        return 1\n",
    "    elif unit == 'months':\n",
    "        return 12\n",
    "    elif unit == 'weeks':\n",
    "        return 52.143\n",
    "    elif unit == 'days':\n",
    "        return 365"
   ]
  },
  {
   "cell_type": "code",
   "execution_count": 34,
   "metadata": {},
   "outputs": [],
   "source": [
    "intakes['age_conversion'] = [age_in_years(x) for x in intakes['age_unit']]\n",
    "\n"
   ]
  },
  {
   "cell_type": "code",
   "execution_count": 35,
   "metadata": {},
   "outputs": [],
   "source": [
    "intakes['age_in_years'] = round(intakes['age_digit'] / intakes['age_conversion'], 2)"
   ]
  },
  {
   "cell_type": "markdown",
   "metadata": {},
   "source": [
    "#### Breed"
   ]
  },
  {
   "cell_type": "code",
   "execution_count": 36,
   "metadata": {},
   "outputs": [],
   "source": [
    "intakes['breed_1'] = intakes['breed'].str.split('\\/').str[0]"
   ]
  },
  {
   "cell_type": "code",
   "execution_count": 37,
   "metadata": {},
   "outputs": [],
   "source": [
    "intakes['breed_2'] = intakes['breed'].str.split('\\/').str[1]"
   ]
  },
  {
   "cell_type": "code",
   "execution_count": 38,
   "metadata": {},
   "outputs": [],
   "source": [
    "intakes['breed_3'] = intakes['breed'].str.split('\\/').str[2]"
   ]
  },
  {
   "cell_type": "code",
   "execution_count": 39,
   "metadata": {},
   "outputs": [
    {
     "data": {
      "text/plain": [
       "0          True\n",
       "1         False\n",
       "2          True\n",
       "3          True\n",
       "4         False\n",
       "          ...  \n",
       "126138    False\n",
       "126139    False\n",
       "126140    False\n",
       "126141    False\n",
       "126142     True\n",
       "Name: breed_1, Length: 126143, dtype: bool"
      ]
     },
     "execution_count": 39,
     "metadata": {},
     "output_type": "execute_result"
    }
   ],
   "source": [
    "intakes['breed_1'].str.contains('Mix', case=False)"
   ]
  },
  {
   "cell_type": "code",
   "execution_count": 40,
   "metadata": {},
   "outputs": [
    {
     "data": {
      "text/plain": [
       "Domestic Shorthair Mix       31086\n",
       "Pit Bull Mix                  8471\n",
       "Domestic Shorthair            7629\n",
       "Labrador Retriever Mix        6926\n",
       "Chihuahua Shorthair Mix       6253\n",
       "Labrador Retriever            3141\n",
       "Domestic Medium Hair Mix      3118\n",
       "German Shepherd Mix           3038\n",
       "Pit Bull                      2088\n",
       "Chihuahua Shorthair           2038\n",
       "Bat Mix                       1756\n",
       "German Shepherd               1723\n",
       "Bat                           1571\n",
       "Domestic Longhair Mix         1543\n",
       "Australian Cattle Dog Mix     1521\n",
       "Siamese Mix                   1291\n",
       "Dachshund Mix                 1048\n",
       "Boxer Mix                      984\n",
       "Border Collie Mix              951\n",
       "Miniature Poodle Mix           861\n",
       "Name: breed_1, dtype: int64"
      ]
     },
     "execution_count": 40,
     "metadata": {},
     "output_type": "execute_result"
    }
   ],
   "source": [
    "intakes['breed_1'].value_counts().head(20)"
   ]
  },
  {
   "cell_type": "code",
   "execution_count": 41,
   "metadata": {},
   "outputs": [
    {
     "data": {
      "text/html": [
       "<div>\n",
       "<style scoped>\n",
       "    .dataframe tbody tr th:only-of-type {\n",
       "        vertical-align: middle;\n",
       "    }\n",
       "\n",
       "    .dataframe tbody tr th {\n",
       "        vertical-align: top;\n",
       "    }\n",
       "\n",
       "    .dataframe thead th {\n",
       "        text-align: right;\n",
       "    }\n",
       "</style>\n",
       "<table border=\"1\" class=\"dataframe\">\n",
       "  <thead>\n",
       "    <tr style=\"text-align: right;\">\n",
       "      <th></th>\n",
       "      <th>animal_id</th>\n",
       "      <th>animal_type</th>\n",
       "      <th>breed</th>\n",
       "      <th>breed_1</th>\n",
       "      <th>breed_2</th>\n",
       "      <th>breed_3</th>\n",
       "    </tr>\n",
       "  </thead>\n",
       "  <tbody>\n",
       "    <tr>\n",
       "      <th>0</th>\n",
       "      <td>A786884</td>\n",
       "      <td>Dog</td>\n",
       "      <td>Beagle Mix</td>\n",
       "      <td>Beagle Mix</td>\n",
       "      <td>NaN</td>\n",
       "      <td>NaN</td>\n",
       "    </tr>\n",
       "    <tr>\n",
       "      <th>1</th>\n",
       "      <td>A706918</td>\n",
       "      <td>Dog</td>\n",
       "      <td>English Springer Spaniel</td>\n",
       "      <td>English Springer Spaniel</td>\n",
       "      <td>NaN</td>\n",
       "      <td>NaN</td>\n",
       "    </tr>\n",
       "    <tr>\n",
       "      <th>2</th>\n",
       "      <td>A724273</td>\n",
       "      <td>Dog</td>\n",
       "      <td>Basenji Mix</td>\n",
       "      <td>Basenji Mix</td>\n",
       "      <td>NaN</td>\n",
       "      <td>NaN</td>\n",
       "    </tr>\n",
       "    <tr>\n",
       "      <th>3</th>\n",
       "      <td>A665644</td>\n",
       "      <td>Cat</td>\n",
       "      <td>Domestic Shorthair Mix</td>\n",
       "      <td>Domestic Shorthair Mix</td>\n",
       "      <td>NaN</td>\n",
       "      <td>NaN</td>\n",
       "    </tr>\n",
       "    <tr>\n",
       "      <th>4</th>\n",
       "      <td>A682524</td>\n",
       "      <td>Dog</td>\n",
       "      <td>Doberman Pinsch/Australian Cattle Dog</td>\n",
       "      <td>Doberman Pinsch</td>\n",
       "      <td>Australian Cattle Dog</td>\n",
       "      <td>NaN</td>\n",
       "    </tr>\n",
       "    <tr>\n",
       "      <th>...</th>\n",
       "      <td>...</td>\n",
       "      <td>...</td>\n",
       "      <td>...</td>\n",
       "      <td>...</td>\n",
       "      <td>...</td>\n",
       "      <td>...</td>\n",
       "    </tr>\n",
       "    <tr>\n",
       "      <th>126138</th>\n",
       "      <td>A834632</td>\n",
       "      <td>Other</td>\n",
       "      <td>Guinea Pig</td>\n",
       "      <td>Guinea Pig</td>\n",
       "      <td>NaN</td>\n",
       "      <td>NaN</td>\n",
       "    </tr>\n",
       "    <tr>\n",
       "      <th>126139</th>\n",
       "      <td>A834626</td>\n",
       "      <td>Cat</td>\n",
       "      <td>Domestic Shorthair</td>\n",
       "      <td>Domestic Shorthair</td>\n",
       "      <td>NaN</td>\n",
       "      <td>NaN</td>\n",
       "    </tr>\n",
       "    <tr>\n",
       "      <th>126140</th>\n",
       "      <td>A834634</td>\n",
       "      <td>Dog</td>\n",
       "      <td>Unknown</td>\n",
       "      <td>Unknown</td>\n",
       "      <td>NaN</td>\n",
       "      <td>NaN</td>\n",
       "    </tr>\n",
       "    <tr>\n",
       "      <th>126141</th>\n",
       "      <td>A834633</td>\n",
       "      <td>Cat</td>\n",
       "      <td>Domestic Shorthair</td>\n",
       "      <td>Domestic Shorthair</td>\n",
       "      <td>NaN</td>\n",
       "      <td>NaN</td>\n",
       "    </tr>\n",
       "    <tr>\n",
       "      <th>126142</th>\n",
       "      <td>A757662</td>\n",
       "      <td>Dog</td>\n",
       "      <td>Australian Shepherd Mix</td>\n",
       "      <td>Australian Shepherd Mix</td>\n",
       "      <td>NaN</td>\n",
       "      <td>NaN</td>\n",
       "    </tr>\n",
       "  </tbody>\n",
       "</table>\n",
       "<p>126143 rows × 6 columns</p>\n",
       "</div>"
      ],
      "text/plain": [
       "       animal_id animal_type                                  breed  \\\n",
       "0        A786884         Dog                             Beagle Mix   \n",
       "1        A706918         Dog               English Springer Spaniel   \n",
       "2        A724273         Dog                            Basenji Mix   \n",
       "3        A665644         Cat                 Domestic Shorthair Mix   \n",
       "4        A682524         Dog  Doberman Pinsch/Australian Cattle Dog   \n",
       "...          ...         ...                                    ...   \n",
       "126138   A834632       Other                             Guinea Pig   \n",
       "126139   A834626         Cat                     Domestic Shorthair   \n",
       "126140   A834634         Dog                                Unknown   \n",
       "126141   A834633         Cat                     Domestic Shorthair   \n",
       "126142   A757662         Dog                Australian Shepherd Mix   \n",
       "\n",
       "                         breed_1                breed_2 breed_3  \n",
       "0                     Beagle Mix                    NaN     NaN  \n",
       "1       English Springer Spaniel                    NaN     NaN  \n",
       "2                    Basenji Mix                    NaN     NaN  \n",
       "3         Domestic Shorthair Mix                    NaN     NaN  \n",
       "4                Doberman Pinsch  Australian Cattle Dog     NaN  \n",
       "...                          ...                    ...     ...  \n",
       "126138                Guinea Pig                    NaN     NaN  \n",
       "126139        Domestic Shorthair                    NaN     NaN  \n",
       "126140                   Unknown                    NaN     NaN  \n",
       "126141        Domestic Shorthair                    NaN     NaN  \n",
       "126142   Australian Shepherd Mix                    NaN     NaN  \n",
       "\n",
       "[126143 rows x 6 columns]"
      ]
     },
     "execution_count": 41,
     "metadata": {},
     "output_type": "execute_result"
    }
   ],
   "source": [
    "intakes[['animal_id', 'animal_type', 'breed', 'breed_1', 'breed_2', 'breed_3']]"
   ]
  },
  {
   "cell_type": "code",
   "execution_count": 42,
   "metadata": {},
   "outputs": [],
   "source": [
    "intakes['mix_1'] = intakes['breed'].str.contains('\\/')"
   ]
  },
  {
   "cell_type": "code",
   "execution_count": 43,
   "metadata": {},
   "outputs": [],
   "source": [
    "intakes['mix_2'] = intakes['breed'].str.contains('Mix', case=False)"
   ]
  },
  {
   "cell_type": "code",
   "execution_count": 44,
   "metadata": {},
   "outputs": [],
   "source": [
    "intakes['mix_breed'] = np.where((intakes['mix_1'] == True) | (intakes['mix_2'] == True), True, False)"
   ]
  },
  {
   "cell_type": "markdown",
   "metadata": {},
   "source": [
    "#### Color"
   ]
  },
  {
   "cell_type": "code",
   "execution_count": 45,
   "metadata": {},
   "outputs": [],
   "source": [
    "intakes['color_1'] = intakes['color'].str.split('\\/').str[0]"
   ]
  },
  {
   "cell_type": "code",
   "execution_count": 46,
   "metadata": {},
   "outputs": [],
   "source": [
    "intakes['color_2'] = intakes['color'].str.split('\\/').str[1]"
   ]
  },
  {
   "cell_type": "markdown",
   "metadata": {},
   "source": [
    "## Feature Creation"
   ]
  },
  {
   "cell_type": "markdown",
   "metadata": {},
   "source": [
    "#### Intake Count"
   ]
  },
  {
   "cell_type": "code",
   "execution_count": 47,
   "metadata": {},
   "outputs": [],
   "source": [
    "intakes['intake_count'] = intakes.groupby('animal_id')['datetime'].rank(method='dense')"
   ]
  },
  {
   "cell_type": "markdown",
   "metadata": {},
   "source": [
    "#### Dropping unnecessary columns"
   ]
  },
  {
   "cell_type": "code",
   "execution_count": 48,
   "metadata": {},
   "outputs": [],
   "source": [
    "cols_to_drop = [\n",
    "    'found_location',\n",
    "    'sex_upon_intake',\n",
    "    'age_upon_intake',\n",
    "    'found_location_split',\n",
    "    'sex_split',\n",
    "    'age_digit',\n",
    "    'age_unit',\n",
    "    'age_conversion',\n",
    "    'mix_1',\n",
    "    'mix_2'\n",
    "]\n",
    "\n",
    "intakes = intakes.drop(columns=cols_to_drop)"
   ]
  },
  {
   "cell_type": "code",
   "execution_count": 49,
   "metadata": {},
   "outputs": [
    {
     "name": "stdout",
     "output_type": "stream",
     "text": [
      "<class 'pandas.core.frame.DataFrame'>\n",
      "RangeIndex: 126143 entries, 0 to 126142\n",
      "Data columns (total 20 columns):\n",
      " #   Column            Non-Null Count   Dtype         \n",
      "---  ------            --------------   -----         \n",
      " 0   animal_id         126143 non-null  object        \n",
      " 1   name              86384 non-null   object        \n",
      " 2   datetime          126143 non-null  datetime64[ns]\n",
      " 3   intake_type       126143 non-null  object        \n",
      " 4   intake_condition  126143 non-null  object        \n",
      " 5   animal_type       126143 non-null  object        \n",
      " 6   breed             126143 non-null  object        \n",
      " 7   color             126143 non-null  object        \n",
      " 8   found_address     74175 non-null   object        \n",
      " 9   found_city        126143 non-null  object        \n",
      " 10  spay_neuter       126142 non-null  object        \n",
      " 11  sex               126142 non-null  object        \n",
      " 12  age_in_years      126143 non-null  float64       \n",
      " 13  breed_1           126143 non-null  object        \n",
      " 14  breed_2           11928 non-null   object        \n",
      " 15  breed_3           42 non-null      object        \n",
      " 16  mix_breed         126143 non-null  bool          \n",
      " 17  color_1           126143 non-null  object        \n",
      " 18  color_2           67301 non-null   object        \n",
      " 19  intake_count      126143 non-null  float64       \n",
      "dtypes: bool(1), datetime64[ns](1), float64(2), object(16)\n",
      "memory usage: 18.4+ MB\n"
     ]
    }
   ],
   "source": [
    "intakes.info()"
   ]
  },
  {
   "cell_type": "code",
   "execution_count": null,
   "metadata": {},
   "outputs": [],
   "source": [
    "intakes.to_csv('../data/intakes_clean.csv', index=False)"
   ]
  }
 ],
 "metadata": {
  "kernelspec": {
   "display_name": "Python 3",
   "language": "python",
   "name": "python3"
  },
  "language_info": {
   "codemirror_mode": {
    "name": "ipython",
    "version": 3
   },
   "file_extension": ".py",
   "mimetype": "text/x-python",
   "name": "python",
   "nbconvert_exporter": "python",
   "pygments_lexer": "ipython3",
   "version": "3.8.3"
  }
 },
 "nbformat": 4,
 "nbformat_minor": 4
}
