{
 "cells": [
  {
   "cell_type": "markdown",
   "metadata": {},
   "source": [
    "# Intakes Data"
   ]
  },
  {
   "cell_type": "markdown",
   "metadata": {},
   "source": [
    "#### Imports"
   ]
  },
  {
   "cell_type": "code",
   "execution_count": 1,
   "metadata": {},
   "outputs": [],
   "source": [
    "import pandas as pd\n",
    "import janitor\n",
    "import numpy as np\n",
    "import re"
   ]
  },
  {
   "cell_type": "markdown",
   "metadata": {},
   "source": [
    "#### Read in data"
   ]
  },
  {
   "cell_type": "code",
   "execution_count": 2,
   "metadata": {},
   "outputs": [],
   "source": [
    "intakes = pd.read_csv('../data/intakes.csv')"
   ]
  },
  {
   "cell_type": "markdown",
   "metadata": {},
   "source": [
    "#### Standardize column names"
   ]
  },
  {
   "cell_type": "code",
   "execution_count": 3,
   "metadata": {},
   "outputs": [],
   "source": [
    "intakes = intakes.clean_names() #from janitor package"
   ]
  },
  {
   "cell_type": "markdown",
   "metadata": {},
   "source": [
    "## Clean columns"
   ]
  },
  {
   "cell_type": "markdown",
   "metadata": {},
   "source": [
    "#### Name"
   ]
  },
  {
   "cell_type": "code",
   "execution_count": 4,
   "metadata": {},
   "outputs": [
    {
     "data": {
      "text/plain": [
       "False    0.669175\n",
       "True     0.330825\n",
       "Name: name, dtype: float64"
      ]
     },
     "execution_count": 4,
     "metadata": {},
     "output_type": "execute_result"
    }
   ],
   "source": [
    "intakes['name'].str.startswith(\"*\").value_counts(normalize=True)"
   ]
  },
  {
   "cell_type": "code",
   "execution_count": 5,
   "metadata": {},
   "outputs": [],
   "source": [
    "#after doing some research, I couldn't any info on why some names have the *\n",
    "intakes['name'] = intakes['name'].str.replace('*', '') "
   ]
  },
  {
   "cell_type": "markdown",
   "metadata": {},
   "source": [
    "#### Date time"
   ]
  },
  {
   "cell_type": "code",
   "execution_count": 6,
   "metadata": {},
   "outputs": [],
   "source": [
    "intakes['datetime'] = pd.to_datetime(intakes['datetime'])"
   ]
  },
  {
   "cell_type": "markdown",
   "metadata": {},
   "source": [
    "#### Year and Month"
   ]
  },
  {
   "cell_type": "code",
   "execution_count": 7,
   "metadata": {},
   "outputs": [],
   "source": [
    "# we'll recreate this as a feature \n",
    "intakes = intakes.drop(columns='monthyear') "
   ]
  },
  {
   "cell_type": "code",
   "execution_count": 8,
   "metadata": {},
   "outputs": [],
   "source": [
    "intakes['intake_year'] = intakes['datetime'].dt.year"
   ]
  },
  {
   "cell_type": "code",
   "execution_count": 9,
   "metadata": {},
   "outputs": [],
   "source": [
    "intakes['intake_month'] = intakes['datetime'].dt.month"
   ]
  },
  {
   "cell_type": "markdown",
   "metadata": {},
   "source": [
    "#### Found location"
   ]
  },
  {
   "cell_type": "code",
   "execution_count": 10,
   "metadata": {},
   "outputs": [
    {
     "data": {
      "text/plain": [
       "0             2501 Magin Meadow Dr in Austin (TX)\n",
       "1                9409 Bluegrass Dr in Austin (TX)\n",
       "2              2818 Palomino Trail in Austin (TX)\n",
       "3                                     Austin (TX)\n",
       "4                   800 Grove Blvd in Austin (TX)\n",
       "                           ...                   \n",
       "126138           124 W Anderson Ln in Austin (TX)\n",
       "126139    1912 E William Cannon Dr in Austin (TX)\n",
       "126140         Cesar Chavez Street in Austin (TX)\n",
       "126141       1000 East 41St Street in Austin (TX)\n",
       "126142          5020Bonneville Bnd in Austin (TX)\n",
       "Name: found_location, Length: 126143, dtype: object"
      ]
     },
     "execution_count": 10,
     "metadata": {},
     "output_type": "execute_result"
    }
   ],
   "source": [
    "intakes['found_location']"
   ]
  },
  {
   "cell_type": "markdown",
   "metadata": {},
   "source": [
    "The pattern of this column is: <br>\n",
    "    1) Street address that starts with numbers and ends with \"in __ (TX)\" <br>\n",
    "    2) City that is formatted like \"__ (TX)\""
   ]
  },
  {
   "cell_type": "code",
   "execution_count": 11,
   "metadata": {},
   "outputs": [],
   "source": [
    "intakes['found_location_split'] = intakes['found_location'].str.split(' in ')"
   ]
  },
  {
   "cell_type": "code",
   "execution_count": 12,
   "metadata": {},
   "outputs": [],
   "source": [
    "intakes['found_address'] = [x[0] if len(x) > 1 else np.nan for x in intakes['found_location_split']]"
   ]
  },
  {
   "cell_type": "code",
   "execution_count": 13,
   "metadata": {},
   "outputs": [],
   "source": [
    "intakes['found_city'] = [x[1] if len(x) > 1 else x[0] for x in intakes['found_location_split']]"
   ]
  },
  {
   "cell_type": "code",
   "execution_count": 14,
   "metadata": {},
   "outputs": [],
   "source": [
    "intakes['found_city'] = intakes['found_city'].str.replace(' \\(TX\\)', '')"
   ]
  },
  {
   "cell_type": "code",
   "execution_count": 15,
   "metadata": {},
   "outputs": [],
   "source": [
    "# function returns the string if it starts with a number otherwise returns NaN\n",
    "\n",
    "def contains_numbers(string):\n",
    "    match = re.search('^\\d', string)\n",
    "    \n",
    "    if match == None:\n",
    "        return np.nan\n",
    "    else:\n",
    "        return string"
   ]
  },
  {
   "cell_type": "code",
   "execution_count": 16,
   "metadata": {},
   "outputs": [],
   "source": [
    "intakes['found_address'] = [contains_numbers(str(x)) for x in intakes['found_address']]"
   ]
  },
  {
   "cell_type": "markdown",
   "metadata": {},
   "source": [
    "#### Intake Type"
   ]
  },
  {
   "cell_type": "code",
   "execution_count": 17,
   "metadata": {},
   "outputs": [
    {
     "data": {
      "text/plain": [
       "Stray                 87635\n",
       "Owner Surrender       25085\n",
       "Public Assist          7734\n",
       "Wildlife               5047\n",
       "Abandoned               385\n",
       "Euthanasia Request      257\n",
       "Name: intake_type, dtype: int64"
      ]
     },
     "execution_count": 17,
     "metadata": {},
     "output_type": "execute_result"
    }
   ],
   "source": [
    "intakes['intake_type'].value_counts()"
   ]
  },
  {
   "cell_type": "markdown",
   "metadata": {},
   "source": [
    "#### Animal Type"
   ]
  },
  {
   "cell_type": "code",
   "execution_count": 18,
   "metadata": {},
   "outputs": [
    {
     "data": {
      "text/plain": [
       "Dog          71465\n",
       "Cat          47272\n",
       "Other         6789\n",
       "Bird           595\n",
       "Livestock       22\n",
       "Name: animal_type, dtype: int64"
      ]
     },
     "execution_count": 18,
     "metadata": {},
     "output_type": "execute_result"
    }
   ],
   "source": [
    "intakes['animal_type'].value_counts()"
   ]
  },
  {
   "cell_type": "markdown",
   "metadata": {},
   "source": [
    "#### Sex upon intake"
   ]
  },
  {
   "cell_type": "code",
   "execution_count": 19,
   "metadata": {},
   "outputs": [],
   "source": [
    "intakes['sex_upon_intake'] = intakes['sex_upon_intake'].str.replace('Unknown', 'Unknown Unknown')"
   ]
  },
  {
   "cell_type": "code",
   "execution_count": 20,
   "metadata": {},
   "outputs": [],
   "source": [
    "intakes['sex_split'] = intakes['sex_upon_intake'].str.split(' ')"
   ]
  },
  {
   "cell_type": "code",
   "execution_count": 21,
   "metadata": {},
   "outputs": [],
   "source": [
    "intakes['spay_neuter'] = intakes['sex_upon_intake'].str.split(' ').str[0]"
   ]
  },
  {
   "cell_type": "code",
   "execution_count": 22,
   "metadata": {},
   "outputs": [],
   "source": [
    "intakes['sex'] = intakes['sex_upon_intake'].str.split(' ').str[1]"
   ]
  },
  {
   "cell_type": "markdown",
   "metadata": {},
   "source": [
    "#### Age upon intake"
   ]
  },
  {
   "cell_type": "markdown",
   "metadata": {},
   "source": [
    "Strategy is to split the digit from the unit of time. Standardize to year. Make function to multiply digit based on unit of time"
   ]
  },
  {
   "cell_type": "code",
   "execution_count": 23,
   "metadata": {},
   "outputs": [],
   "source": [
    "intakes['age_digit'] = [str.split(x, ' ')[0] for x in intakes['age_upon_intake']]"
   ]
  },
  {
   "cell_type": "markdown",
   "metadata": {},
   "source": [
    "There are 7 negative values in the dataset that suggest the animal is less than __ years old (ex: -1 years old means less than 1 year old). Because these are estimates from the shelter, we'll convert them to positive numbers. Overall, the age numbers should not be taken as absolute truth"
   ]
  },
  {
   "cell_type": "code",
   "execution_count": 24,
   "metadata": {},
   "outputs": [],
   "source": [
    "intakes['age_digit'] = intakes['age_digit'].str.replace('-', '')"
   ]
  },
  {
   "cell_type": "code",
   "execution_count": 25,
   "metadata": {},
   "outputs": [],
   "source": [
    "intakes['age_digit'] = intakes['age_digit'].astype('int')"
   ]
  },
  {
   "cell_type": "code",
   "execution_count": 26,
   "metadata": {},
   "outputs": [],
   "source": [
    "intakes['age_unit'] = [str.split(x, ' ')[1] for x in intakes['age_upon_intake']]"
   ]
  },
  {
   "cell_type": "code",
   "execution_count": 27,
   "metadata": {},
   "outputs": [],
   "source": [
    "age_unit_dict = {\n",
    "    'year':'years',\n",
    "    'month':'months',\n",
    "    'week': 'weeks',\n",
    "    'day':'days'\n",
    "}\n",
    "\n",
    "intakes['age_unit'] = intakes['age_unit'].map(age_unit_dict).fillna(intakes['age_unit'])"
   ]
  },
  {
   "cell_type": "code",
   "execution_count": 28,
   "metadata": {},
   "outputs": [],
   "source": [
    "def age_in_years(unit):\n",
    "    if unit == 'years':\n",
    "        return 1\n",
    "    elif unit == 'months':\n",
    "        return 12\n",
    "    elif unit == 'weeks':\n",
    "        return 52.143\n",
    "    elif unit == 'days':\n",
    "        return 365"
   ]
  },
  {
   "cell_type": "code",
   "execution_count": 29,
   "metadata": {},
   "outputs": [],
   "source": [
    "intakes['age_conversion'] = [age_in_years(x) for x in intakes['age_unit']]\n",
    "\n"
   ]
  },
  {
   "cell_type": "code",
   "execution_count": 30,
   "metadata": {},
   "outputs": [],
   "source": [
    "intakes['age_in_years'] = round(intakes['age_digit'] / intakes['age_conversion'], 2)"
   ]
  },
  {
   "cell_type": "markdown",
   "metadata": {},
   "source": [
    "#### Categorical age grouping"
   ]
  },
  {
   "cell_type": "code",
   "execution_count": 31,
   "metadata": {},
   "outputs": [],
   "source": [
    "def age_group(number):\n",
    "    if number < 1:\n",
    "        return 'under 1'\n",
    "    elif 1 <= number < 2.99:\n",
    "        return 'between 1 and 3'\n",
    "    elif 3 <= number < 4.99:\n",
    "        return 'between 3 and 5'\n",
    "    else: \n",
    "        return 'over 5'"
   ]
  },
  {
   "cell_type": "code",
   "execution_count": 32,
   "metadata": {},
   "outputs": [],
   "source": [
    "intakes['age_group'] = intakes['age_in_years'].apply(age_group)"
   ]
  },
  {
   "cell_type": "markdown",
   "metadata": {},
   "source": [
    "#### Breed"
   ]
  },
  {
   "cell_type": "code",
   "execution_count": 33,
   "metadata": {},
   "outputs": [],
   "source": [
    "#Black and Tan Hounds' is listed as Black/Tan Hound and that naming convention causes flag and/or split issues\n",
    "\n",
    "intakes['breed'] = intakes['breed'].str.replace('Black/Tan Hound', 'Black and Tan Hound')"
   ]
  },
  {
   "cell_type": "code",
   "execution_count": 34,
   "metadata": {},
   "outputs": [],
   "source": [
    "#Mixed breeds either contain \"Mix\" or \"/\"\n",
    "intakes['mix_flag'] = np.where((intakes['breed'].str.contains(' Mix')) | (intakes['breed'].str.contains('\\/')), True, False)"
   ]
  },
  {
   "cell_type": "code",
   "execution_count": 35,
   "metadata": {},
   "outputs": [],
   "source": [
    "# Flag for dog breed containing Pit Bull\n",
    "intakes['pit_flag'] = np.where(intakes['breed'].str.contains('Pit Bull'), True, False)"
   ]
  },
  {
   "cell_type": "code",
   "execution_count": 36,
   "metadata": {},
   "outputs": [],
   "source": [
    "intakes['breed_split'] = intakes['breed'].str.split('\\/')"
   ]
  },
  {
   "cell_type": "code",
   "execution_count": 37,
   "metadata": {},
   "outputs": [],
   "source": [
    "#sorts the list of mixed breeds alphabetically to avoid combinations from ordering of breed\n",
    "\n",
    "intakes['breed_split_sort'] = [sorted(x) if len(x) > 1 else x for x in intakes['breed_split']]"
   ]
  },
  {
   "cell_type": "code",
   "execution_count": 38,
   "metadata": {},
   "outputs": [],
   "source": [
    "intakes['breed_1'] = intakes['breed_split_sort'].str[0]\n",
    "intakes['breed_2'] = intakes['breed_split_sort'].str[1]"
   ]
  },
  {
   "cell_type": "code",
   "execution_count": 39,
   "metadata": {},
   "outputs": [],
   "source": [
    "#remove mix\n",
    "\n",
    "intakes['breed_1'] = intakes['breed_1'].str.replace(' Mix', '')\n",
    "intakes['breed_2'] = intakes['breed_2'].str.replace(' Mix', '')"
   ]
  },
  {
   "cell_type": "markdown",
   "metadata": {},
   "source": [
    "#### Color"
   ]
  },
  {
   "cell_type": "code",
   "execution_count": 40,
   "metadata": {},
   "outputs": [],
   "source": [
    "intakes['color_1'] = intakes['color'].str.split('\\/').str[0]"
   ]
  },
  {
   "cell_type": "code",
   "execution_count": 41,
   "metadata": {},
   "outputs": [],
   "source": [
    "intakes['color_2'] = intakes['color'].str.split('\\/').str[1]"
   ]
  },
  {
   "cell_type": "markdown",
   "metadata": {},
   "source": [
    "## Additional Feature Creation"
   ]
  },
  {
   "cell_type": "markdown",
   "metadata": {},
   "source": [
    "#### Category\n",
    "This will be used for an intermediate table along the way to properly align intakes and outcomes"
   ]
  },
  {
   "cell_type": "code",
   "execution_count": 42,
   "metadata": {},
   "outputs": [],
   "source": [
    "intakes['category'] = 'intake'"
   ]
  },
  {
   "cell_type": "markdown",
   "metadata": {},
   "source": [
    "#### Dropping unnecessary columns"
   ]
  },
  {
   "cell_type": "code",
   "execution_count": 43,
   "metadata": {},
   "outputs": [],
   "source": [
    "cols_to_drop = [\n",
    "    'found_location',\n",
    "    'sex_upon_intake',\n",
    "    'age_upon_intake',\n",
    "    'found_location_split',\n",
    "    'sex_split',\n",
    "    'age_digit',\n",
    "    'age_unit',\n",
    "    'age_conversion',\n",
    "    'breed_split',\n",
    "    'breed_split_sort'\n",
    "]\n",
    "\n",
    "intakes = intakes.drop(columns=cols_to_drop)"
   ]
  },
  {
   "cell_type": "code",
   "execution_count": 44,
   "metadata": {},
   "outputs": [],
   "source": [
    "intakes.to_csv('../data/intakes_clean.csv', index=False)"
   ]
  },
  {
   "cell_type": "code",
   "execution_count": 49,
   "metadata": {},
   "outputs": [
    {
     "data": {
      "text/plain": [
       "67176    2013-10-01 07:51:00\n",
       "106680   2013-10-01 08:33:00\n",
       "2185     2013-10-01 08:33:00\n",
       "35879    2013-10-01 08:33:00\n",
       "108286   2013-10-01 08:53:00\n",
       "                 ...        \n",
       "126136   2021-05-15 16:15:00\n",
       "126135   2021-05-15 16:36:00\n",
       "126137   2021-05-15 18:04:00\n",
       "126138   2021-05-16 08:01:00\n",
       "126142   2021-05-16 09:57:00\n",
       "Name: datetime, Length: 126143, dtype: datetime64[ns]"
      ]
     },
     "execution_count": 49,
     "metadata": {},
     "output_type": "execute_result"
    }
   ],
   "source": [
    "intakes['datetime'].sort_values()"
   ]
  },
  {
   "cell_type": "code",
   "execution_count": null,
   "metadata": {},
   "outputs": [],
   "source": []
  }
 ],
 "metadata": {
  "kernelspec": {
   "display_name": "Python 3",
   "language": "python",
   "name": "python3"
  },
  "language_info": {
   "codemirror_mode": {
    "name": "ipython",
    "version": 3
   },
   "file_extension": ".py",
   "mimetype": "text/x-python",
   "name": "python",
   "nbconvert_exporter": "python",
   "pygments_lexer": "ipython3",
   "version": "3.8.3"
  }
 },
 "nbformat": 4,
 "nbformat_minor": 4
}
