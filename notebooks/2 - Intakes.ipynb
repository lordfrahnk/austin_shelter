{
 "cells": [
  {
   "cell_type": "markdown",
   "metadata": {},
   "source": [
    "# Intakes Data"
   ]
  },
  {
   "cell_type": "markdown",
   "metadata": {},
   "source": [
    "#### Imports"
   ]
  },
  {
   "cell_type": "code",
   "execution_count": 1,
   "metadata": {},
   "outputs": [],
   "source": [
    "import pandas as pd\n",
    "import janitor\n",
    "import re\n",
    "import numpy as np"
   ]
  },
  {
   "cell_type": "markdown",
   "metadata": {},
   "source": [
    "#### Read in data"
   ]
  },
  {
   "cell_type": "code",
   "execution_count": 2,
   "metadata": {},
   "outputs": [],
   "source": [
    "intakes = pd.read_csv('../data/intakes.csv')"
   ]
  },
  {
   "cell_type": "markdown",
   "metadata": {},
   "source": [
    "#### Standardize column names"
   ]
  },
  {
   "cell_type": "code",
   "execution_count": 3,
   "metadata": {},
   "outputs": [],
   "source": [
    "intakes = intakes.clean_names() #from janitor package"
   ]
  },
  {
   "cell_type": "markdown",
   "metadata": {},
   "source": [
    "## Clean columns"
   ]
  },
  {
   "cell_type": "markdown",
   "metadata": {},
   "source": [
    "#### Name"
   ]
  },
  {
   "cell_type": "code",
   "execution_count": 4,
   "metadata": {},
   "outputs": [
    {
     "data": {
      "text/plain": [
       "False    0.669175\n",
       "True     0.330825\n",
       "Name: name, dtype: float64"
      ]
     },
     "execution_count": 4,
     "metadata": {},
     "output_type": "execute_result"
    }
   ],
   "source": [
    "intakes['name'].str.startswith(\"*\").value_counts(normalize=True)"
   ]
  },
  {
   "cell_type": "code",
   "execution_count": 5,
   "metadata": {},
   "outputs": [],
   "source": [
    "#after doing some research, I couldn't any info on why some names have the *\n",
    "intakes['name'] = intakes['name'].str.replace('*', '') "
   ]
  },
  {
   "cell_type": "markdown",
   "metadata": {},
   "source": [
    "#### Date time"
   ]
  },
  {
   "cell_type": "code",
   "execution_count": 6,
   "metadata": {},
   "outputs": [],
   "source": [
    "intakes['datetime'] = pd.to_datetime(intakes['datetime'])"
   ]
  },
  {
   "cell_type": "markdown",
   "metadata": {},
   "source": [
    "#### Month year"
   ]
  },
  {
   "cell_type": "code",
   "execution_count": 7,
   "metadata": {},
   "outputs": [],
   "source": [
    "intakes = intakes.drop(columns='monthyear') # we'll add this as a feature later if needed"
   ]
  },
  {
   "cell_type": "markdown",
   "metadata": {},
   "source": [
    "#### Found location"
   ]
  },
  {
   "cell_type": "code",
   "execution_count": 8,
   "metadata": {},
   "outputs": [
    {
     "data": {
      "text/plain": [
       "0             2501 Magin Meadow Dr in Austin (TX)\n",
       "1                9409 Bluegrass Dr in Austin (TX)\n",
       "2              2818 Palomino Trail in Austin (TX)\n",
       "3                                     Austin (TX)\n",
       "4                   800 Grove Blvd in Austin (TX)\n",
       "                           ...                   \n",
       "126138           124 W Anderson Ln in Austin (TX)\n",
       "126139    1912 E William Cannon Dr in Austin (TX)\n",
       "126140         Cesar Chavez Street in Austin (TX)\n",
       "126141       1000 East 41St Street in Austin (TX)\n",
       "126142          5020Bonneville Bnd in Austin (TX)\n",
       "Name: found_location, Length: 126143, dtype: object"
      ]
     },
     "execution_count": 8,
     "metadata": {},
     "output_type": "execute_result"
    }
   ],
   "source": [
    "intakes['found_location']"
   ]
  },
  {
   "cell_type": "markdown",
   "metadata": {},
   "source": [
    "The pattern of this column is: <br>\n",
    "    1) Street address that starts with numbers and ends with \"in __ (TX)\" <br>\n",
    "    2) City that is formatted like \"__ (TX)\""
   ]
  },
  {
   "cell_type": "code",
   "execution_count": 9,
   "metadata": {},
   "outputs": [],
   "source": [
    "intakes['found_city'] = intakes['found_location'].str.split(' in ', expand=True)[1]"
   ]
  },
  {
   "cell_type": "code",
   "execution_count": null,
   "metadata": {},
   "outputs": [],
   "source": []
  },
  {
   "cell_type": "code",
   "execution_count": null,
   "metadata": {},
   "outputs": [],
   "source": []
  },
  {
   "cell_type": "code",
   "execution_count": null,
   "metadata": {},
   "outputs": [],
   "source": []
  },
  {
   "cell_type": "code",
   "execution_count": null,
   "metadata": {},
   "outputs": [],
   "source": []
  },
  {
   "cell_type": "code",
   "execution_count": null,
   "metadata": {},
   "outputs": [],
   "source": []
  },
  {
   "cell_type": "code",
   "execution_count": null,
   "metadata": {},
   "outputs": [],
   "source": []
  },
  {
   "cell_type": "code",
   "execution_count": null,
   "metadata": {},
   "outputs": [],
   "source": []
  },
  {
   "cell_type": "code",
   "execution_count": 10,
   "metadata": {},
   "outputs": [
    {
     "data": {
      "text/plain": [
       "True     81377\n",
       "False    44766\n",
       "Name: found_location, dtype: int64"
      ]
     },
     "execution_count": 10,
     "metadata": {},
     "output_type": "execute_result"
    }
   ],
   "source": [
    "intakes['found_location'].str.endswith('in Austin (TX)').value_counts()"
   ]
  },
  {
   "cell_type": "code",
   "execution_count": 11,
   "metadata": {},
   "outputs": [
    {
     "data": {
      "text/plain": [
       "True     124585\n",
       "False      1558\n",
       "Name: found_location, dtype: int64"
      ]
     },
     "execution_count": 11,
     "metadata": {},
     "output_type": "execute_result"
    }
   ],
   "source": [
    "intakes['found_location'].str.endswith(')').value_counts() #the 1558 are 'Outside Jurisdiction'"
   ]
  },
  {
   "cell_type": "code",
   "execution_count": 12,
   "metadata": {},
   "outputs": [
    {
     "ename": "AttributeError",
     "evalue": "'str' object has no attribute 'str'",
     "output_type": "error",
     "traceback": [
      "\u001b[0;31m---------------------------------------------------------------------------\u001b[0m",
      "\u001b[0;31mAttributeError\u001b[0m                            Traceback (most recent call last)",
      "\u001b[0;32m<ipython-input-12-912ce5c9ff09>\u001b[0m in \u001b[0;36m<module>\u001b[0;34m\u001b[0m\n\u001b[0;32m----> 1\u001b[0;31m \u001b[0;34m[\u001b[0m\u001b[0mx\u001b[0m\u001b[0;34m.\u001b[0m\u001b[0mstr\u001b[0m\u001b[0;34m.\u001b[0m\u001b[0msplit\u001b[0m\u001b[0;34m(\u001b[0m\u001b[0;34m' in '\u001b[0m\u001b[0;34m)\u001b[0m \u001b[0;32mif\u001b[0m \u001b[0mx\u001b[0m\u001b[0;34m.\u001b[0m\u001b[0mstr\u001b[0m\u001b[0;34m.\u001b[0m\u001b[0mcontains\u001b[0m\u001b[0;34m(\u001b[0m\u001b[0;34m' in '\u001b[0m\u001b[0;34m)\u001b[0m \u001b[0;32melse\u001b[0m \u001b[0mx\u001b[0m \u001b[0;32mfor\u001b[0m \u001b[0mx\u001b[0m \u001b[0;32min\u001b[0m \u001b[0mintakes\u001b[0m\u001b[0;34m[\u001b[0m\u001b[0;34m'found_location'\u001b[0m\u001b[0;34m]\u001b[0m\u001b[0;34m]\u001b[0m\u001b[0;34m\u001b[0m\u001b[0;34m\u001b[0m\u001b[0m\n\u001b[0m",
      "\u001b[0;32m<ipython-input-12-912ce5c9ff09>\u001b[0m in \u001b[0;36m<listcomp>\u001b[0;34m(.0)\u001b[0m\n\u001b[0;32m----> 1\u001b[0;31m \u001b[0;34m[\u001b[0m\u001b[0mx\u001b[0m\u001b[0;34m.\u001b[0m\u001b[0mstr\u001b[0m\u001b[0;34m.\u001b[0m\u001b[0msplit\u001b[0m\u001b[0;34m(\u001b[0m\u001b[0;34m' in '\u001b[0m\u001b[0;34m)\u001b[0m \u001b[0;32mif\u001b[0m \u001b[0mx\u001b[0m\u001b[0;34m.\u001b[0m\u001b[0mstr\u001b[0m\u001b[0;34m.\u001b[0m\u001b[0mcontains\u001b[0m\u001b[0;34m(\u001b[0m\u001b[0;34m' in '\u001b[0m\u001b[0;34m)\u001b[0m \u001b[0;32melse\u001b[0m \u001b[0mx\u001b[0m \u001b[0;32mfor\u001b[0m \u001b[0mx\u001b[0m \u001b[0;32min\u001b[0m \u001b[0mintakes\u001b[0m\u001b[0;34m[\u001b[0m\u001b[0;34m'found_location'\u001b[0m\u001b[0;34m]\u001b[0m\u001b[0;34m]\u001b[0m\u001b[0;34m\u001b[0m\u001b[0;34m\u001b[0m\u001b[0m\n\u001b[0m",
      "\u001b[0;31mAttributeError\u001b[0m: 'str' object has no attribute 'str'"
     ]
    }
   ],
   "source": [
    "[x.str.split(' in ') if x.str.contains(' in ') else x for x in intakes['found_location']]"
   ]
  },
  {
   "cell_type": "markdown",
   "metadata": {},
   "source": [
    "#### Intake Type"
   ]
  },
  {
   "cell_type": "code",
   "execution_count": 13,
   "metadata": {},
   "outputs": [
    {
     "data": {
      "text/plain": [
       "Stray                 87635\n",
       "Owner Surrender       25085\n",
       "Public Assist          7734\n",
       "Wildlife               5047\n",
       "Abandoned               385\n",
       "Euthanasia Request      257\n",
       "Name: intake_type, dtype: int64"
      ]
     },
     "execution_count": 13,
     "metadata": {},
     "output_type": "execute_result"
    }
   ],
   "source": [
    "intakes['intake_type'].value_counts()"
   ]
  },
  {
   "cell_type": "markdown",
   "metadata": {},
   "source": [
    "#### Animal Type"
   ]
  },
  {
   "cell_type": "code",
   "execution_count": 14,
   "metadata": {},
   "outputs": [
    {
     "data": {
      "text/plain": [
       "Dog          71465\n",
       "Cat          47272\n",
       "Other         6789\n",
       "Bird           595\n",
       "Livestock       22\n",
       "Name: animal_type, dtype: int64"
      ]
     },
     "execution_count": 14,
     "metadata": {},
     "output_type": "execute_result"
    }
   ],
   "source": [
    "intakes['animal_type'].value_counts()"
   ]
  },
  {
   "cell_type": "markdown",
   "metadata": {},
   "source": [
    "#### Sex upon intake"
   ]
  },
  {
   "cell_type": "code",
   "execution_count": 15,
   "metadata": {},
   "outputs": [
    {
     "data": {
      "text/plain": [
       "Intact Male      41015\n",
       "Intact Female    38794\n",
       "Neutered Male    19389\n",
       "Spayed Female    16530\n",
       "Unknown          10414\n",
       "Name: sex_upon_intake, dtype: int64"
      ]
     },
     "execution_count": 15,
     "metadata": {},
     "output_type": "execute_result"
    }
   ],
   "source": [
    "intakes['sex_upon_intake'].value_counts()"
   ]
  },
  {
   "cell_type": "markdown",
   "metadata": {},
   "source": [
    "#### Age upon intake"
   ]
  },
  {
   "cell_type": "code",
   "execution_count": 16,
   "metadata": {},
   "outputs": [
    {
     "data": {
      "text/plain": [
       "1 year       22083\n",
       "2 years      19446\n",
       "1 month      12052\n",
       "3 years       7537\n",
       "2 months      6823\n",
       "4 weeks       4515\n",
       "4 years       4513\n",
       "5 years       4128\n",
       "3 weeks       3701\n",
       "3 months      3326\n",
       "4 months      3237\n",
       "5 months      3112\n",
       "6 years       2755\n",
       "2 weeks       2586\n",
       "6 months      2414\n",
       "7 years       2357\n",
       "8 years       2308\n",
       "7 months      1885\n",
       "10 years      1856\n",
       "9 months      1844\n",
       "8 months      1507\n",
       "9 years       1346\n",
       "1 week        1054\n",
       "10 months     1030\n",
       "1 weeks        927\n",
       "12 years       888\n",
       "11 months      806\n",
       "0 years        765\n",
       "11 years       756\n",
       "1 day          671\n",
       "3 days         591\n",
       "13 years       583\n",
       "2 days         500\n",
       "14 years       395\n",
       "15 years       341\n",
       "4 days         329\n",
       "6 days         327\n",
       "5 weeks        320\n",
       "5 days         188\n",
       "16 years       146\n",
       "17 years        82\n",
       "18 years        50\n",
       "19 years        27\n",
       "20 years        20\n",
       "-1 years         5\n",
       "22 years         5\n",
       "-3 years         1\n",
       "25 years         1\n",
       "21 years         1\n",
       "24 years         1\n",
       "-2 years         1\n",
       "23 years         1\n",
       "Name: age_upon_intake, dtype: int64"
      ]
     },
     "execution_count": 16,
     "metadata": {},
     "output_type": "execute_result"
    }
   ],
   "source": [
    "intakes['age_upon_intake'].value_counts()"
   ]
  },
  {
   "cell_type": "markdown",
   "metadata": {},
   "source": [
    "Strategy is to split the digit from the unit of time. Standardize to year. Make function to multiply digit based on unit of time"
   ]
  },
  {
   "cell_type": "code",
   "execution_count": 17,
   "metadata": {},
   "outputs": [],
   "source": [
    "intakes['age_digit'] = [str.split(x, ' ')[0] for x in intakes['age_upon_intake']]"
   ]
  },
  {
   "cell_type": "code",
   "execution_count": 18,
   "metadata": {},
   "outputs": [
    {
     "data": {
      "text/plain": [
       "1     36787\n",
       "2     29355\n",
       "3     15155\n",
       "4     12594\n",
       "5      7748\n",
       "6      5496\n",
       "7      4242\n",
       "8      3815\n",
       "9      3190\n",
       "10     2886\n",
       "11     1562\n",
       "12      888\n",
       "0       765\n",
       "13      583\n",
       "14      395\n",
       "15      341\n",
       "16      146\n",
       "17       82\n",
       "18       50\n",
       "19       27\n",
       "20       20\n",
       "22        5\n",
       "-1        5\n",
       "-3        1\n",
       "-2        1\n",
       "25        1\n",
       "24        1\n",
       "21        1\n",
       "23        1\n",
       "Name: age_digit, dtype: int64"
      ]
     },
     "execution_count": 18,
     "metadata": {},
     "output_type": "execute_result"
    }
   ],
   "source": [
    "intakes['age_digit'].value_counts()"
   ]
  },
  {
   "cell_type": "markdown",
   "metadata": {},
   "source": [
    "There are 7 negative values in the dataset that suggest the animal is less than __ years old (ex: -1 years old means less than 1 year old). Because these are estimates from the shelter, we'll convert them to positive numbers. Overall, the age numbers should not be taken as absolute truth"
   ]
  },
  {
   "cell_type": "code",
   "execution_count": 19,
   "metadata": {},
   "outputs": [],
   "source": [
    "intakes['age_digit'] = intakes['age_digit'].str.replace('-', '')"
   ]
  },
  {
   "cell_type": "code",
   "execution_count": 20,
   "metadata": {},
   "outputs": [],
   "source": [
    "intakes['age_digit'] = intakes['age_digit'].astype('int')"
   ]
  },
  {
   "cell_type": "code",
   "execution_count": 21,
   "metadata": {},
   "outputs": [
    {
     "name": "stdout",
     "output_type": "stream",
     "text": [
      "<class 'pandas.core.frame.DataFrame'>\n",
      "RangeIndex: 126143 entries, 0 to 126142\n",
      "Data columns (total 13 columns):\n",
      " #   Column            Non-Null Count   Dtype         \n",
      "---  ------            --------------   -----         \n",
      " 0   animal_id         126143 non-null  object        \n",
      " 1   name              86384 non-null   object        \n",
      " 2   datetime          126143 non-null  datetime64[ns]\n",
      " 3   found_location    126143 non-null  object        \n",
      " 4   intake_type       126143 non-null  object        \n",
      " 5   intake_condition  126143 non-null  object        \n",
      " 6   animal_type       126143 non-null  object        \n",
      " 7   sex_upon_intake   126142 non-null  object        \n",
      " 8   age_upon_intake   126143 non-null  object        \n",
      " 9   breed             126143 non-null  object        \n",
      " 10  color             126143 non-null  object        \n",
      " 11  found_city        96792 non-null   object        \n",
      " 12  age_digit         126143 non-null  int64         \n",
      "dtypes: datetime64[ns](1), int64(1), object(11)\n",
      "memory usage: 12.5+ MB\n"
     ]
    }
   ],
   "source": [
    "intakes.info()"
   ]
  },
  {
   "cell_type": "code",
   "execution_count": 22,
   "metadata": {},
   "outputs": [],
   "source": [
    "intakes['age_unit'] = [str.split(x, ' ')[1] for x in intakes['age_upon_intake']]"
   ]
  },
  {
   "cell_type": "code",
   "execution_count": 23,
   "metadata": {},
   "outputs": [
    {
     "data": {
      "text/plain": [
       "years     50315\n",
       "months    25984\n",
       "year      22083\n",
       "month     12052\n",
       "weeks     12049\n",
       "days       1935\n",
       "week       1054\n",
       "day         671\n",
       "Name: age_unit, dtype: int64"
      ]
     },
     "execution_count": 23,
     "metadata": {},
     "output_type": "execute_result"
    }
   ],
   "source": [
    "intakes['age_unit'].value_counts()"
   ]
  },
  {
   "cell_type": "code",
   "execution_count": 33,
   "metadata": {},
   "outputs": [],
   "source": [
    "age_unit_dict = {\n",
    "    'year':'years',\n",
    "    'month':'months',\n",
    "    'week': 'weeks',\n",
    "    'day':'days'\n",
    "}\n",
    "\n",
    "intakes['age_unit'] = intakes['age_unit'].map(age_unit_dict).fillna(intakes['age_unit'])"
   ]
  },
  {
   "cell_type": "code",
   "execution_count": 35,
   "metadata": {},
   "outputs": [
    {
     "data": {
      "text/plain": [
       "years     72398\n",
       "months    38036\n",
       "weeks     13103\n",
       "days       2606\n",
       "Name: age_unit, dtype: int64"
      ]
     },
     "execution_count": 35,
     "metadata": {},
     "output_type": "execute_result"
    }
   ],
   "source": [
    "intakes['age_unit'].value_counts()"
   ]
  },
  {
   "cell_type": "code",
   "execution_count": null,
   "metadata": {},
   "outputs": [],
   "source": []
  },
  {
   "cell_type": "code",
   "execution_count": null,
   "metadata": {},
   "outputs": [],
   "source": []
  },
  {
   "cell_type": "code",
   "execution_count": null,
   "metadata": {},
   "outputs": [],
   "source": []
  },
  {
   "cell_type": "code",
   "execution_count": null,
   "metadata": {},
   "outputs": [],
   "source": []
  },
  {
   "cell_type": "markdown",
   "metadata": {},
   "source": [
    "### EDA"
   ]
  },
  {
   "cell_type": "code",
   "execution_count": null,
   "metadata": {},
   "outputs": [],
   "source": [
    "intakes['intake_type'].value_counts(normalize=True).plot(kind='barh');"
   ]
  },
  {
   "cell_type": "code",
   "execution_count": null,
   "metadata": {},
   "outputs": [],
   "source": [
    "intakes['intake_condition'].value_counts(normalize=True).plot(kind='barh');"
   ]
  },
  {
   "cell_type": "code",
   "execution_count": null,
   "metadata": {},
   "outputs": [],
   "source": [
    "intakes['animal_type'].value_counts(normalize=True).plot(kind='barh');"
   ]
  },
  {
   "cell_type": "code",
   "execution_count": null,
   "metadata": {},
   "outputs": [],
   "source": [
    "intakes['sex_upon_intake'].value_counts(normalize=True).plot(kind='barh');"
   ]
  },
  {
   "cell_type": "code",
   "execution_count": null,
   "metadata": {},
   "outputs": [],
   "source": [
    "intakes['color'].value_counts()"
   ]
  },
  {
   "cell_type": "code",
   "execution_count": null,
   "metadata": {},
   "outputs": [],
   "source": [
    "intakes[intakes['color'].str.contains('/')]"
   ]
  },
  {
   "cell_type": "code",
   "execution_count": null,
   "metadata": {},
   "outputs": [],
   "source": [
    "intakes.info()"
   ]
  },
  {
   "cell_type": "markdown",
   "metadata": {},
   "source": [
    "# To Do\n",
    "\n",
    "#### 1) Figure out if * means anything in names\n",
    " done\n",
    "#### 2) Deal with 'in ____ (TX)' from found locations\n",
    "#### 3) Standardize age to years"
   ]
  },
  {
   "cell_type": "code",
   "execution_count": null,
   "metadata": {},
   "outputs": [],
   "source": []
  }
 ],
 "metadata": {
  "kernelspec": {
   "display_name": "Python 3",
   "language": "python",
   "name": "python3"
  },
  "language_info": {
   "codemirror_mode": {
    "name": "ipython",
    "version": 3
   },
   "file_extension": ".py",
   "mimetype": "text/x-python",
   "name": "python",
   "nbconvert_exporter": "python",
   "pygments_lexer": "ipython3",
   "version": "3.8.3"
  }
 },
 "nbformat": 4,
 "nbformat_minor": 4
}
