{
 "cells": [
  {
   "cell_type": "markdown",
   "metadata": {},
   "source": [
    "# Intakes and Outcomes Merge"
   ]
  },
  {
   "cell_type": "markdown",
   "metadata": {},
   "source": [
    "#### Imports"
   ]
  },
  {
   "cell_type": "code",
   "execution_count": 1,
   "metadata": {},
   "outputs": [],
   "source": [
    "import pandas as pd"
   ]
  },
  {
   "cell_type": "markdown",
   "metadata": {},
   "source": [
    "#### Read in Data"
   ]
  },
  {
   "cell_type": "code",
   "execution_count": 2,
   "metadata": {},
   "outputs": [],
   "source": [
    "intakes = pd.read_csv('../data/intakes_clean.csv', parse_dates=['datetime'])"
   ]
  },
  {
   "cell_type": "code",
   "execution_count": 3,
   "metadata": {},
   "outputs": [],
   "source": [
    "outcomes = pd.read_csv('../data/outcomes_cleaned.csv', parse_dates=['datetime'])"
   ]
  },
  {
   "cell_type": "markdown",
   "metadata": {},
   "source": [
    "#### Merge Datasets"
   ]
  },
  {
   "cell_type": "code",
   "execution_count": 4,
   "metadata": {},
   "outputs": [],
   "source": [
    "intake_merge = intakes[['animal_id', 'datetime', 'category']]"
   ]
  },
  {
   "cell_type": "code",
   "execution_count": 5,
   "metadata": {},
   "outputs": [],
   "source": [
    "outcome_merge = outcomes[['animal_id', 'datetime', 'category']]"
   ]
  },
  {
   "cell_type": "code",
   "execution_count": 6,
   "metadata": {},
   "outputs": [
    {
     "data": {
      "text/html": [
       "<div>\n",
       "<style scoped>\n",
       "    .dataframe tbody tr th:only-of-type {\n",
       "        vertical-align: middle;\n",
       "    }\n",
       "\n",
       "    .dataframe tbody tr th {\n",
       "        vertical-align: top;\n",
       "    }\n",
       "\n",
       "    .dataframe thead th {\n",
       "        text-align: right;\n",
       "    }\n",
       "</style>\n",
       "<table border=\"1\" class=\"dataframe\">\n",
       "  <thead>\n",
       "    <tr style=\"text-align: right;\">\n",
       "      <th></th>\n",
       "      <th>animal_id</th>\n",
       "      <th>datetime</th>\n",
       "      <th>category</th>\n",
       "    </tr>\n",
       "  </thead>\n",
       "  <tbody>\n",
       "    <tr>\n",
       "      <th>0</th>\n",
       "      <td>A786884</td>\n",
       "      <td>2019-01-03 16:19:00</td>\n",
       "      <td>intake</td>\n",
       "    </tr>\n",
       "    <tr>\n",
       "      <th>1</th>\n",
       "      <td>A706918</td>\n",
       "      <td>2015-07-05 12:59:00</td>\n",
       "      <td>intake</td>\n",
       "    </tr>\n",
       "    <tr>\n",
       "      <th>2</th>\n",
       "      <td>A724273</td>\n",
       "      <td>2016-04-14 18:43:00</td>\n",
       "      <td>intake</td>\n",
       "    </tr>\n",
       "    <tr>\n",
       "      <th>3</th>\n",
       "      <td>A665644</td>\n",
       "      <td>2013-10-21 07:59:00</td>\n",
       "      <td>intake</td>\n",
       "    </tr>\n",
       "    <tr>\n",
       "      <th>4</th>\n",
       "      <td>A682524</td>\n",
       "      <td>2014-06-29 10:38:00</td>\n",
       "      <td>intake</td>\n",
       "    </tr>\n",
       "  </tbody>\n",
       "</table>\n",
       "</div>"
      ],
      "text/plain": [
       "  animal_id            datetime category\n",
       "0   A786884 2019-01-03 16:19:00   intake\n",
       "1   A706918 2015-07-05 12:59:00   intake\n",
       "2   A724273 2016-04-14 18:43:00   intake\n",
       "3   A665644 2013-10-21 07:59:00   intake\n",
       "4   A682524 2014-06-29 10:38:00   intake"
      ]
     },
     "execution_count": 6,
     "metadata": {},
     "output_type": "execute_result"
    }
   ],
   "source": [
    "intake_merge.head()"
   ]
  },
  {
   "cell_type": "code",
   "execution_count": 7,
   "metadata": {},
   "outputs": [
    {
     "data": {
      "text/html": [
       "<div>\n",
       "<style scoped>\n",
       "    .dataframe tbody tr th:only-of-type {\n",
       "        vertical-align: middle;\n",
       "    }\n",
       "\n",
       "    .dataframe tbody tr th {\n",
       "        vertical-align: top;\n",
       "    }\n",
       "\n",
       "    .dataframe thead th {\n",
       "        text-align: right;\n",
       "    }\n",
       "</style>\n",
       "<table border=\"1\" class=\"dataframe\">\n",
       "  <thead>\n",
       "    <tr style=\"text-align: right;\">\n",
       "      <th></th>\n",
       "      <th>animal_id</th>\n",
       "      <th>datetime</th>\n",
       "      <th>category</th>\n",
       "    </tr>\n",
       "  </thead>\n",
       "  <tbody>\n",
       "    <tr>\n",
       "      <th>0</th>\n",
       "      <td>A794011</td>\n",
       "      <td>2019-05-08 18:20:00</td>\n",
       "      <td>outcome</td>\n",
       "    </tr>\n",
       "    <tr>\n",
       "      <th>1</th>\n",
       "      <td>A776359</td>\n",
       "      <td>2018-07-18 16:02:00</td>\n",
       "      <td>outcome</td>\n",
       "    </tr>\n",
       "    <tr>\n",
       "      <th>2</th>\n",
       "      <td>A821648</td>\n",
       "      <td>2020-08-16 11:38:00</td>\n",
       "      <td>outcome</td>\n",
       "    </tr>\n",
       "    <tr>\n",
       "      <th>3</th>\n",
       "      <td>A720371</td>\n",
       "      <td>2016-02-13 17:59:00</td>\n",
       "      <td>outcome</td>\n",
       "    </tr>\n",
       "    <tr>\n",
       "      <th>4</th>\n",
       "      <td>A674754</td>\n",
       "      <td>2014-03-18 11:47:00</td>\n",
       "      <td>outcome</td>\n",
       "    </tr>\n",
       "  </tbody>\n",
       "</table>\n",
       "</div>"
      ],
      "text/plain": [
       "  animal_id            datetime category\n",
       "0   A794011 2019-05-08 18:20:00  outcome\n",
       "1   A776359 2018-07-18 16:02:00  outcome\n",
       "2   A821648 2020-08-16 11:38:00  outcome\n",
       "3   A720371 2016-02-13 17:59:00  outcome\n",
       "4   A674754 2014-03-18 11:47:00  outcome"
      ]
     },
     "execution_count": 7,
     "metadata": {},
     "output_type": "execute_result"
    }
   ],
   "source": [
    "outcome_merge.head()"
   ]
  },
  {
   "cell_type": "code",
   "execution_count": 8,
   "metadata": {},
   "outputs": [],
   "source": [
    "intermediate = pd.concat([intake_merge, outcome_merge]).sort_values('datetime')"
   ]
  },
  {
   "cell_type": "code",
   "execution_count": 9,
   "metadata": {},
   "outputs": [],
   "source": [
    "#this will allow us to get intakes and outcomes matched and on the same row\n",
    "\n",
    "intermediate['time_shift'] = intermediate.groupby('animal_id').datetime.shift(-1)\n",
    "intermediate['next_event'] = intermediate.groupby('animal_id').category.shift(-1)"
   ]
  },
  {
   "cell_type": "code",
   "execution_count": 10,
   "metadata": {},
   "outputs": [
    {
     "data": {
      "text/html": [
       "<div>\n",
       "<style scoped>\n",
       "    .dataframe tbody tr th:only-of-type {\n",
       "        vertical-align: middle;\n",
       "    }\n",
       "\n",
       "    .dataframe tbody tr th {\n",
       "        vertical-align: top;\n",
       "    }\n",
       "\n",
       "    .dataframe thead th {\n",
       "        text-align: right;\n",
       "    }\n",
       "</style>\n",
       "<table border=\"1\" class=\"dataframe\">\n",
       "  <thead>\n",
       "    <tr style=\"text-align: right;\">\n",
       "      <th></th>\n",
       "      <th>animal_id</th>\n",
       "      <th>datetime</th>\n",
       "      <th>category</th>\n",
       "      <th>time_shift</th>\n",
       "      <th>next_event</th>\n",
       "    </tr>\n",
       "  </thead>\n",
       "  <tbody>\n",
       "    <tr>\n",
       "      <th>67176</th>\n",
       "      <td>A521520</td>\n",
       "      <td>2013-10-01 07:51:00</td>\n",
       "      <td>intake</td>\n",
       "      <td>2013-10-01 15:39:00</td>\n",
       "      <td>outcome</td>\n",
       "    </tr>\n",
       "    <tr>\n",
       "      <th>35879</th>\n",
       "      <td>A664235</td>\n",
       "      <td>2013-10-01 08:33:00</td>\n",
       "      <td>intake</td>\n",
       "      <td>2013-10-01 10:39:00</td>\n",
       "      <td>outcome</td>\n",
       "    </tr>\n",
       "    <tr>\n",
       "      <th>2185</th>\n",
       "      <td>A664237</td>\n",
       "      <td>2013-10-01 08:33:00</td>\n",
       "      <td>intake</td>\n",
       "      <td>2013-10-01 10:44:00</td>\n",
       "      <td>outcome</td>\n",
       "    </tr>\n",
       "    <tr>\n",
       "      <th>106680</th>\n",
       "      <td>A664236</td>\n",
       "      <td>2013-10-01 08:33:00</td>\n",
       "      <td>intake</td>\n",
       "      <td>2013-10-01 10:44:00</td>\n",
       "      <td>outcome</td>\n",
       "    </tr>\n",
       "    <tr>\n",
       "      <th>108286</th>\n",
       "      <td>A664233</td>\n",
       "      <td>2013-10-01 08:53:00</td>\n",
       "      <td>intake</td>\n",
       "      <td>2013-10-01 15:33:00</td>\n",
       "      <td>outcome</td>\n",
       "    </tr>\n",
       "  </tbody>\n",
       "</table>\n",
       "</div>"
      ],
      "text/plain": [
       "       animal_id            datetime category          time_shift next_event\n",
       "67176    A521520 2013-10-01 07:51:00   intake 2013-10-01 15:39:00    outcome\n",
       "35879    A664235 2013-10-01 08:33:00   intake 2013-10-01 10:39:00    outcome\n",
       "2185     A664237 2013-10-01 08:33:00   intake 2013-10-01 10:44:00    outcome\n",
       "106680   A664236 2013-10-01 08:33:00   intake 2013-10-01 10:44:00    outcome\n",
       "108286   A664233 2013-10-01 08:53:00   intake 2013-10-01 15:33:00    outcome"
      ]
     },
     "execution_count": 10,
     "metadata": {},
     "output_type": "execute_result"
    }
   ],
   "source": [
    "intermediate.head()"
   ]
  },
  {
   "cell_type": "code",
   "execution_count": 11,
   "metadata": {},
   "outputs": [],
   "source": [
    "#ensures we only get intake to outcome results\n",
    "intermediate = intermediate[(intermediate['category'] == 'intake') & (intermediate['next_event'] == 'outcome')]"
   ]
  },
  {
   "cell_type": "code",
   "execution_count": 16,
   "metadata": {},
   "outputs": [],
   "source": [
    "intakes_merge = intermediate.merge(intakes, on=['animal_id', 'datetime'], suffixes=['_inter', '_intakes'])"
   ]
  },
  {
   "cell_type": "code",
   "execution_count": 19,
   "metadata": {},
   "outputs": [],
   "source": [
    "intakes_outcomes = intakes_merge.merge(outcomes, \n",
    "                        left_on=['animal_id', 'time_shift'], \n",
    "                        right_on=['animal_id', 'datetime'],\n",
    "                        suffixes=['_inter', '_outcomes'])"
   ]
  },
  {
   "cell_type": "code",
   "execution_count": 20,
   "metadata": {},
   "outputs": [
    {
     "name": "stdout",
     "output_type": "stream",
     "text": [
      "<class 'pandas.core.frame.DataFrame'>\n",
      "Int64Index: 124863 entries, 0 to 124862\n",
      "Data columns (total 29 columns):\n",
      " #   Column                 Non-Null Count   Dtype         \n",
      "---  ------                 --------------   -----         \n",
      " 0   animal_id              124863 non-null  object        \n",
      " 1   datetime_inter         124863 non-null  datetime64[ns]\n",
      " 2   category_inter         124863 non-null  object        \n",
      " 3   time_shift             124863 non-null  datetime64[ns]\n",
      " 4   next_event             124863 non-null  object        \n",
      " 5   name                   85775 non-null   object        \n",
      " 6   intake_type            124863 non-null  object        \n",
      " 7   intake_condition       124863 non-null  object        \n",
      " 8   animal_type            124863 non-null  object        \n",
      " 9   breed                  124863 non-null  object        \n",
      " 10  color                  124863 non-null  object        \n",
      " 11  found_address          73363 non-null   object        \n",
      " 12  found_city             124863 non-null  object        \n",
      " 13  spay_neuter_inter      124862 non-null  object        \n",
      " 14  sex_inter              124862 non-null  object        \n",
      " 15  age_in_years_inter     124863 non-null  float64       \n",
      " 16  mix_flag               124863 non-null  bool          \n",
      " 17  breed_1                124863 non-null  object        \n",
      " 18  breed_2                11693 non-null   object        \n",
      " 19  color_1                124863 non-null  object        \n",
      " 20  color_2                66708 non-null   object        \n",
      " 21  category_intakes       124863 non-null  object        \n",
      " 22  datetime_outcomes      124863 non-null  datetime64[ns]\n",
      " 23  outcome_type           124843 non-null  object        \n",
      " 24  outcome_subtype        57306 non-null   object        \n",
      " 25  spay_neuter_outcomes   124862 non-null  object        \n",
      " 26  sex_outcomes           124862 non-null  object        \n",
      " 27  age_in_years_outcomes  124862 non-null  float64       \n",
      " 28  category               124863 non-null  object        \n",
      "dtypes: bool(1), datetime64[ns](3), float64(2), object(23)\n",
      "memory usage: 27.7+ MB\n"
     ]
    }
   ],
   "source": [
    "intakes_outcomes.info()"
   ]
  },
  {
   "cell_type": "markdown",
   "metadata": {},
   "source": [
    "#### Reordering, Dropping, and Renaming Columns"
   ]
  },
  {
   "cell_type": "code",
   "execution_count": 24,
   "metadata": {},
   "outputs": [],
   "source": [
    "columns_to_keep = [\n",
    "    'animal_id',\n",
    "    'datetime_inter',\n",
    "    'name',\n",
    "    'intake_type',\n",
    "    'intake_condition',\n",
    "    'animal_type',\n",
    "    'sex_inter',\n",
    "    'spay_neuter_inter',\n",
    "    'age_in_years_inter',\n",
    "    'breed',\n",
    "    'breed_1',\n",
    "    'breed_2',\n",
    "    'mix_flag',\n",
    "    'color',\n",
    "    'color_1',\n",
    "    'color_2',\n",
    "    'found_address',\n",
    "    'found_city',\n",
    "    'datetime_outcomes',\n",
    "    'outcome_type',\n",
    "    'outcome_subtype',\n",
    "    'sex_outcomes',\n",
    "    'spay_neuter_outcomes',\n",
    "    'age_in_years_outcomes'\n",
    "]\n",
    "\n",
    "intakes_outcomes = intakes_outcomes[columns_to_keep]"
   ]
  },
  {
   "cell_type": "code",
   "execution_count": 27,
   "metadata": {},
   "outputs": [],
   "source": [
    "intakes_outcomes = intakes_outcomes.rename(\n",
    "                                            columns={\n",
    "                                                    'datetime_inter':'intake_datetime', \n",
    "                                                    'sex_inter':'intake_sex',\n",
    "                                                    'spay_neuter_inter':'intake_spay_neuter',\n",
    "                                                    'age_in_years_inter':'intake_age_in_years',\n",
    "                                                    'sex_outcomes':'outcome_sex',\n",
    "                                                    'spay_neuter_outcomes':'outcome_spay_neuter',\n",
    "                                                    'age_in_years_outcomes':'outcome_age_in_years'\n",
    "                                                    }\n",
    "                                            )"
   ]
  },
  {
   "cell_type": "markdown",
   "metadata": {},
   "source": [
    "#### Filter Dataset"
   ]
  },
  {
   "cell_type": "code",
   "execution_count": 28,
   "metadata": {},
   "outputs": [],
   "source": [
    "dogs = intakes_outcomes[intakes_outcomes['animal_type'] == 'Dog']"
   ]
  },
  {
   "cell_type": "markdown",
   "metadata": {},
   "source": [
    "#### Save csv"
   ]
  },
  {
   "cell_type": "code",
   "execution_count": 29,
   "metadata": {},
   "outputs": [],
   "source": [
    "dogs.to_csv('../data/dogs.csv', index=False)"
   ]
  },
  {
   "cell_type": "code",
   "execution_count": null,
   "metadata": {},
   "outputs": [],
   "source": []
  }
 ],
 "metadata": {
  "kernelspec": {
   "display_name": "Python 3",
   "language": "python",
   "name": "python3"
  },
  "language_info": {
   "codemirror_mode": {
    "name": "ipython",
    "version": 3
   },
   "file_extension": ".py",
   "mimetype": "text/x-python",
   "name": "python",
   "nbconvert_exporter": "python",
   "pygments_lexer": "ipython3",
   "version": "3.8.3"
  }
 },
 "nbformat": 4,
 "nbformat_minor": 4
}
