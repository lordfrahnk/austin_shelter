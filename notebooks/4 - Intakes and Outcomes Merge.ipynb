{
 "cells": [
  {
   "cell_type": "markdown",
   "metadata": {},
   "source": [
    "# Intakes and Outcomes Merge"
   ]
  },
  {
   "cell_type": "markdown",
   "metadata": {},
   "source": [
    "#### Imports"
   ]
  },
  {
   "cell_type": "code",
   "execution_count": 1,
   "metadata": {},
   "outputs": [],
   "source": [
    "import pandas as pd"
   ]
  },
  {
   "cell_type": "markdown",
   "metadata": {},
   "source": [
    "#### Read in Data"
   ]
  },
  {
   "cell_type": "code",
   "execution_count": 2,
   "metadata": {},
   "outputs": [],
   "source": [
    "intakes = pd.read_csv('../data/intakes_clean.csv', parse_dates=['datetime'])"
   ]
  },
  {
   "cell_type": "code",
   "execution_count": 3,
   "metadata": {},
   "outputs": [],
   "source": [
    "outcomes = pd.read_csv('../data/outcomes_cleaned.csv', parse_dates=['datetime'])"
   ]
  },
  {
   "cell_type": "markdown",
   "metadata": {},
   "source": [
    "#### Merge Datasets"
   ]
  },
  {
   "cell_type": "code",
   "execution_count": 4,
   "metadata": {},
   "outputs": [],
   "source": [
    "intake_merge = intakes[['animal_id', 'datetime', 'category']]"
   ]
  },
  {
   "cell_type": "code",
   "execution_count": 5,
   "metadata": {},
   "outputs": [],
   "source": [
    "outcome_merge = outcomes[['animal_id', 'datetime', 'category']]"
   ]
  },
  {
   "cell_type": "code",
   "execution_count": null,
   "metadata": {},
   "outputs": [],
   "source": []
  },
  {
   "cell_type": "code",
   "execution_count": 6,
   "metadata": {},
   "outputs": [
    {
     "data": {
      "text/html": [
       "<div>\n",
       "<style scoped>\n",
       "    .dataframe tbody tr th:only-of-type {\n",
       "        vertical-align: middle;\n",
       "    }\n",
       "\n",
       "    .dataframe tbody tr th {\n",
       "        vertical-align: top;\n",
       "    }\n",
       "\n",
       "    .dataframe thead th {\n",
       "        text-align: right;\n",
       "    }\n",
       "</style>\n",
       "<table border=\"1\" class=\"dataframe\">\n",
       "  <thead>\n",
       "    <tr style=\"text-align: right;\">\n",
       "      <th></th>\n",
       "      <th>animal_id</th>\n",
       "      <th>datetime</th>\n",
       "      <th>category</th>\n",
       "    </tr>\n",
       "  </thead>\n",
       "  <tbody>\n",
       "    <tr>\n",
       "      <th>0</th>\n",
       "      <td>A786884</td>\n",
       "      <td>2019-01-03 16:19:00</td>\n",
       "      <td>intake</td>\n",
       "    </tr>\n",
       "    <tr>\n",
       "      <th>1</th>\n",
       "      <td>A706918</td>\n",
       "      <td>2015-07-05 12:59:00</td>\n",
       "      <td>intake</td>\n",
       "    </tr>\n",
       "    <tr>\n",
       "      <th>2</th>\n",
       "      <td>A724273</td>\n",
       "      <td>2016-04-14 18:43:00</td>\n",
       "      <td>intake</td>\n",
       "    </tr>\n",
       "    <tr>\n",
       "      <th>3</th>\n",
       "      <td>A665644</td>\n",
       "      <td>2013-10-21 07:59:00</td>\n",
       "      <td>intake</td>\n",
       "    </tr>\n",
       "    <tr>\n",
       "      <th>4</th>\n",
       "      <td>A682524</td>\n",
       "      <td>2014-06-29 10:38:00</td>\n",
       "      <td>intake</td>\n",
       "    </tr>\n",
       "  </tbody>\n",
       "</table>\n",
       "</div>"
      ],
      "text/plain": [
       "  animal_id            datetime category\n",
       "0   A786884 2019-01-03 16:19:00   intake\n",
       "1   A706918 2015-07-05 12:59:00   intake\n",
       "2   A724273 2016-04-14 18:43:00   intake\n",
       "3   A665644 2013-10-21 07:59:00   intake\n",
       "4   A682524 2014-06-29 10:38:00   intake"
      ]
     },
     "execution_count": 6,
     "metadata": {},
     "output_type": "execute_result"
    }
   ],
   "source": [
    "intake_merge.head()"
   ]
  },
  {
   "cell_type": "code",
   "execution_count": 7,
   "metadata": {},
   "outputs": [
    {
     "data": {
      "text/html": [
       "<div>\n",
       "<style scoped>\n",
       "    .dataframe tbody tr th:only-of-type {\n",
       "        vertical-align: middle;\n",
       "    }\n",
       "\n",
       "    .dataframe tbody tr th {\n",
       "        vertical-align: top;\n",
       "    }\n",
       "\n",
       "    .dataframe thead th {\n",
       "        text-align: right;\n",
       "    }\n",
       "</style>\n",
       "<table border=\"1\" class=\"dataframe\">\n",
       "  <thead>\n",
       "    <tr style=\"text-align: right;\">\n",
       "      <th></th>\n",
       "      <th>animal_id</th>\n",
       "      <th>datetime</th>\n",
       "      <th>category</th>\n",
       "    </tr>\n",
       "  </thead>\n",
       "  <tbody>\n",
       "    <tr>\n",
       "      <th>0</th>\n",
       "      <td>A794011</td>\n",
       "      <td>2019-05-08 18:20:00</td>\n",
       "      <td>outcome</td>\n",
       "    </tr>\n",
       "    <tr>\n",
       "      <th>1</th>\n",
       "      <td>A776359</td>\n",
       "      <td>2018-07-18 16:02:00</td>\n",
       "      <td>outcome</td>\n",
       "    </tr>\n",
       "    <tr>\n",
       "      <th>2</th>\n",
       "      <td>A821648</td>\n",
       "      <td>2020-08-16 11:38:00</td>\n",
       "      <td>outcome</td>\n",
       "    </tr>\n",
       "    <tr>\n",
       "      <th>3</th>\n",
       "      <td>A720371</td>\n",
       "      <td>2016-02-13 17:59:00</td>\n",
       "      <td>outcome</td>\n",
       "    </tr>\n",
       "    <tr>\n",
       "      <th>4</th>\n",
       "      <td>A674754</td>\n",
       "      <td>2014-03-18 11:47:00</td>\n",
       "      <td>outcome</td>\n",
       "    </tr>\n",
       "  </tbody>\n",
       "</table>\n",
       "</div>"
      ],
      "text/plain": [
       "  animal_id            datetime category\n",
       "0   A794011 2019-05-08 18:20:00  outcome\n",
       "1   A776359 2018-07-18 16:02:00  outcome\n",
       "2   A821648 2020-08-16 11:38:00  outcome\n",
       "3   A720371 2016-02-13 17:59:00  outcome\n",
       "4   A674754 2014-03-18 11:47:00  outcome"
      ]
     },
     "execution_count": 7,
     "metadata": {},
     "output_type": "execute_result"
    }
   ],
   "source": [
    "outcome_merge.head()"
   ]
  },
  {
   "cell_type": "code",
   "execution_count": null,
   "metadata": {},
   "outputs": [],
   "source": []
  },
  {
   "cell_type": "code",
   "execution_count": null,
   "metadata": {},
   "outputs": [],
   "source": []
  },
  {
   "cell_type": "code",
   "execution_count": null,
   "metadata": {},
   "outputs": [],
   "source": []
  },
  {
   "cell_type": "code",
   "execution_count": 8,
   "metadata": {},
   "outputs": [],
   "source": [
    "intermediate = pd.concat([intake_merge, outcome_merge]).sort_values('datetime')"
   ]
  },
  {
   "cell_type": "code",
   "execution_count": null,
   "metadata": {},
   "outputs": [],
   "source": []
  },
  {
   "cell_type": "code",
   "execution_count": 9,
   "metadata": {},
   "outputs": [],
   "source": [
    "intermediate['time_shift'] = intermediate.groupby('animal_id').datetime.shift(-1)\n",
    "intermediate['next_event'] = intermediate.groupby('animal_id').category.shift(-1)"
   ]
  },
  {
   "cell_type": "code",
   "execution_count": 10,
   "metadata": {},
   "outputs": [
    {
     "data": {
      "text/html": [
       "<div>\n",
       "<style scoped>\n",
       "    .dataframe tbody tr th:only-of-type {\n",
       "        vertical-align: middle;\n",
       "    }\n",
       "\n",
       "    .dataframe tbody tr th {\n",
       "        vertical-align: top;\n",
       "    }\n",
       "\n",
       "    .dataframe thead th {\n",
       "        text-align: right;\n",
       "    }\n",
       "</style>\n",
       "<table border=\"1\" class=\"dataframe\">\n",
       "  <thead>\n",
       "    <tr style=\"text-align: right;\">\n",
       "      <th></th>\n",
       "      <th>animal_id</th>\n",
       "      <th>datetime</th>\n",
       "      <th>category</th>\n",
       "      <th>time_shift</th>\n",
       "      <th>next_event</th>\n",
       "    </tr>\n",
       "  </thead>\n",
       "  <tbody>\n",
       "    <tr>\n",
       "      <th>67176</th>\n",
       "      <td>A521520</td>\n",
       "      <td>2013-10-01 07:51:00</td>\n",
       "      <td>intake</td>\n",
       "      <td>2013-10-01 15:39:00</td>\n",
       "      <td>outcome</td>\n",
       "    </tr>\n",
       "    <tr>\n",
       "      <th>35879</th>\n",
       "      <td>A664235</td>\n",
       "      <td>2013-10-01 08:33:00</td>\n",
       "      <td>intake</td>\n",
       "      <td>2013-10-01 10:39:00</td>\n",
       "      <td>outcome</td>\n",
       "    </tr>\n",
       "    <tr>\n",
       "      <th>2185</th>\n",
       "      <td>A664237</td>\n",
       "      <td>2013-10-01 08:33:00</td>\n",
       "      <td>intake</td>\n",
       "      <td>2013-10-01 10:44:00</td>\n",
       "      <td>outcome</td>\n",
       "    </tr>\n",
       "    <tr>\n",
       "      <th>106680</th>\n",
       "      <td>A664236</td>\n",
       "      <td>2013-10-01 08:33:00</td>\n",
       "      <td>intake</td>\n",
       "      <td>2013-10-01 10:44:00</td>\n",
       "      <td>outcome</td>\n",
       "    </tr>\n",
       "    <tr>\n",
       "      <th>108286</th>\n",
       "      <td>A664233</td>\n",
       "      <td>2013-10-01 08:53:00</td>\n",
       "      <td>intake</td>\n",
       "      <td>2013-10-01 15:33:00</td>\n",
       "      <td>outcome</td>\n",
       "    </tr>\n",
       "  </tbody>\n",
       "</table>\n",
       "</div>"
      ],
      "text/plain": [
       "       animal_id            datetime category          time_shift next_event\n",
       "67176    A521520 2013-10-01 07:51:00   intake 2013-10-01 15:39:00    outcome\n",
       "35879    A664235 2013-10-01 08:33:00   intake 2013-10-01 10:39:00    outcome\n",
       "2185     A664237 2013-10-01 08:33:00   intake 2013-10-01 10:44:00    outcome\n",
       "106680   A664236 2013-10-01 08:33:00   intake 2013-10-01 10:44:00    outcome\n",
       "108286   A664233 2013-10-01 08:53:00   intake 2013-10-01 15:33:00    outcome"
      ]
     },
     "execution_count": 10,
     "metadata": {},
     "output_type": "execute_result"
    }
   ],
   "source": [
    "intermediate.head()"
   ]
  },
  {
   "cell_type": "code",
   "execution_count": 11,
   "metadata": {},
   "outputs": [
    {
     "data": {
      "text/html": [
       "<div>\n",
       "<style scoped>\n",
       "    .dataframe tbody tr th:only-of-type {\n",
       "        vertical-align: middle;\n",
       "    }\n",
       "\n",
       "    .dataframe tbody tr th {\n",
       "        vertical-align: top;\n",
       "    }\n",
       "\n",
       "    .dataframe thead th {\n",
       "        text-align: right;\n",
       "    }\n",
       "</style>\n",
       "<table border=\"1\" class=\"dataframe\">\n",
       "  <thead>\n",
       "    <tr style=\"text-align: right;\">\n",
       "      <th></th>\n",
       "      <th>animal_id</th>\n",
       "      <th>datetime</th>\n",
       "      <th>category</th>\n",
       "      <th>time_shift</th>\n",
       "      <th>next_event</th>\n",
       "    </tr>\n",
       "  </thead>\n",
       "  <tbody>\n",
       "    <tr>\n",
       "      <th>67176</th>\n",
       "      <td>A521520</td>\n",
       "      <td>2013-10-01 07:51:00</td>\n",
       "      <td>intake</td>\n",
       "      <td>2013-10-01 15:39:00</td>\n",
       "      <td>outcome</td>\n",
       "    </tr>\n",
       "    <tr>\n",
       "      <th>117454</th>\n",
       "      <td>A521520</td>\n",
       "      <td>2013-10-01 15:39:00</td>\n",
       "      <td>outcome</td>\n",
       "      <td>NaT</td>\n",
       "      <td>NaN</td>\n",
       "    </tr>\n",
       "  </tbody>\n",
       "</table>\n",
       "</div>"
      ],
      "text/plain": [
       "       animal_id            datetime category          time_shift next_event\n",
       "67176    A521520 2013-10-01 07:51:00   intake 2013-10-01 15:39:00    outcome\n",
       "117454   A521520 2013-10-01 15:39:00  outcome                 NaT        NaN"
      ]
     },
     "execution_count": 11,
     "metadata": {},
     "output_type": "execute_result"
    }
   ],
   "source": [
    "intermediate[intermediate['animal_id'] == 'A521520']"
   ]
  },
  {
   "cell_type": "code",
   "execution_count": 12,
   "metadata": {},
   "outputs": [
    {
     "data": {
      "text/html": [
       "<div>\n",
       "<style scoped>\n",
       "    .dataframe tbody tr th:only-of-type {\n",
       "        vertical-align: middle;\n",
       "    }\n",
       "\n",
       "    .dataframe tbody tr th {\n",
       "        vertical-align: top;\n",
       "    }\n",
       "\n",
       "    .dataframe thead th {\n",
       "        text-align: right;\n",
       "    }\n",
       "</style>\n",
       "<table border=\"1\" class=\"dataframe\">\n",
       "  <thead>\n",
       "    <tr style=\"text-align: right;\">\n",
       "      <th></th>\n",
       "      <th>animal_id</th>\n",
       "      <th>datetime</th>\n",
       "      <th>category</th>\n",
       "      <th>time_shift</th>\n",
       "      <th>next_event</th>\n",
       "    </tr>\n",
       "  </thead>\n",
       "  <tbody>\n",
       "    <tr>\n",
       "      <th>88298</th>\n",
       "      <td>A721033</td>\n",
       "      <td>2016-02-20 10:44:00</td>\n",
       "      <td>intake</td>\n",
       "      <td>2016-02-20 16:18:00</td>\n",
       "      <td>outcome</td>\n",
       "    </tr>\n",
       "    <tr>\n",
       "      <th>63353</th>\n",
       "      <td>A721033</td>\n",
       "      <td>2016-02-20 16:18:00</td>\n",
       "      <td>outcome</td>\n",
       "      <td>2016-07-10 11:53:00</td>\n",
       "      <td>intake</td>\n",
       "    </tr>\n",
       "    <tr>\n",
       "      <th>33457</th>\n",
       "      <td>A721033</td>\n",
       "      <td>2016-07-10 11:53:00</td>\n",
       "      <td>intake</td>\n",
       "      <td>2016-07-11 17:44:00</td>\n",
       "      <td>outcome</td>\n",
       "    </tr>\n",
       "    <tr>\n",
       "      <th>59076</th>\n",
       "      <td>A721033</td>\n",
       "      <td>2016-07-11 17:44:00</td>\n",
       "      <td>outcome</td>\n",
       "      <td>2016-09-03 14:30:00</td>\n",
       "      <td>intake</td>\n",
       "    </tr>\n",
       "    <tr>\n",
       "      <th>103964</th>\n",
       "      <td>A721033</td>\n",
       "      <td>2016-09-03 14:30:00</td>\n",
       "      <td>intake</td>\n",
       "      <td>2016-09-12 13:40:00</td>\n",
       "      <td>outcome</td>\n",
       "    </tr>\n",
       "    <tr>\n",
       "      <th>84908</th>\n",
       "      <td>A721033</td>\n",
       "      <td>2016-09-12 13:40:00</td>\n",
       "      <td>outcome</td>\n",
       "      <td>2016-10-20 22:47:00</td>\n",
       "      <td>intake</td>\n",
       "    </tr>\n",
       "    <tr>\n",
       "      <th>26724</th>\n",
       "      <td>A721033</td>\n",
       "      <td>2016-10-20 22:47:00</td>\n",
       "      <td>intake</td>\n",
       "      <td>2016-10-21 18:55:00</td>\n",
       "      <td>outcome</td>\n",
       "    </tr>\n",
       "    <tr>\n",
       "      <th>11787</th>\n",
       "      <td>A721033</td>\n",
       "      <td>2016-10-21 18:55:00</td>\n",
       "      <td>outcome</td>\n",
       "      <td>2016-12-15 10:07:00</td>\n",
       "      <td>intake</td>\n",
       "    </tr>\n",
       "    <tr>\n",
       "      <th>38042</th>\n",
       "      <td>A721033</td>\n",
       "      <td>2016-12-15 10:07:00</td>\n",
       "      <td>intake</td>\n",
       "      <td>2016-12-16 11:32:00</td>\n",
       "      <td>outcome</td>\n",
       "    </tr>\n",
       "    <tr>\n",
       "      <th>83750</th>\n",
       "      <td>A721033</td>\n",
       "      <td>2016-12-16 11:32:00</td>\n",
       "      <td>outcome</td>\n",
       "      <td>2017-01-09 14:26:00</td>\n",
       "      <td>intake</td>\n",
       "    </tr>\n",
       "    <tr>\n",
       "      <th>101104</th>\n",
       "      <td>A721033</td>\n",
       "      <td>2017-01-09 14:26:00</td>\n",
       "      <td>intake</td>\n",
       "      <td>2017-01-10 16:20:00</td>\n",
       "      <td>outcome</td>\n",
       "    </tr>\n",
       "    <tr>\n",
       "      <th>9325</th>\n",
       "      <td>A721033</td>\n",
       "      <td>2017-01-10 16:20:00</td>\n",
       "      <td>outcome</td>\n",
       "      <td>2017-01-26 06:55:00</td>\n",
       "      <td>intake</td>\n",
       "    </tr>\n",
       "    <tr>\n",
       "      <th>107372</th>\n",
       "      <td>A721033</td>\n",
       "      <td>2017-01-26 06:55:00</td>\n",
       "      <td>intake</td>\n",
       "      <td>2017-01-28 15:22:00</td>\n",
       "      <td>outcome</td>\n",
       "    </tr>\n",
       "    <tr>\n",
       "      <th>35735</th>\n",
       "      <td>A721033</td>\n",
       "      <td>2017-01-28 15:22:00</td>\n",
       "      <td>outcome</td>\n",
       "      <td>2017-01-30 23:05:00</td>\n",
       "      <td>intake</td>\n",
       "    </tr>\n",
       "    <tr>\n",
       "      <th>38421</th>\n",
       "      <td>A721033</td>\n",
       "      <td>2017-01-30 23:05:00</td>\n",
       "      <td>intake</td>\n",
       "      <td>2017-02-02 11:19:00</td>\n",
       "      <td>outcome</td>\n",
       "    </tr>\n",
       "    <tr>\n",
       "      <th>70866</th>\n",
       "      <td>A721033</td>\n",
       "      <td>2017-02-02 11:19:00</td>\n",
       "      <td>outcome</td>\n",
       "      <td>2017-02-06 10:13:00</td>\n",
       "      <td>intake</td>\n",
       "    </tr>\n",
       "    <tr>\n",
       "      <th>87626</th>\n",
       "      <td>A721033</td>\n",
       "      <td>2017-02-06 10:13:00</td>\n",
       "      <td>intake</td>\n",
       "      <td>2017-02-07 17:26:00</td>\n",
       "      <td>outcome</td>\n",
       "    </tr>\n",
       "    <tr>\n",
       "      <th>57712</th>\n",
       "      <td>A721033</td>\n",
       "      <td>2017-02-07 17:26:00</td>\n",
       "      <td>outcome</td>\n",
       "      <td>2017-03-15 09:24:00</td>\n",
       "      <td>intake</td>\n",
       "    </tr>\n",
       "    <tr>\n",
       "      <th>22178</th>\n",
       "      <td>A721033</td>\n",
       "      <td>2017-03-15 09:24:00</td>\n",
       "      <td>intake</td>\n",
       "      <td>2017-03-16 12:50:00</td>\n",
       "      <td>outcome</td>\n",
       "    </tr>\n",
       "    <tr>\n",
       "      <th>81294</th>\n",
       "      <td>A721033</td>\n",
       "      <td>2017-03-16 12:50:00</td>\n",
       "      <td>outcome</td>\n",
       "      <td>2018-02-22 10:28:00</td>\n",
       "      <td>intake</td>\n",
       "    </tr>\n",
       "    <tr>\n",
       "      <th>117772</th>\n",
       "      <td>A721033</td>\n",
       "      <td>2018-02-22 10:28:00</td>\n",
       "      <td>intake</td>\n",
       "      <td>2018-02-23 13:06:00</td>\n",
       "      <td>outcome</td>\n",
       "    </tr>\n",
       "    <tr>\n",
       "      <th>77234</th>\n",
       "      <td>A721033</td>\n",
       "      <td>2018-02-23 13:06:00</td>\n",
       "      <td>outcome</td>\n",
       "      <td>2018-03-07 08:27:00</td>\n",
       "      <td>intake</td>\n",
       "    </tr>\n",
       "    <tr>\n",
       "      <th>9731</th>\n",
       "      <td>A721033</td>\n",
       "      <td>2018-03-07 08:27:00</td>\n",
       "      <td>intake</td>\n",
       "      <td>2018-03-08 15:04:00</td>\n",
       "      <td>outcome</td>\n",
       "    </tr>\n",
       "    <tr>\n",
       "      <th>92796</th>\n",
       "      <td>A721033</td>\n",
       "      <td>2018-03-08 15:04:00</td>\n",
       "      <td>outcome</td>\n",
       "      <td>2018-03-14 10:57:00</td>\n",
       "      <td>intake</td>\n",
       "    </tr>\n",
       "    <tr>\n",
       "      <th>48192</th>\n",
       "      <td>A721033</td>\n",
       "      <td>2018-03-14 10:57:00</td>\n",
       "      <td>intake</td>\n",
       "      <td>2018-03-16 16:04:00</td>\n",
       "      <td>outcome</td>\n",
       "    </tr>\n",
       "  </tbody>\n",
       "</table>\n",
       "</div>"
      ],
      "text/plain": [
       "       animal_id            datetime category          time_shift next_event\n",
       "88298    A721033 2016-02-20 10:44:00   intake 2016-02-20 16:18:00    outcome\n",
       "63353    A721033 2016-02-20 16:18:00  outcome 2016-07-10 11:53:00     intake\n",
       "33457    A721033 2016-07-10 11:53:00   intake 2016-07-11 17:44:00    outcome\n",
       "59076    A721033 2016-07-11 17:44:00  outcome 2016-09-03 14:30:00     intake\n",
       "103964   A721033 2016-09-03 14:30:00   intake 2016-09-12 13:40:00    outcome\n",
       "84908    A721033 2016-09-12 13:40:00  outcome 2016-10-20 22:47:00     intake\n",
       "26724    A721033 2016-10-20 22:47:00   intake 2016-10-21 18:55:00    outcome\n",
       "11787    A721033 2016-10-21 18:55:00  outcome 2016-12-15 10:07:00     intake\n",
       "38042    A721033 2016-12-15 10:07:00   intake 2016-12-16 11:32:00    outcome\n",
       "83750    A721033 2016-12-16 11:32:00  outcome 2017-01-09 14:26:00     intake\n",
       "101104   A721033 2017-01-09 14:26:00   intake 2017-01-10 16:20:00    outcome\n",
       "9325     A721033 2017-01-10 16:20:00  outcome 2017-01-26 06:55:00     intake\n",
       "107372   A721033 2017-01-26 06:55:00   intake 2017-01-28 15:22:00    outcome\n",
       "35735    A721033 2017-01-28 15:22:00  outcome 2017-01-30 23:05:00     intake\n",
       "38421    A721033 2017-01-30 23:05:00   intake 2017-02-02 11:19:00    outcome\n",
       "70866    A721033 2017-02-02 11:19:00  outcome 2017-02-06 10:13:00     intake\n",
       "87626    A721033 2017-02-06 10:13:00   intake 2017-02-07 17:26:00    outcome\n",
       "57712    A721033 2017-02-07 17:26:00  outcome 2017-03-15 09:24:00     intake\n",
       "22178    A721033 2017-03-15 09:24:00   intake 2017-03-16 12:50:00    outcome\n",
       "81294    A721033 2017-03-16 12:50:00  outcome 2018-02-22 10:28:00     intake\n",
       "117772   A721033 2018-02-22 10:28:00   intake 2018-02-23 13:06:00    outcome\n",
       "77234    A721033 2018-02-23 13:06:00  outcome 2018-03-07 08:27:00     intake\n",
       "9731     A721033 2018-03-07 08:27:00   intake 2018-03-08 15:04:00    outcome\n",
       "92796    A721033 2018-03-08 15:04:00  outcome 2018-03-14 10:57:00     intake\n",
       "48192    A721033 2018-03-14 10:57:00   intake 2018-03-16 16:04:00    outcome"
      ]
     },
     "execution_count": 12,
     "metadata": {},
     "output_type": "execute_result"
    }
   ],
   "source": [
    "intermediate[intermediate['animal_id'] == 'A721033'].head(25)"
   ]
  },
  {
   "cell_type": "code",
   "execution_count": 13,
   "metadata": {},
   "outputs": [],
   "source": [
    "#ensures we only get intake to outcome results\n",
    "intermediate = intermediate[(intermediate['category'] == 'intake') & (intermediate['next_event'] == 'outcome')]"
   ]
  },
  {
   "cell_type": "code",
   "execution_count": 14,
   "metadata": {},
   "outputs": [],
   "source": [
    "intermediate = intakes.merge(intermediate, left_on=['animal_id', 'datetime'], \n",
    "                             right_on=['animal_id', 'datetime'],\n",
    "                            suffixes=['_intake', '_intermediate'])"
   ]
  },
  {
   "cell_type": "code",
   "execution_count": 15,
   "metadata": {},
   "outputs": [],
   "source": [
    "intakes_outcomes = outcomes.merge(intermediate, left_on=['animal_id', 'datetime'], \n",
    "                       right_on=['animal_id', 'time_shift'],\n",
    "                      suffixes=['_outcome', '_intermediate2'])"
   ]
  },
  {
   "cell_type": "code",
   "execution_count": 16,
   "metadata": {},
   "outputs": [
    {
     "name": "stdout",
     "output_type": "stream",
     "text": [
      "<class 'pandas.core.frame.DataFrame'>\n",
      "Int64Index: 124863 entries, 0 to 124862\n",
      "Data columns (total 29 columns):\n",
      " #   Column                      Non-Null Count   Dtype         \n",
      "---  ------                      --------------   -----         \n",
      " 0   animal_id                   124863 non-null  object        \n",
      " 1   datetime_outcome            124863 non-null  datetime64[ns]\n",
      " 2   outcome_type                124843 non-null  object        \n",
      " 3   outcome_subtype             57306 non-null   object        \n",
      " 4   spay_neuter_outcome         124862 non-null  object        \n",
      " 5   sex_outcome                 124862 non-null  object        \n",
      " 6   age_in_years_outcome        124862 non-null  float64       \n",
      " 7   category                    124863 non-null  object        \n",
      " 8   name                        85775 non-null   object        \n",
      " 9   datetime_intermediate2      124863 non-null  datetime64[ns]\n",
      " 10  intake_type                 124863 non-null  object        \n",
      " 11  intake_condition            124863 non-null  object        \n",
      " 12  animal_type                 124863 non-null  object        \n",
      " 13  breed                       124863 non-null  object        \n",
      " 14  color                       124863 non-null  object        \n",
      " 15  found_address               73363 non-null   object        \n",
      " 16  found_city                  124863 non-null  object        \n",
      " 17  spay_neuter_intermediate2   124862 non-null  object        \n",
      " 18  sex_intermediate2           124862 non-null  object        \n",
      " 19  age_in_years_intermediate2  124863 non-null  float64       \n",
      " 20  mix_flag                    124863 non-null  bool          \n",
      " 21  breed_1                     124863 non-null  object        \n",
      " 22  breed_2                     11693 non-null   object        \n",
      " 23  color_1                     124863 non-null  object        \n",
      " 24  color_2                     66708 non-null   object        \n",
      " 25  category_intake             124863 non-null  object        \n",
      " 26  category_intermediate       124863 non-null  object        \n",
      " 27  time_shift                  124863 non-null  datetime64[ns]\n",
      " 28  next_event                  124863 non-null  object        \n",
      "dtypes: bool(1), datetime64[ns](3), float64(2), object(23)\n",
      "memory usage: 27.7+ MB\n"
     ]
    }
   ],
   "source": [
    "intakes_outcomes.info()"
   ]
  },
  {
   "cell_type": "markdown",
   "metadata": {},
   "source": [
    "#### Filter Dataset"
   ]
  },
  {
   "cell_type": "code",
   "execution_count": null,
   "metadata": {},
   "outputs": [],
   "source": [
    "dogs = outcomes_intakes[outcomes_intakes['animal_type_outcome'] == 'Dog']"
   ]
  },
  {
   "cell_type": "markdown",
   "metadata": {},
   "source": [
    "#### Save csv"
   ]
  },
  {
   "cell_type": "code",
   "execution_count": null,
   "metadata": {},
   "outputs": [],
   "source": [
    "dogs.to_csv('../data/dogs.csv', index=False)"
   ]
  },
  {
   "cell_type": "code",
   "execution_count": null,
   "metadata": {},
   "outputs": [],
   "source": []
  }
 ],
 "metadata": {
  "kernelspec": {
   "display_name": "Python 3",
   "language": "python",
   "name": "python3"
  },
  "language_info": {
   "codemirror_mode": {
    "name": "ipython",
    "version": 3
   },
   "file_extension": ".py",
   "mimetype": "text/x-python",
   "name": "python",
   "nbconvert_exporter": "python",
   "pygments_lexer": "ipython3",
   "version": "3.8.3"
  }
 },
 "nbformat": 4,
 "nbformat_minor": 4
}
