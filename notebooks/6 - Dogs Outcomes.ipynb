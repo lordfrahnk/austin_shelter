{
 "cells": [
  {
   "cell_type": "markdown",
   "metadata": {},
   "source": [
    "# Dogs Outcomes"
   ]
  },
  {
   "cell_type": "markdown",
   "metadata": {},
   "source": [
    "#### Imports"
   ]
  },
  {
   "cell_type": "code",
   "execution_count": 1,
   "metadata": {},
   "outputs": [],
   "source": [
    "import pandas as pd"
   ]
  },
  {
   "cell_type": "markdown",
   "metadata": {},
   "source": [
    "#### Read in Dataset"
   ]
  },
  {
   "cell_type": "code",
   "execution_count": 4,
   "metadata": {},
   "outputs": [],
   "source": [
    "dogs_outcomes = pd.read_csv('../data/outcomes_cleaned.csv', parse_dates=['datetime'])"
   ]
  },
  {
   "cell_type": "code",
   "execution_count": 5,
   "metadata": {},
   "outputs": [],
   "source": [
    "dogs_outcomes = dogs_outcomes[dogs_outcomes['animal_type'] == 'Dog']"
   ]
  },
  {
   "cell_type": "markdown",
   "metadata": {},
   "source": [
    "#### EDA"
   ]
  },
  {
   "cell_type": "code",
   "execution_count": 9,
   "metadata": {},
   "outputs": [
    {
     "data": {
      "text/plain": [
       "<matplotlib.axes._subplots.AxesSubplot at 0x7feb4addf520>"
      ]
     },
     "execution_count": 9,
     "metadata": {},
     "output_type": "execute_result"
    },
    {
     "data": {
      "image/png": "[encoded data removed]",
      "text/plain": [
       "<Figure size 432x288 with 1 Axes>"
      ]
     },
     "metadata": {
      "needs_background": "light"
     },
     "output_type": "display_data"
    }
   ],
   "source": [
    "dogs_outcomes['outcome_type'].value_counts().plot(kind='barh')"
   ]
  },
  {
   "cell_type": "code",
   "execution_count": 22,
   "metadata": {},
   "outputs": [
    {
     "data": {
      "text/plain": [
       "outcome_type     outcome_subtype    \n",
       "Adoption         Foster                  4768\n",
       "                 Offsite                  314\n",
       "Died             At Vet                    30\n",
       "                 Enroute                   10\n",
       "                 In Foster                 41\n",
       "                 In Kennel                161\n",
       "                 In Surgery                10\n",
       "Euthanasia       Aggressive               540\n",
       "                 At Vet                    60\n",
       "                 Behavior                 158\n",
       "                 Court/Investigation       31\n",
       "                 Medical                   71\n",
       "                 Rabies Risk               94\n",
       "                 Suffering                848\n",
       "Missing          In Foster                  6\n",
       "                 In Kennel                  2\n",
       "                 Possible Theft            14\n",
       "Return to Owner  At Vet                     1\n",
       "                 Customer S                 5\n",
       "                 Field                     39\n",
       "                 Foster                     2\n",
       "                 Prc                        6\n",
       "Transfer         Barn                       1\n",
       "                 Emer                       3\n",
       "                 Partner                15611\n",
       "Name: animal_id, dtype: int64"
      ]
     },
     "execution_count": 22,
     "metadata": {},
     "output_type": "execute_result"
    }
   ],
   "source": [
    "dogs_outcomes.groupby(['outcome_type', 'outcome_subtype'])['animal_id'].count()"
   ]
  },
  {
   "cell_type": "code",
   "execution_count": 24,
   "metadata": {},
   "outputs": [
    {
     "data": {
      "text/plain": [
       "Male       0.534722\n",
       "Female     0.458864\n",
       "Unknown    0.006413\n",
       "Name: sex, dtype: float64"
      ]
     },
     "execution_count": 24,
     "metadata": {},
     "output_type": "execute_result"
    }
   ],
   "source": [
    "dogs_outcomes['sex'].value_counts(normalize=True)"
   ]
  },
  {
   "cell_type": "markdown",
   "metadata": {},
   "source": [
    "Matches the intakes data"
   ]
  },
  {
   "cell_type": "code",
   "execution_count": 26,
   "metadata": {},
   "outputs": [
    {
     "data": {
      "text/plain": [
       "Neutered    0.417952\n",
       "Spayed      0.357297\n",
       "Intact      0.218338\n",
       "Unknown     0.006413\n",
       "Name: spay_neuter, dtype: float64"
      ]
     },
     "execution_count": 26,
     "metadata": {},
     "output_type": "execute_result"
    }
   ],
   "source": [
    "dogs_outcomes['spay_neuter'].value_counts(normalize=True)"
   ]
  },
  {
   "cell_type": "markdown",
   "metadata": {},
   "source": [
    "63% of dogs are intact when they are brought into the shelter. This confirms that the shelter is actively spaying/neutering the animals"
   ]
  },
  {
   "cell_type": "markdown",
   "metadata": {},
   "source": [
    "#### Adoptions"
   ]
  },
  {
   "cell_type": "code",
   "execution_count": 31,
   "metadata": {},
   "outputs": [
    {
     "data": {
      "text/plain": [
       "Labrador Retriever Mix                            0.107366\n",
       "Pit Bull Mix                                      0.099352\n",
       "Chihuahua Shorthair Mix                           0.088767\n",
       "German Shepherd Mix                               0.046956\n",
       "Australian Cattle Dog Mix                         0.025873\n",
       "                                                    ...   \n",
       "Pointer/American Staffordshire Terrier            0.000030\n",
       "Beagle/Staffordshire                              0.000030\n",
       "Pharaoh Hound/Border Collie                       0.000030\n",
       "American Staffordshire Terrier/Chinese Sharpei    0.000030\n",
       "Pointer/Australian Shepherd                       0.000030\n",
       "Name: breed, Length: 1739, dtype: float64"
      ]
     },
     "execution_count": 31,
     "metadata": {},
     "output_type": "execute_result"
    }
   ],
   "source": [
    "dogs_outcomes[dogs_outcomes['outcome_type'] == 'Adoption']['breed'].value_counts(normalize=True)"
   ]
  },
  {
   "cell_type": "markdown",
   "metadata": {},
   "source": [
    "##### Age Distribution of Adopted Dogs"
   ]
  },
  {
   "cell_type": "code",
   "execution_count": 35,
   "metadata": {},
   "outputs": [
    {
     "data": {
      "image/png": "[encoded data removed]",
      "text/plain": [
       "<Figure size 432x288 with 1 Axes>"
      ]
     },
     "metadata": {
      "needs_background": "light"
     },
     "output_type": "display_data"
    }
   ],
   "source": [
    "dogs_outcomes[dogs_outcomes['outcome_type'] == 'Adoption']['age_in_years'].plot(kind='hist');"
   ]
  },
  {
   "cell_type": "code",
   "execution_count": 21,
   "metadata": {},
   "outputs": [
    {
     "data": {
      "text/html": [
       "<div>\n",
       "<style scoped>\n",
       "    .dataframe tbody tr th:only-of-type {\n",
       "        vertical-align: middle;\n",
       "    }\n",
       "\n",
       "    .dataframe tbody tr th {\n",
       "        vertical-align: top;\n",
       "    }\n",
       "\n",
       "    .dataframe thead th {\n",
       "        text-align: right;\n",
       "    }\n",
       "</style>\n",
       "<table border=\"1\" class=\"dataframe\">\n",
       "  <thead>\n",
       "    <tr style=\"text-align: right;\">\n",
       "      <th></th>\n",
       "      <th>animal_id</th>\n",
       "      <th>name</th>\n",
       "      <th>datetime</th>\n",
       "      <th>outcome_type</th>\n",
       "      <th>outcome_subtype</th>\n",
       "      <th>animal_type</th>\n",
       "      <th>breed</th>\n",
       "      <th>color</th>\n",
       "      <th>spay_neuter</th>\n",
       "      <th>sex</th>\n",
       "      <th>age_in_years</th>\n",
       "      <th>outcome_count</th>\n",
       "    </tr>\n",
       "  </thead>\n",
       "  <tbody>\n",
       "    <tr>\n",
       "      <th>1</th>\n",
       "      <td>A776359</td>\n",
       "      <td>Gizmo</td>\n",
       "      <td>2018-07-18 16:02:00</td>\n",
       "      <td>Adoption</td>\n",
       "      <td>NaN</td>\n",
       "      <td>Dog</td>\n",
       "      <td>Chihuahua Shorthair Mix</td>\n",
       "      <td>White/Brown</td>\n",
       "      <td>Neutered</td>\n",
       "      <td>Male</td>\n",
       "      <td>1.00</td>\n",
       "      <td>1.0</td>\n",
       "    </tr>\n",
       "    <tr>\n",
       "      <th>3</th>\n",
       "      <td>A720371</td>\n",
       "      <td>Moose</td>\n",
       "      <td>2016-02-13 17:59:00</td>\n",
       "      <td>Adoption</td>\n",
       "      <td>NaN</td>\n",
       "      <td>Dog</td>\n",
       "      <td>Anatol Shepherd/Labrador Retriever</td>\n",
       "      <td>Buff</td>\n",
       "      <td>Neutered</td>\n",
       "      <td>Male</td>\n",
       "      <td>0.33</td>\n",
       "      <td>1.0</td>\n",
       "    </tr>\n",
       "    <tr>\n",
       "      <th>5</th>\n",
       "      <td>A659412</td>\n",
       "      <td>Princess</td>\n",
       "      <td>2020-10-05 14:37:00</td>\n",
       "      <td>Adoption</td>\n",
       "      <td>NaN</td>\n",
       "      <td>Dog</td>\n",
       "      <td>Chihuahua Shorthair Mix</td>\n",
       "      <td>Brown</td>\n",
       "      <td>Spayed</td>\n",
       "      <td>Female</td>\n",
       "      <td>7.00</td>\n",
       "      <td>2.0</td>\n",
       "    </tr>\n",
       "    <tr>\n",
       "      <th>6</th>\n",
       "      <td>A814515</td>\n",
       "      <td>Quentin</td>\n",
       "      <td>2020-05-06 07:59:00</td>\n",
       "      <td>Adoption</td>\n",
       "      <td>Foster</td>\n",
       "      <td>Dog</td>\n",
       "      <td>American Foxhound/Labrador Retriever</td>\n",
       "      <td>White/Brown</td>\n",
       "      <td>Neutered</td>\n",
       "      <td>Male</td>\n",
       "      <td>2.00</td>\n",
       "      <td>1.0</td>\n",
       "    </tr>\n",
       "    <tr>\n",
       "      <th>17</th>\n",
       "      <td>A765349</td>\n",
       "      <td>Einstein</td>\n",
       "      <td>2018-06-08 13:04:00</td>\n",
       "      <td>Adoption</td>\n",
       "      <td>Foster</td>\n",
       "      <td>Dog</td>\n",
       "      <td>Chihuahua Shorthair Mix</td>\n",
       "      <td>Tricolor</td>\n",
       "      <td>Neutered</td>\n",
       "      <td>Male</td>\n",
       "      <td>9.00</td>\n",
       "      <td>2.0</td>\n",
       "    </tr>\n",
       "  </tbody>\n",
       "</table>\n",
       "</div>"
      ],
      "text/plain": [
       "   animal_id      name            datetime outcome_type outcome_subtype  \\\n",
       "1    A776359     Gizmo 2018-07-18 16:02:00     Adoption             NaN   \n",
       "3    A720371     Moose 2016-02-13 17:59:00     Adoption             NaN   \n",
       "5    A659412  Princess 2020-10-05 14:37:00     Adoption             NaN   \n",
       "6    A814515   Quentin 2020-05-06 07:59:00     Adoption          Foster   \n",
       "17   A765349  Einstein 2018-06-08 13:04:00     Adoption          Foster   \n",
       "\n",
       "   animal_type                                 breed        color spay_neuter  \\\n",
       "1          Dog               Chihuahua Shorthair Mix  White/Brown    Neutered   \n",
       "3          Dog    Anatol Shepherd/Labrador Retriever         Buff    Neutered   \n",
       "5          Dog               Chihuahua Shorthair Mix        Brown      Spayed   \n",
       "6          Dog  American Foxhound/Labrador Retriever  White/Brown    Neutered   \n",
       "17         Dog               Chihuahua Shorthair Mix     Tricolor    Neutered   \n",
       "\n",
       "       sex  age_in_years  outcome_count  \n",
       "1     Male          1.00            1.0  \n",
       "3     Male          0.33            1.0  \n",
       "5   Female          7.00            2.0  \n",
       "6     Male          2.00            1.0  \n",
       "17    Male          9.00            2.0  "
      ]
     },
     "execution_count": 21,
     "metadata": {},
     "output_type": "execute_result"
    }
   ],
   "source": [
    "dogs_outcomes.head()"
   ]
  },
  {
   "cell_type": "code",
   "execution_count": null,
   "metadata": {},
   "outputs": [],
   "source": []
  }
 ],
 "metadata": {
  "kernelspec": {
   "display_name": "Python 3",
   "language": "python",
   "name": "python3"
  },
  "language_info": {
   "codemirror_mode": {
    "name": "ipython",
    "version": 3
   },
   "file_extension": ".py",
   "mimetype": "text/x-python",
   "name": "python",
   "nbconvert_exporter": "python",
   "pygments_lexer": "ipython3",
   "version": "3.8.3"
  }
 },
 "nbformat": 4,
 "nbformat_minor": 4
}
