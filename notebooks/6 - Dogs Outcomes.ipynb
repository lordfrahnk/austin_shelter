{
 "cells": [
  {
   "cell_type": "markdown",
   "metadata": {},
   "source": [
    "# Dogs Outcomes"
   ]
  },
  {
   "cell_type": "markdown",
   "metadata": {},
   "source": [
    "#### Imports"
   ]
  },
  {
   "cell_type": "code",
   "execution_count": 1,
   "metadata": {},
   "outputs": [],
   "source": [
    "import pandas as pd\n",
    "import numpy as np\n",
    "import matplotlib.pyplot as plt"
   ]
  },
  {
   "cell_type": "markdown",
   "metadata": {},
   "source": [
    "#### Read in Dataset"
   ]
  },
  {
   "cell_type": "code",
   "execution_count": 2,
   "metadata": {},
   "outputs": [],
   "source": [
    "dogs_outcomes = pd.read_csv('../data/dogs.csv')"
   ]
  },
  {
   "cell_type": "markdown",
   "metadata": {},
   "source": [
    "#### EDA"
   ]
  },
  {
   "cell_type": "code",
   "execution_count": 3,
   "metadata": {},
   "outputs": [
    {
     "data": {
      "image/png": "[encoded data removed]",
      "text/plain": [
       "<Figure size 432x288 with 1 Axes>"
      ]
     },
     "metadata": {
      "needs_background": "light"
     },
     "output_type": "display_data"
    }
   ],
   "source": [
    "data = dogs_outcomes['outcome_type'].value_counts(normalize=True).reset_index()\n",
    "\n",
    "plt.bar(data['index'], \n",
    "        data['outcome_type'],\n",
    "        color='forestgreen',\n",
    "        edgecolor='black'\n",
    "       )\n",
    "\n",
    "plt.title('Outcomes Since 2013', weight='bold')\n",
    "plt.xlabel('Outcome Type', weight='bold')\n",
    "plt.xticks(rotation=45)\n",
    "plt.ylabel('Percentage')\n",
    "plt.savefig('../plots/outcomes_since_2013', bbox_inches='tight', dpi=300);"
   ]
  },
  {
   "cell_type": "code",
   "execution_count": 4,
   "metadata": {},
   "outputs": [],
   "source": [
    "outcome_by_breed = pd.crosstab(dogs_outcomes['breed'], \n",
    "                    dogs_outcomes['outcome_type'], \n",
    "                    margins=True\n",
    "                   ).reset_index().sort_values('All', ascending=False).head(15)"
   ]
  },
  {
   "cell_type": "code",
   "execution_count": 5,
   "metadata": {},
   "outputs": [
    {
     "data": {
      "text/html": [
       "<div>\n",
       "<style scoped>\n",
       "    .dataframe tbody tr th:only-of-type {\n",
       "        vertical-align: middle;\n",
       "    }\n",
       "\n",
       "    .dataframe tbody tr th {\n",
       "        vertical-align: top;\n",
       "    }\n",
       "\n",
       "    .dataframe thead th {\n",
       "        text-align: right;\n",
       "    }\n",
       "</style>\n",
       "<table border=\"1\" class=\"dataframe\">\n",
       "  <thead>\n",
       "    <tr style=\"text-align: right;\">\n",
       "      <th>outcome_type</th>\n",
       "      <th>breed</th>\n",
       "      <th>Adoption</th>\n",
       "      <th>Died</th>\n",
       "      <th>Disposal</th>\n",
       "      <th>Euthanasia</th>\n",
       "      <th>Missing</th>\n",
       "      <th>Return to Owner</th>\n",
       "      <th>Rto-Adopt</th>\n",
       "      <th>Transfer</th>\n",
       "      <th>All</th>\n",
       "    </tr>\n",
       "  </thead>\n",
       "  <tbody>\n",
       "    <tr>\n",
       "      <th>2335</th>\n",
       "      <td>All</td>\n",
       "      <td>33517</td>\n",
       "      <td>253</td>\n",
       "      <td>36</td>\n",
       "      <td>1768</td>\n",
       "      <td>28</td>\n",
       "      <td>19325</td>\n",
       "      <td>571</td>\n",
       "      <td>15405</td>\n",
       "      <td>70903</td>\n",
       "    </tr>\n",
       "    <tr>\n",
       "      <th>1773</th>\n",
       "      <td>Pit Bull Mix</td>\n",
       "      <td>3301</td>\n",
       "      <td>22</td>\n",
       "      <td>3</td>\n",
       "      <td>455</td>\n",
       "      <td>12</td>\n",
       "      <td>2834</td>\n",
       "      <td>94</td>\n",
       "      <td>1680</td>\n",
       "      <td>8401</td>\n",
       "    </tr>\n",
       "    <tr>\n",
       "      <th>1413</th>\n",
       "      <td>Labrador Retriever Mix</td>\n",
       "      <td>3597</td>\n",
       "      <td>21</td>\n",
       "      <td>1</td>\n",
       "      <td>135</td>\n",
       "      <td>3</td>\n",
       "      <td>1640</td>\n",
       "      <td>44</td>\n",
       "      <td>1434</td>\n",
       "      <td>6875</td>\n",
       "    </tr>\n",
       "    <tr>\n",
       "      <th>768</th>\n",
       "      <td>Chihuahua Shorthair Mix</td>\n",
       "      <td>2979</td>\n",
       "      <td>44</td>\n",
       "      <td>1</td>\n",
       "      <td>165</td>\n",
       "      <td>1</td>\n",
       "      <td>1483</td>\n",
       "      <td>31</td>\n",
       "      <td>1526</td>\n",
       "      <td>6230</td>\n",
       "    </tr>\n",
       "    <tr>\n",
       "      <th>1158</th>\n",
       "      <td>German Shepherd Mix</td>\n",
       "      <td>1574</td>\n",
       "      <td>9</td>\n",
       "      <td>1</td>\n",
       "      <td>59</td>\n",
       "      <td>1</td>\n",
       "      <td>808</td>\n",
       "      <td>18</td>\n",
       "      <td>549</td>\n",
       "      <td>3019</td>\n",
       "    </tr>\n",
       "  </tbody>\n",
       "</table>\n",
       "</div>"
      ],
      "text/plain": [
       "outcome_type                    breed  Adoption  Died  Disposal  Euthanasia  \\\n",
       "2335                              All     33517   253        36        1768   \n",
       "1773                     Pit Bull Mix      3301    22         3         455   \n",
       "1413           Labrador Retriever Mix      3597    21         1         135   \n",
       "768           Chihuahua Shorthair Mix      2979    44         1         165   \n",
       "1158              German Shepherd Mix      1574     9         1          59   \n",
       "\n",
       "outcome_type  Missing  Return to Owner  Rto-Adopt  Transfer    All  \n",
       "2335               28            19325        571     15405  70903  \n",
       "1773               12             2834         94      1680   8401  \n",
       "1413                3             1640         44      1434   6875  \n",
       "768                 1             1483         31      1526   6230  \n",
       "1158                1              808         18       549   3019  "
      ]
     },
     "execution_count": 5,
     "metadata": {},
     "output_type": "execute_result"
    }
   ],
   "source": [
    "outcome_by_breed.head()"
   ]
  },
  {
   "cell_type": "code",
   "execution_count": 6,
   "metadata": {},
   "outputs": [],
   "source": [
    "outcome_by_breed = pd.melt(outcome_by_breed, id_vars=['breed'], value_name='count')"
   ]
  },
  {
   "cell_type": "code",
   "execution_count": 7,
   "metadata": {},
   "outputs": [
    {
     "data": {
      "text/html": [
       "<div>\n",
       "<style scoped>\n",
       "    .dataframe tbody tr th:only-of-type {\n",
       "        vertical-align: middle;\n",
       "    }\n",
       "\n",
       "    .dataframe tbody tr th {\n",
       "        vertical-align: top;\n",
       "    }\n",
       "\n",
       "    .dataframe thead th {\n",
       "        text-align: right;\n",
       "    }\n",
       "</style>\n",
       "<table border=\"1\" class=\"dataframe\">\n",
       "  <thead>\n",
       "    <tr style=\"text-align: right;\">\n",
       "      <th></th>\n",
       "      <th>breed</th>\n",
       "      <th>outcome_type</th>\n",
       "      <th>count</th>\n",
       "    </tr>\n",
       "  </thead>\n",
       "  <tbody>\n",
       "    <tr>\n",
       "      <th>0</th>\n",
       "      <td>All</td>\n",
       "      <td>Adoption</td>\n",
       "      <td>33517</td>\n",
       "    </tr>\n",
       "    <tr>\n",
       "      <th>1</th>\n",
       "      <td>Pit Bull Mix</td>\n",
       "      <td>Adoption</td>\n",
       "      <td>3301</td>\n",
       "    </tr>\n",
       "    <tr>\n",
       "      <th>2</th>\n",
       "      <td>Labrador Retriever Mix</td>\n",
       "      <td>Adoption</td>\n",
       "      <td>3597</td>\n",
       "    </tr>\n",
       "    <tr>\n",
       "      <th>3</th>\n",
       "      <td>Chihuahua Shorthair Mix</td>\n",
       "      <td>Adoption</td>\n",
       "      <td>2979</td>\n",
       "    </tr>\n",
       "    <tr>\n",
       "      <th>4</th>\n",
       "      <td>German Shepherd Mix</td>\n",
       "      <td>Adoption</td>\n",
       "      <td>1574</td>\n",
       "    </tr>\n",
       "    <tr>\n",
       "      <th>...</th>\n",
       "      <td>...</td>\n",
       "      <td>...</td>\n",
       "      <td>...</td>\n",
       "    </tr>\n",
       "    <tr>\n",
       "      <th>130</th>\n",
       "      <td>Boxer Mix</td>\n",
       "      <td>All</td>\n",
       "      <td>961</td>\n",
       "    </tr>\n",
       "    <tr>\n",
       "      <th>131</th>\n",
       "      <td>Border Collie Mix</td>\n",
       "      <td>All</td>\n",
       "      <td>951</td>\n",
       "    </tr>\n",
       "    <tr>\n",
       "      <th>132</th>\n",
       "      <td>German Shepherd</td>\n",
       "      <td>All</td>\n",
       "      <td>917</td>\n",
       "    </tr>\n",
       "    <tr>\n",
       "      <th>133</th>\n",
       "      <td>Miniature Poodle Mix</td>\n",
       "      <td>All</td>\n",
       "      <td>858</td>\n",
       "    </tr>\n",
       "    <tr>\n",
       "      <th>134</th>\n",
       "      <td>Catahoula Mix</td>\n",
       "      <td>All</td>\n",
       "      <td>704</td>\n",
       "    </tr>\n",
       "  </tbody>\n",
       "</table>\n",
       "<p>135 rows × 3 columns</p>\n",
       "</div>"
      ],
      "text/plain": [
       "                       breed outcome_type  count\n",
       "0                        All     Adoption  33517\n",
       "1               Pit Bull Mix     Adoption   3301\n",
       "2     Labrador Retriever Mix     Adoption   3597\n",
       "3    Chihuahua Shorthair Mix     Adoption   2979\n",
       "4        German Shepherd Mix     Adoption   1574\n",
       "..                       ...          ...    ...\n",
       "130                Boxer Mix          All    961\n",
       "131        Border Collie Mix          All    951\n",
       "132          German Shepherd          All    917\n",
       "133     Miniature Poodle Mix          All    858\n",
       "134            Catahoula Mix          All    704\n",
       "\n",
       "[135 rows x 3 columns]"
      ]
     },
     "execution_count": 7,
     "metadata": {},
     "output_type": "execute_result"
    }
   ],
   "source": [
    "outcome_by_breed"
   ]
  },
  {
   "cell_type": "code",
   "execution_count": 8,
   "metadata": {},
   "outputs": [
    {
     "data": {
      "text/plain": [
       "Adoption           0.472716\n",
       "Return to Owner    0.272555\n",
       "Transfer           0.217269\n",
       "Euthanasia         0.024935\n",
       "Rto-Adopt          0.008053\n",
       "Died               0.003568\n",
       "Disposal           0.000508\n",
       "Missing            0.000395\n",
       "Name: outcome_type, dtype: float64"
      ]
     },
     "execution_count": 8,
     "metadata": {},
     "output_type": "execute_result"
    }
   ],
   "source": [
    "dogs_outcomes['outcome_type'].value_counts(normalize=True)"
   ]
  },
  {
   "cell_type": "code",
   "execution_count": 9,
   "metadata": {},
   "outputs": [
    {
     "data": {
      "text/plain": [
       "outcome_type     outcome_subtype    \n",
       "Adoption         Foster                  4680\n",
       "                 Offsite                  314\n",
       "Died             At Vet                    28\n",
       "                 Enroute                    7\n",
       "                 In Foster                 40\n",
       "                 In Kennel                158\n",
       "                 In Surgery                10\n",
       "Euthanasia       Aggressive               525\n",
       "                 At Vet                    53\n",
       "                 Behavior                 149\n",
       "                 Court/Investigation       31\n",
       "                 Medical                   69\n",
       "                 Rabies Risk               94\n",
       "                 Suffering                839\n",
       "Missing          In Foster                  5\n",
       "                 In Kennel                  2\n",
       "                 Possible Theft            14\n",
       "Return to Owner  At Vet                     1\n",
       "                 Customer S                 5\n",
       "                 Field                     39\n",
       "                 Foster                     2\n",
       "                 Prc                        6\n",
       "Transfer         Barn                       1\n",
       "                 Emer                       3\n",
       "                 Partner                15401\n",
       "Name: animal_id, dtype: int64"
      ]
     },
     "execution_count": 9,
     "metadata": {},
     "output_type": "execute_result"
    }
   ],
   "source": [
    "dogs_outcomes.groupby(['outcome_type', 'outcome_subtype'])['animal_id'].count()"
   ]
  },
  {
   "cell_type": "code",
   "execution_count": 10,
   "metadata": {},
   "outputs": [
    {
     "data": {
      "text/plain": [
       "Male       0.535168\n",
       "Female     0.458825\n",
       "Unknown    0.006007\n",
       "Name: intake_sex, dtype: float64"
      ]
     },
     "execution_count": 10,
     "metadata": {},
     "output_type": "execute_result"
    }
   ],
   "source": [
    "dogs_outcomes['intake_sex'].value_counts(normalize=True)"
   ]
  },
  {
   "cell_type": "markdown",
   "metadata": {},
   "source": [
    "Matches the intakes data"
   ]
  },
  {
   "cell_type": "code",
   "execution_count": 11,
   "metadata": {},
   "outputs": [
    {
     "data": {
      "text/plain": [
       "Neutered    0.418368\n",
       "Spayed      0.357169\n",
       "Intact      0.218456\n",
       "Unknown     0.006007\n",
       "Name: outcome_spay_neuter, dtype: float64"
      ]
     },
     "execution_count": 11,
     "metadata": {},
     "output_type": "execute_result"
    }
   ],
   "source": [
    "dogs_outcomes['outcome_spay_neuter'].value_counts(normalize=True)"
   ]
  },
  {
   "cell_type": "markdown",
   "metadata": {},
   "source": [
    "63% of dogs are intact when they are brought into the shelter. This confirms that the shelter is actively spaying/neutering the animals"
   ]
  },
  {
   "cell_type": "markdown",
   "metadata": {},
   "source": [
    "#### Adoptions"
   ]
  },
  {
   "cell_type": "code",
   "execution_count": 12,
   "metadata": {},
   "outputs": [
    {
     "data": {
      "text/plain": [
       "<matplotlib.axes._subplots.AxesSubplot at 0x7fe744644040>"
      ]
     },
     "execution_count": 12,
     "metadata": {},
     "output_type": "execute_result"
    },
    {
     "data": {
      "image/png": "[encoded data removed]",
      "text/plain": [
       "<Figure size 432x288 with 1 Axes>"
      ]
     },
     "metadata": {
      "needs_background": "light"
     },
     "output_type": "display_data"
    }
   ],
   "source": [
    "adopted = dogs_outcomes[dogs_outcomes['outcome_type'] == 'Adoption'][['breed_1', 'breed_2']]\n",
    "\n",
    "pd.concat([adopted['breed_1'], adopted['breed_2']]).value_counts().head(20).plot(kind='barh')"
   ]
  },
  {
   "cell_type": "markdown",
   "metadata": {},
   "source": [
    "##### Age Distribution of Adopted Dogs"
   ]
  },
  {
   "cell_type": "code",
   "execution_count": 13,
   "metadata": {},
   "outputs": [
    {
     "data": {
      "image/png": "[encoded data removed]",
      "text/plain": [
       "<Figure size 432x288 with 1 Axes>"
      ]
     },
     "metadata": {
      "needs_background": "light"
     },
     "output_type": "display_data"
    }
   ],
   "source": [
    "dogs_outcomes[dogs_outcomes['outcome_type'] == 'Adoption']['outcome_age_in_years'].plot(kind='hist');"
   ]
  },
  {
   "cell_type": "code",
   "execution_count": 14,
   "metadata": {},
   "outputs": [
    {
     "data": {
      "image/png": "[encoded data removed]",
      "text/plain": [
       "<Figure size 432x288 with 1 Axes>"
      ]
     },
     "metadata": {
      "needs_background": "light"
     },
     "output_type": "display_data"
    }
   ],
   "source": [
    "dogs_outcomes[dogs_outcomes['outcome_type'] == 'Transfer']['outcome_age_in_years'].plot(kind='hist');"
   ]
  },
  {
   "cell_type": "code",
   "execution_count": 15,
   "metadata": {},
   "outputs": [
    {
     "data": {
      "text/html": [
       "<div>\n",
       "<style scoped>\n",
       "    .dataframe tbody tr th:only-of-type {\n",
       "        vertical-align: middle;\n",
       "    }\n",
       "\n",
       "    .dataframe tbody tr th {\n",
       "        vertical-align: top;\n",
       "    }\n",
       "\n",
       "    .dataframe thead th {\n",
       "        text-align: right;\n",
       "    }\n",
       "</style>\n",
       "<table border=\"1\" class=\"dataframe\">\n",
       "  <thead>\n",
       "    <tr style=\"text-align: right;\">\n",
       "      <th></th>\n",
       "      <th>animal_id</th>\n",
       "      <th>intake_datetime</th>\n",
       "      <th>name</th>\n",
       "      <th>intake_type</th>\n",
       "      <th>intake_condition</th>\n",
       "      <th>animal_type</th>\n",
       "      <th>intake_sex</th>\n",
       "      <th>intake_spay_neuter</th>\n",
       "      <th>intake_age_in_years</th>\n",
       "      <th>age_group</th>\n",
       "      <th>...</th>\n",
       "      <th>color_1</th>\n",
       "      <th>color_2</th>\n",
       "      <th>found_address</th>\n",
       "      <th>found_city</th>\n",
       "      <th>datetime_outcomes</th>\n",
       "      <th>outcome_type</th>\n",
       "      <th>outcome_subtype</th>\n",
       "      <th>outcome_sex</th>\n",
       "      <th>outcome_spay_neuter</th>\n",
       "      <th>outcome_age_in_years</th>\n",
       "    </tr>\n",
       "  </thead>\n",
       "  <tbody>\n",
       "    <tr>\n",
       "      <th>0</th>\n",
       "      <td>A521520</td>\n",
       "      <td>2013-10-01 07:51:00</td>\n",
       "      <td>Nina</td>\n",
       "      <td>Stray</td>\n",
       "      <td>Normal</td>\n",
       "      <td>Dog</td>\n",
       "      <td>Female</td>\n",
       "      <td>Spayed</td>\n",
       "      <td>7.0</td>\n",
       "      <td>over 5</td>\n",
       "      <td>...</td>\n",
       "      <td>White</td>\n",
       "      <td>Tan</td>\n",
       "      <td>NaN</td>\n",
       "      <td>Austin</td>\n",
       "      <td>2013-10-01 15:39:00</td>\n",
       "      <td>Return to Owner</td>\n",
       "      <td>NaN</td>\n",
       "      <td>Female</td>\n",
       "      <td>Spayed</td>\n",
       "      <td>7.0</td>\n",
       "    </tr>\n",
       "    <tr>\n",
       "      <th>1</th>\n",
       "      <td>A664233</td>\n",
       "      <td>2013-10-01 08:53:00</td>\n",
       "      <td>Stevie</td>\n",
       "      <td>Stray</td>\n",
       "      <td>Injured</td>\n",
       "      <td>Dog</td>\n",
       "      <td>Female</td>\n",
       "      <td>Intact</td>\n",
       "      <td>3.0</td>\n",
       "      <td>over 5</td>\n",
       "      <td>...</td>\n",
       "      <td>Blue</td>\n",
       "      <td>White</td>\n",
       "      <td>7405 Springtime</td>\n",
       "      <td>Austin</td>\n",
       "      <td>2013-10-01 15:33:00</td>\n",
       "      <td>Euthanasia</td>\n",
       "      <td>Suffering</td>\n",
       "      <td>Female</td>\n",
       "      <td>Intact</td>\n",
       "      <td>3.0</td>\n",
       "    </tr>\n",
       "    <tr>\n",
       "      <th>2</th>\n",
       "      <td>A664234</td>\n",
       "      <td>2013-10-01 10:37:00</td>\n",
       "      <td>NaN</td>\n",
       "      <td>Stray</td>\n",
       "      <td>Injured</td>\n",
       "      <td>Dog</td>\n",
       "      <td>Male</td>\n",
       "      <td>Intact</td>\n",
       "      <td>8.0</td>\n",
       "      <td>over 5</td>\n",
       "      <td>...</td>\n",
       "      <td>Black</td>\n",
       "      <td>White</td>\n",
       "      <td>5400 Jimmy Clay</td>\n",
       "      <td>Austin</td>\n",
       "      <td>2013-10-01 19:09:00</td>\n",
       "      <td>Euthanasia</td>\n",
       "      <td>Suffering</td>\n",
       "      <td>Male</td>\n",
       "      <td>Intact</td>\n",
       "      <td>8.0</td>\n",
       "    </tr>\n",
       "    <tr>\n",
       "      <th>3</th>\n",
       "      <td>A664257</td>\n",
       "      <td>2013-10-01 11:01:00</td>\n",
       "      <td>Pippin</td>\n",
       "      <td>Stray</td>\n",
       "      <td>Normal</td>\n",
       "      <td>Dog</td>\n",
       "      <td>Female</td>\n",
       "      <td>Intact</td>\n",
       "      <td>4.0</td>\n",
       "      <td>between 3 and 5</td>\n",
       "      <td>...</td>\n",
       "      <td>Black</td>\n",
       "      <td>NaN</td>\n",
       "      <td>NaN</td>\n",
       "      <td>Travis</td>\n",
       "      <td>2013-10-24 13:31:00</td>\n",
       "      <td>Adoption</td>\n",
       "      <td>Foster</td>\n",
       "      <td>Female</td>\n",
       "      <td>Spayed</td>\n",
       "      <td>4.0</td>\n",
       "    </tr>\n",
       "    <tr>\n",
       "      <th>4</th>\n",
       "      <td>A664266</td>\n",
       "      <td>2013-10-01 11:09:00</td>\n",
       "      <td>NaN</td>\n",
       "      <td>Stray</td>\n",
       "      <td>Normal</td>\n",
       "      <td>Dog</td>\n",
       "      <td>Female</td>\n",
       "      <td>Intact</td>\n",
       "      <td>1.0</td>\n",
       "      <td>over 5</td>\n",
       "      <td>...</td>\n",
       "      <td>Buff</td>\n",
       "      <td>NaN</td>\n",
       "      <td>NaN</td>\n",
       "      <td>Austin</td>\n",
       "      <td>2013-10-05 15:06:00</td>\n",
       "      <td>Transfer</td>\n",
       "      <td>Partner</td>\n",
       "      <td>Female</td>\n",
       "      <td>Intact</td>\n",
       "      <td>1.0</td>\n",
       "    </tr>\n",
       "  </tbody>\n",
       "</table>\n",
       "<p>5 rows × 26 columns</p>\n",
       "</div>"
      ],
      "text/plain": [
       "  animal_id      intake_datetime    name intake_type intake_condition  \\\n",
       "0   A521520  2013-10-01 07:51:00    Nina       Stray           Normal   \n",
       "1   A664233  2013-10-01 08:53:00  Stevie       Stray          Injured   \n",
       "2   A664234  2013-10-01 10:37:00     NaN       Stray          Injured   \n",
       "3   A664257  2013-10-01 11:01:00  Pippin       Stray           Normal   \n",
       "4   A664266  2013-10-01 11:09:00     NaN       Stray           Normal   \n",
       "\n",
       "  animal_type intake_sex intake_spay_neuter  intake_age_in_years  \\\n",
       "0         Dog     Female             Spayed                  7.0   \n",
       "1         Dog     Female             Intact                  3.0   \n",
       "2         Dog       Male             Intact                  8.0   \n",
       "3         Dog     Female             Intact                  4.0   \n",
       "4         Dog     Female             Intact                  1.0   \n",
       "\n",
       "         age_group  ... color_1 color_2    found_address  found_city  \\\n",
       "0           over 5  ...   White     Tan              NaN      Austin   \n",
       "1           over 5  ...    Blue   White  7405 Springtime      Austin   \n",
       "2           over 5  ...   Black   White  5400 Jimmy Clay      Austin   \n",
       "3  between 3 and 5  ...   Black     NaN              NaN      Travis   \n",
       "4           over 5  ...    Buff     NaN              NaN      Austin   \n",
       "\n",
       "     datetime_outcomes     outcome_type outcome_subtype outcome_sex  \\\n",
       "0  2013-10-01 15:39:00  Return to Owner             NaN      Female   \n",
       "1  2013-10-01 15:33:00       Euthanasia       Suffering      Female   \n",
       "2  2013-10-01 19:09:00       Euthanasia       Suffering        Male   \n",
       "3  2013-10-24 13:31:00         Adoption          Foster      Female   \n",
       "4  2013-10-05 15:06:00         Transfer         Partner      Female   \n",
       "\n",
       "  outcome_spay_neuter outcome_age_in_years  \n",
       "0              Spayed                  7.0  \n",
       "1              Intact                  3.0  \n",
       "2              Intact                  8.0  \n",
       "3              Spayed                  4.0  \n",
       "4              Intact                  1.0  \n",
       "\n",
       "[5 rows x 26 columns]"
      ]
     },
     "execution_count": 15,
     "metadata": {},
     "output_type": "execute_result"
    }
   ],
   "source": [
    "dogs_outcomes.head()"
   ]
  },
  {
   "cell_type": "code",
   "execution_count": 16,
   "metadata": {},
   "outputs": [
    {
     "data": {
      "text/html": [
       "<div>\n",
       "<style scoped>\n",
       "    .dataframe tbody tr th:only-of-type {\n",
       "        vertical-align: middle;\n",
       "    }\n",
       "\n",
       "    .dataframe tbody tr th {\n",
       "        vertical-align: top;\n",
       "    }\n",
       "\n",
       "    .dataframe thead th {\n",
       "        text-align: right;\n",
       "    }\n",
       "</style>\n",
       "<table border=\"1\" class=\"dataframe\">\n",
       "  <thead>\n",
       "    <tr style=\"text-align: right;\">\n",
       "      <th></th>\n",
       "      <th>breed_1</th>\n",
       "      <th>breed_2</th>\n",
       "    </tr>\n",
       "  </thead>\n",
       "  <tbody>\n",
       "    <tr>\n",
       "      <th>3</th>\n",
       "      <td>Podengo Pequeno</td>\n",
       "      <td>NaN</td>\n",
       "    </tr>\n",
       "    <tr>\n",
       "      <th>7</th>\n",
       "      <td>Chinese Sharpei</td>\n",
       "      <td>Labrador Retriever</td>\n",
       "    </tr>\n",
       "    <tr>\n",
       "      <th>9</th>\n",
       "      <td>Great Pyrenees</td>\n",
       "      <td>NaN</td>\n",
       "    </tr>\n",
       "    <tr>\n",
       "      <th>12</th>\n",
       "      <td>Chihuahua Shorthair</td>\n",
       "      <td>Dachshund</td>\n",
       "    </tr>\n",
       "    <tr>\n",
       "      <th>15</th>\n",
       "      <td>Siberian Husky</td>\n",
       "      <td>NaN</td>\n",
       "    </tr>\n",
       "    <tr>\n",
       "      <th>...</th>\n",
       "      <td>...</td>\n",
       "      <td>...</td>\n",
       "    </tr>\n",
       "    <tr>\n",
       "      <th>70891</th>\n",
       "      <td>Border Terrier</td>\n",
       "      <td>NaN</td>\n",
       "    </tr>\n",
       "    <tr>\n",
       "      <th>70892</th>\n",
       "      <td>Border Terrier</td>\n",
       "      <td>NaN</td>\n",
       "    </tr>\n",
       "    <tr>\n",
       "      <th>70895</th>\n",
       "      <td>German Shepherd</td>\n",
       "      <td>Great Pyrenees</td>\n",
       "    </tr>\n",
       "    <tr>\n",
       "      <th>70906</th>\n",
       "      <td>Labrador Retriever</td>\n",
       "      <td>NaN</td>\n",
       "    </tr>\n",
       "    <tr>\n",
       "      <th>70912</th>\n",
       "      <td>German Shepherd</td>\n",
       "      <td>NaN</td>\n",
       "    </tr>\n",
       "  </tbody>\n",
       "</table>\n",
       "<p>33517 rows × 2 columns</p>\n",
       "</div>"
      ],
      "text/plain": [
       "                   breed_1             breed_2\n",
       "3          Podengo Pequeno                 NaN\n",
       "7          Chinese Sharpei  Labrador Retriever\n",
       "9           Great Pyrenees                 NaN\n",
       "12     Chihuahua Shorthair           Dachshund\n",
       "15          Siberian Husky                 NaN\n",
       "...                    ...                 ...\n",
       "70891       Border Terrier                 NaN\n",
       "70892       Border Terrier                 NaN\n",
       "70895      German Shepherd      Great Pyrenees\n",
       "70906   Labrador Retriever                 NaN\n",
       "70912      German Shepherd                 NaN\n",
       "\n",
       "[33517 rows x 2 columns]"
      ]
     },
     "execution_count": 16,
     "metadata": {},
     "output_type": "execute_result"
    }
   ],
   "source": [
    "dogs_outcomes[dogs_outcomes['outcome_type'] == 'Adoption'][['breed_1', 'breed_2']]"
   ]
  },
  {
   "cell_type": "code",
   "execution_count": 17,
   "metadata": {},
   "outputs": [],
   "source": [
    "adopted_breeds = pd.concat([adopted['breed_1'], adopted['breed_2']]).value_counts().reset_index()\n",
    "\n",
    "intake_breeds = pd.concat([dogs_outcomes['breed_1'], dogs_outcomes['breed_2']]).value_counts().reset_index()"
   ]
  },
  {
   "cell_type": "code",
   "execution_count": 18,
   "metadata": {},
   "outputs": [],
   "source": [
    "adopted_breeds = adopted_breeds.rename(columns={'index': 'breed', 0:'adoption_count'})\n",
    "intake_breeds  = intake_breeds.rename(columns={'index': 'breed', 0:'intake_count'})"
   ]
  },
  {
   "cell_type": "code",
   "execution_count": 19,
   "metadata": {},
   "outputs": [
    {
     "data": {
      "text/html": [
       "<div>\n",
       "<style scoped>\n",
       "    .dataframe tbody tr th:only-of-type {\n",
       "        vertical-align: middle;\n",
       "    }\n",
       "\n",
       "    .dataframe tbody tr th {\n",
       "        vertical-align: top;\n",
       "    }\n",
       "\n",
       "    .dataframe thead th {\n",
       "        text-align: right;\n",
       "    }\n",
       "</style>\n",
       "<table border=\"1\" class=\"dataframe\">\n",
       "  <thead>\n",
       "    <tr style=\"text-align: right;\">\n",
       "      <th></th>\n",
       "      <th>breed</th>\n",
       "      <th>adoption_count</th>\n",
       "    </tr>\n",
       "  </thead>\n",
       "  <tbody>\n",
       "    <tr>\n",
       "      <th>0</th>\n",
       "      <td>Labrador Retriever</td>\n",
       "      <td>6091</td>\n",
       "    </tr>\n",
       "    <tr>\n",
       "      <th>1</th>\n",
       "      <td>Pit Bull</td>\n",
       "      <td>4488</td>\n",
       "    </tr>\n",
       "    <tr>\n",
       "      <th>2</th>\n",
       "      <td>Chihuahua Shorthair</td>\n",
       "      <td>4480</td>\n",
       "    </tr>\n",
       "    <tr>\n",
       "      <th>3</th>\n",
       "      <td>German Shepherd</td>\n",
       "      <td>2839</td>\n",
       "    </tr>\n",
       "    <tr>\n",
       "      <th>4</th>\n",
       "      <td>Australian Cattle Dog</td>\n",
       "      <td>1561</td>\n",
       "    </tr>\n",
       "  </tbody>\n",
       "</table>\n",
       "</div>"
      ],
      "text/plain": [
       "                   breed  adoption_count\n",
       "0     Labrador Retriever            6091\n",
       "1               Pit Bull            4488\n",
       "2    Chihuahua Shorthair            4480\n",
       "3        German Shepherd            2839\n",
       "4  Australian Cattle Dog            1561"
      ]
     },
     "execution_count": 19,
     "metadata": {},
     "output_type": "execute_result"
    }
   ],
   "source": [
    "adopted_breeds.head()"
   ]
  },
  {
   "cell_type": "code",
   "execution_count": 20,
   "metadata": {},
   "outputs": [
    {
     "data": {
      "text/html": [
       "<div>\n",
       "<style scoped>\n",
       "    .dataframe tbody tr th:only-of-type {\n",
       "        vertical-align: middle;\n",
       "    }\n",
       "\n",
       "    .dataframe tbody tr th {\n",
       "        vertical-align: top;\n",
       "    }\n",
       "\n",
       "    .dataframe thead th {\n",
       "        text-align: right;\n",
       "    }\n",
       "</style>\n",
       "<table border=\"1\" class=\"dataframe\">\n",
       "  <thead>\n",
       "    <tr style=\"text-align: right;\">\n",
       "      <th></th>\n",
       "      <th>breed</th>\n",
       "      <th>intake_count</th>\n",
       "    </tr>\n",
       "  </thead>\n",
       "  <tbody>\n",
       "    <tr>\n",
       "      <th>0</th>\n",
       "      <td>Labrador Retriever</td>\n",
       "      <td>11656</td>\n",
       "    </tr>\n",
       "    <tr>\n",
       "      <th>1</th>\n",
       "      <td>Pit Bull</td>\n",
       "      <td>11258</td>\n",
       "    </tr>\n",
       "    <tr>\n",
       "      <th>2</th>\n",
       "      <td>Chihuahua Shorthair</td>\n",
       "      <td>9122</td>\n",
       "    </tr>\n",
       "    <tr>\n",
       "      <th>3</th>\n",
       "      <td>German Shepherd</td>\n",
       "      <td>5437</td>\n",
       "    </tr>\n",
       "    <tr>\n",
       "      <th>4</th>\n",
       "      <td>Australian Cattle Dog</td>\n",
       "      <td>2739</td>\n",
       "    </tr>\n",
       "  </tbody>\n",
       "</table>\n",
       "</div>"
      ],
      "text/plain": [
       "                   breed  intake_count\n",
       "0     Labrador Retriever         11656\n",
       "1               Pit Bull         11258\n",
       "2    Chihuahua Shorthair          9122\n",
       "3        German Shepherd          5437\n",
       "4  Australian Cattle Dog          2739"
      ]
     },
     "execution_count": 20,
     "metadata": {},
     "output_type": "execute_result"
    }
   ],
   "source": [
    "intake_breeds.head()"
   ]
  },
  {
   "cell_type": "code",
   "execution_count": 21,
   "metadata": {},
   "outputs": [],
   "source": [
    "adoption_rate = intake_breeds.merge(adopted_breeds, on='breed')\n",
    "\n",
    "adoption_rate['adoption_rate'] = round((adoption_rate['adoption_count'] / adoption_rate['intake_count']) * 100, 2)"
   ]
  },
  {
   "cell_type": "code",
   "execution_count": 22,
   "metadata": {
    "scrolled": true
   },
   "outputs": [
    {
     "data": {
      "text/html": [
       "<div>\n",
       "<style scoped>\n",
       "    .dataframe tbody tr th:only-of-type {\n",
       "        vertical-align: middle;\n",
       "    }\n",
       "\n",
       "    .dataframe tbody tr th {\n",
       "        vertical-align: top;\n",
       "    }\n",
       "\n",
       "    .dataframe thead th {\n",
       "        text-align: right;\n",
       "    }\n",
       "</style>\n",
       "<table border=\"1\" class=\"dataframe\">\n",
       "  <thead>\n",
       "    <tr style=\"text-align: right;\">\n",
       "      <th></th>\n",
       "      <th>breed</th>\n",
       "      <th>intake_count</th>\n",
       "      <th>adoption_count</th>\n",
       "      <th>adoption_rate</th>\n",
       "    </tr>\n",
       "  </thead>\n",
       "  <tbody>\n",
       "    <tr>\n",
       "      <th>0</th>\n",
       "      <td>Labrador Retriever</td>\n",
       "      <td>11656</td>\n",
       "      <td>6091</td>\n",
       "      <td>52.26</td>\n",
       "    </tr>\n",
       "    <tr>\n",
       "      <th>1</th>\n",
       "      <td>Pit Bull</td>\n",
       "      <td>11258</td>\n",
       "      <td>4488</td>\n",
       "      <td>39.86</td>\n",
       "    </tr>\n",
       "    <tr>\n",
       "      <th>2</th>\n",
       "      <td>Chihuahua Shorthair</td>\n",
       "      <td>9122</td>\n",
       "      <td>4480</td>\n",
       "      <td>49.11</td>\n",
       "    </tr>\n",
       "    <tr>\n",
       "      <th>3</th>\n",
       "      <td>German Shepherd</td>\n",
       "      <td>5437</td>\n",
       "      <td>2839</td>\n",
       "      <td>52.22</td>\n",
       "    </tr>\n",
       "    <tr>\n",
       "      <th>4</th>\n",
       "      <td>Australian Cattle Dog</td>\n",
       "      <td>2739</td>\n",
       "      <td>1561</td>\n",
       "      <td>56.99</td>\n",
       "    </tr>\n",
       "    <tr>\n",
       "      <th>5</th>\n",
       "      <td>Dachshund</td>\n",
       "      <td>2371</td>\n",
       "      <td>1259</td>\n",
       "      <td>53.10</td>\n",
       "    </tr>\n",
       "    <tr>\n",
       "      <th>6</th>\n",
       "      <td>Boxer</td>\n",
       "      <td>1837</td>\n",
       "      <td>896</td>\n",
       "      <td>48.78</td>\n",
       "    </tr>\n",
       "    <tr>\n",
       "      <th>7</th>\n",
       "      <td>Border Collie</td>\n",
       "      <td>1771</td>\n",
       "      <td>999</td>\n",
       "      <td>56.41</td>\n",
       "    </tr>\n",
       "    <tr>\n",
       "      <th>8</th>\n",
       "      <td>Miniature Poodle</td>\n",
       "      <td>1568</td>\n",
       "      <td>599</td>\n",
       "      <td>38.20</td>\n",
       "    </tr>\n",
       "    <tr>\n",
       "      <th>9</th>\n",
       "      <td>Siberian Husky</td>\n",
       "      <td>1445</td>\n",
       "      <td>692</td>\n",
       "      <td>47.89</td>\n",
       "    </tr>\n",
       "  </tbody>\n",
       "</table>\n",
       "</div>"
      ],
      "text/plain": [
       "                   breed  intake_count  adoption_count  adoption_rate\n",
       "0     Labrador Retriever         11656            6091          52.26\n",
       "1               Pit Bull         11258            4488          39.86\n",
       "2    Chihuahua Shorthair          9122            4480          49.11\n",
       "3        German Shepherd          5437            2839          52.22\n",
       "4  Australian Cattle Dog          2739            1561          56.99\n",
       "5              Dachshund          2371            1259          53.10\n",
       "6                  Boxer          1837             896          48.78\n",
       "7          Border Collie          1771             999          56.41\n",
       "8       Miniature Poodle          1568             599          38.20\n",
       "9         Siberian Husky          1445             692          47.89"
      ]
     },
     "execution_count": 22,
     "metadata": {},
     "output_type": "execute_result"
    }
   ],
   "source": [
    "adoption_rate.sort_values('intake_count', ascending=False).head(10)"
   ]
  },
  {
   "cell_type": "code",
   "execution_count": 24,
   "metadata": {},
   "outputs": [
    {
     "data": {
      "text/plain": [
       "count      198.000000\n",
       "mean       416.732323\n",
       "std       1399.437408\n",
       "min          1.000000\n",
       "25%         15.000000\n",
       "50%         63.500000\n",
       "75%        262.750000\n",
       "max      11656.000000\n",
       "Name: intake_count, dtype: float64"
      ]
     },
     "execution_count": 24,
     "metadata": {},
     "output_type": "execute_result"
    }
   ],
   "source": [
    "adoption_rate['intake_count'].describe()"
   ]
  },
  {
   "cell_type": "code",
   "execution_count": 25,
   "metadata": {},
   "outputs": [
    {
     "data": {
      "text/html": [
       "<div>\n",
       "<style scoped>\n",
       "    .dataframe tbody tr th:only-of-type {\n",
       "        vertical-align: middle;\n",
       "    }\n",
       "\n",
       "    .dataframe tbody tr th {\n",
       "        vertical-align: top;\n",
       "    }\n",
       "\n",
       "    .dataframe thead th {\n",
       "        text-align: right;\n",
       "    }\n",
       "</style>\n",
       "<table border=\"1\" class=\"dataframe\">\n",
       "  <thead>\n",
       "    <tr style=\"text-align: right;\">\n",
       "      <th></th>\n",
       "      <th>breed</th>\n",
       "      <th>intake_count</th>\n",
       "      <th>adoption_count</th>\n",
       "      <th>adoption_rate</th>\n",
       "    </tr>\n",
       "  </thead>\n",
       "  <tbody>\n",
       "    <tr>\n",
       "      <th>24</th>\n",
       "      <td>Shih Tzu</td>\n",
       "      <td>725</td>\n",
       "      <td>99</td>\n",
       "      <td>13.66</td>\n",
       "    </tr>\n",
       "    <tr>\n",
       "      <th>48</th>\n",
       "      <td>Lhasa Apso</td>\n",
       "      <td>274</td>\n",
       "      <td>44</td>\n",
       "      <td>16.06</td>\n",
       "    </tr>\n",
       "    <tr>\n",
       "      <th>61</th>\n",
       "      <td>Pekingese</td>\n",
       "      <td>176</td>\n",
       "      <td>35</td>\n",
       "      <td>19.89</td>\n",
       "    </tr>\n",
       "    <tr>\n",
       "      <th>44</th>\n",
       "      <td>Pomeranian</td>\n",
       "      <td>288</td>\n",
       "      <td>71</td>\n",
       "      <td>24.65</td>\n",
       "    </tr>\n",
       "    <tr>\n",
       "      <th>45</th>\n",
       "      <td>Boston Terrier</td>\n",
       "      <td>287</td>\n",
       "      <td>72</td>\n",
       "      <td>25.09</td>\n",
       "    </tr>\n",
       "    <tr>\n",
       "      <th>78</th>\n",
       "      <td>Standard Poodle</td>\n",
       "      <td>107</td>\n",
       "      <td>28</td>\n",
       "      <td>26.17</td>\n",
       "    </tr>\n",
       "    <tr>\n",
       "      <th>71</th>\n",
       "      <td>Bichon Frise</td>\n",
       "      <td>124</td>\n",
       "      <td>34</td>\n",
       "      <td>27.42</td>\n",
       "    </tr>\n",
       "    <tr>\n",
       "      <th>41</th>\n",
       "      <td>Cocker Spaniel</td>\n",
       "      <td>347</td>\n",
       "      <td>96</td>\n",
       "      <td>27.67</td>\n",
       "    </tr>\n",
       "    <tr>\n",
       "      <th>30</th>\n",
       "      <td>Pug</td>\n",
       "      <td>538</td>\n",
       "      <td>154</td>\n",
       "      <td>28.62</td>\n",
       "    </tr>\n",
       "    <tr>\n",
       "      <th>80</th>\n",
       "      <td>West Highland</td>\n",
       "      <td>106</td>\n",
       "      <td>31</td>\n",
       "      <td>29.25</td>\n",
       "    </tr>\n",
       "    <tr>\n",
       "      <th>58</th>\n",
       "      <td>English Bulldog</td>\n",
       "      <td>187</td>\n",
       "      <td>57</td>\n",
       "      <td>30.48</td>\n",
       "    </tr>\n",
       "    <tr>\n",
       "      <th>98</th>\n",
       "      <td>Cavalier Span</td>\n",
       "      <td>64</td>\n",
       "      <td>20</td>\n",
       "      <td>31.25</td>\n",
       "    </tr>\n",
       "    <tr>\n",
       "      <th>97</th>\n",
       "      <td>Bloodhound</td>\n",
       "      <td>66</td>\n",
       "      <td>21</td>\n",
       "      <td>31.82</td>\n",
       "    </tr>\n",
       "    <tr>\n",
       "      <th>83</th>\n",
       "      <td>Parson Russell Terrier</td>\n",
       "      <td>97</td>\n",
       "      <td>32</td>\n",
       "      <td>32.99</td>\n",
       "    </tr>\n",
       "    <tr>\n",
       "      <th>50</th>\n",
       "      <td>Toy Poodle</td>\n",
       "      <td>235</td>\n",
       "      <td>82</td>\n",
       "      <td>34.89</td>\n",
       "    </tr>\n",
       "  </tbody>\n",
       "</table>\n",
       "</div>"
      ],
      "text/plain": [
       "                     breed  intake_count  adoption_count  adoption_rate\n",
       "24                Shih Tzu           725              99          13.66\n",
       "48              Lhasa Apso           274              44          16.06\n",
       "61               Pekingese           176              35          19.89\n",
       "44              Pomeranian           288              71          24.65\n",
       "45          Boston Terrier           287              72          25.09\n",
       "78         Standard Poodle           107              28          26.17\n",
       "71            Bichon Frise           124              34          27.42\n",
       "41          Cocker Spaniel           347              96          27.67\n",
       "30                     Pug           538             154          28.62\n",
       "80           West Highland           106              31          29.25\n",
       "58         English Bulldog           187              57          30.48\n",
       "98           Cavalier Span            64              20          31.25\n",
       "97              Bloodhound            66              21          31.82\n",
       "83  Parson Russell Terrier            97              32          32.99\n",
       "50              Toy Poodle           235              82          34.89"
      ]
     },
     "execution_count": 25,
     "metadata": {},
     "output_type": "execute_result"
    }
   ],
   "source": [
    "adoption_rate[adoption_rate['intake_count'] > 63].sort_values('adoption_rate').head(15)"
   ]
  },
  {
   "cell_type": "code",
   "execution_count": 26,
   "metadata": {},
   "outputs": [
    {
     "data": {
      "text/plain": [
       "Transfer           355\n",
       "Return to Owner    254\n",
       "Adoption            99\n",
       "Euthanasia          14\n",
       "Rto-Adopt            2\n",
       "Died                 1\n",
       "Name: outcome_type, dtype: int64"
      ]
     },
     "execution_count": 26,
     "metadata": {},
     "output_type": "execute_result"
    }
   ],
   "source": [
    "dogs_outcomes[\n",
    "    (dogs_outcomes['breed_1'] == 'Shih Tzu') | (dogs_outcomes['breed_2'] == 'Shih Tzu')\n",
    "]['outcome_type'].value_counts()"
   ]
  },
  {
   "cell_type": "code",
   "execution_count": 27,
   "metadata": {},
   "outputs": [
    {
     "data": {
      "text/html": [
       "<div>\n",
       "<style scoped>\n",
       "    .dataframe tbody tr th:only-of-type {\n",
       "        vertical-align: middle;\n",
       "    }\n",
       "\n",
       "    .dataframe tbody tr th {\n",
       "        vertical-align: top;\n",
       "    }\n",
       "\n",
       "    .dataframe thead th {\n",
       "        text-align: right;\n",
       "    }\n",
       "</style>\n",
       "<table border=\"1\" class=\"dataframe\">\n",
       "  <thead>\n",
       "    <tr style=\"text-align: right;\">\n",
       "      <th></th>\n",
       "      <th>breed_1</th>\n",
       "      <th>breed_2</th>\n",
       "      <th>mix_flag</th>\n",
       "    </tr>\n",
       "  </thead>\n",
       "  <tbody>\n",
       "    <tr>\n",
       "      <th>0</th>\n",
       "      <td>Border Collie</td>\n",
       "      <td>Border Terrier</td>\n",
       "      <td>True</td>\n",
       "    </tr>\n",
       "    <tr>\n",
       "      <th>1</th>\n",
       "      <td>Pit Bull</td>\n",
       "      <td>NaN</td>\n",
       "      <td>True</td>\n",
       "    </tr>\n",
       "    <tr>\n",
       "      <th>2</th>\n",
       "      <td>Border Collie</td>\n",
       "      <td>NaN</td>\n",
       "      <td>True</td>\n",
       "    </tr>\n",
       "    <tr>\n",
       "      <th>3</th>\n",
       "      <td>Podengo Pequeno</td>\n",
       "      <td>NaN</td>\n",
       "      <td>True</td>\n",
       "    </tr>\n",
       "    <tr>\n",
       "      <th>4</th>\n",
       "      <td>Chihuahua Shorthair</td>\n",
       "      <td>NaN</td>\n",
       "      <td>True</td>\n",
       "    </tr>\n",
       "    <tr>\n",
       "      <th>...</th>\n",
       "      <td>...</td>\n",
       "      <td>...</td>\n",
       "      <td>...</td>\n",
       "    </tr>\n",
       "    <tr>\n",
       "      <th>70912</th>\n",
       "      <td>German Shepherd</td>\n",
       "      <td>NaN</td>\n",
       "      <td>True</td>\n",
       "    </tr>\n",
       "    <tr>\n",
       "      <th>70913</th>\n",
       "      <td>Pit Bull</td>\n",
       "      <td>NaN</td>\n",
       "      <td>True</td>\n",
       "    </tr>\n",
       "    <tr>\n",
       "      <th>70914</th>\n",
       "      <td>Collie Smooth</td>\n",
       "      <td>NaN</td>\n",
       "      <td>False</td>\n",
       "    </tr>\n",
       "    <tr>\n",
       "      <th>70915</th>\n",
       "      <td>Labrador Retriever</td>\n",
       "      <td>NaN</td>\n",
       "      <td>False</td>\n",
       "    </tr>\n",
       "    <tr>\n",
       "      <th>70916</th>\n",
       "      <td>German Shepherd</td>\n",
       "      <td>NaN</td>\n",
       "      <td>False</td>\n",
       "    </tr>\n",
       "  </tbody>\n",
       "</table>\n",
       "<p>70917 rows × 3 columns</p>\n",
       "</div>"
      ],
      "text/plain": [
       "                   breed_1         breed_2  mix_flag\n",
       "0            Border Collie  Border Terrier      True\n",
       "1                 Pit Bull             NaN      True\n",
       "2            Border Collie             NaN      True\n",
       "3          Podengo Pequeno             NaN      True\n",
       "4      Chihuahua Shorthair             NaN      True\n",
       "...                    ...             ...       ...\n",
       "70912      German Shepherd             NaN      True\n",
       "70913             Pit Bull             NaN      True\n",
       "70914        Collie Smooth             NaN     False\n",
       "70915   Labrador Retriever             NaN     False\n",
       "70916      German Shepherd             NaN     False\n",
       "\n",
       "[70917 rows x 3 columns]"
      ]
     },
     "execution_count": 27,
     "metadata": {},
     "output_type": "execute_result"
    }
   ],
   "source": [
    "dogs_outcomes[['breed_1', 'breed_2', 'mix_flag']]"
   ]
  },
  {
   "cell_type": "code",
   "execution_count": 28,
   "metadata": {},
   "outputs": [],
   "source": [
    "# filling the null values so I can combine strings from the breed columns\n",
    "dogs_outcomes['breed_2'] = dogs_outcomes['breed_2'].fillna('_')"
   ]
  },
  {
   "cell_type": "code",
   "execution_count": 29,
   "metadata": {},
   "outputs": [],
   "source": [
    "dogs_outcomes['full_breed'] = dogs_outcomes['breed_1'] + '/' + dogs_outcomes['breed_2'] + ' ' + dogs_outcomes['mix_flag'].astype('str')"
   ]
  },
  {
   "cell_type": "code",
   "execution_count": 30,
   "metadata": {},
   "outputs": [],
   "source": [
    "dogs_outcomes['full_breed'] = dogs_outcomes['full_breed'].str.replace('True', 'Mix')"
   ]
  },
  {
   "cell_type": "code",
   "execution_count": 31,
   "metadata": {},
   "outputs": [],
   "source": [
    "dogs_outcomes['full_breed'] = dogs_outcomes['full_breed'].str.replace('/_', '')"
   ]
  },
  {
   "cell_type": "code",
   "execution_count": 32,
   "metadata": {},
   "outputs": [],
   "source": [
    "dogs_outcomes['full_breed'] = dogs_outcomes['full_breed'].str.replace(' False', '')"
   ]
  },
  {
   "cell_type": "code",
   "execution_count": 33,
   "metadata": {},
   "outputs": [
    {
     "data": {
      "text/plain": [
       "Pit Bull Mix                         8402\n",
       "Labrador Retriever Mix               6876\n",
       "Chihuahua Shorthair Mix              6231\n",
       "German Shepherd Mix                  3019\n",
       "Australian Cattle Dog Mix            1512\n",
       "Pit Bull                             1365\n",
       "Labrador Retriever                   1087\n",
       "Chihuahua Shorthair                  1071\n",
       "Dachshund Mix                        1044\n",
       "Boxer Mix                             961\n",
       "Border Collie Mix                     951\n",
       "German Shepherd                       918\n",
       "Miniature Poodle Mix                  859\n",
       "Catahoula Mix                         704\n",
       "Siberian Husky Mix                    700\n",
       "Australian Shepherd Mix               695\n",
       "Staffordshire Mix                     683\n",
       "Chihuahua Shorthair/Dachshund Mix     636\n",
       "Rat Terrier Mix                       635\n",
       "Yorkshire Terrier Mix                 615\n",
       "Beagle Mix                            585\n",
       "Miniature Schnauzer Mix               580\n",
       "Labrador Retriever/Pit Bull Mix       579\n",
       "Great Pyrenees Mix                    576\n",
       "Jack Russell Terrier Mix              550\n",
       "Name: full_breed, dtype: int64"
      ]
     },
     "execution_count": 33,
     "metadata": {},
     "output_type": "execute_result"
    }
   ],
   "source": [
    "dogs_outcomes['full_breed'].value_counts().head(25)"
   ]
  },
  {
   "cell_type": "code",
   "execution_count": 34,
   "metadata": {},
   "outputs": [
    {
     "data": {
      "image/png": "[encoded data removed]",
      "text/plain": [
       "<Figure size 432x288 with 1 Axes>"
      ]
     },
     "metadata": {
      "needs_background": "light"
     },
     "output_type": "display_data"
    }
   ],
   "source": [
    "data = dogs_outcomes['full_breed'].value_counts().reset_index().rename(columns={'index':'full_breed', 'full_breed':'count'}).head(10)\n",
    "\n",
    "plt.barh(data['full_breed'], \n",
    "         data['count'],\n",
    "         color='dodgerblue',\n",
    "         edgecolor='black'\n",
    ")\n",
    "\n",
    "plt.title('Top 10 Most Common Breeds at Intake', weight='bold')\n",
    "plt.xlabel('Intake Count')\n",
    "plt.ylabel('Dog Breed');"
   ]
  },
  {
   "cell_type": "code",
   "execution_count": 35,
   "metadata": {},
   "outputs": [
    {
     "data": {
      "text/html": [
       "<div>\n",
       "<style scoped>\n",
       "    .dataframe tbody tr th:only-of-type {\n",
       "        vertical-align: middle;\n",
       "    }\n",
       "\n",
       "    .dataframe tbody tr th {\n",
       "        vertical-align: top;\n",
       "    }\n",
       "\n",
       "    .dataframe thead th {\n",
       "        text-align: right;\n",
       "    }\n",
       "</style>\n",
       "<table border=\"1\" class=\"dataframe\">\n",
       "  <thead>\n",
       "    <tr style=\"text-align: right;\">\n",
       "      <th></th>\n",
       "      <th>full_breed</th>\n",
       "      <th>outcome_type</th>\n",
       "      <th>animal_id</th>\n",
       "    </tr>\n",
       "  </thead>\n",
       "  <tbody>\n",
       "    <tr>\n",
       "      <th>0</th>\n",
       "      <td>Affenpinscher</td>\n",
       "      <td>Adoption</td>\n",
       "      <td>1</td>\n",
       "    </tr>\n",
       "    <tr>\n",
       "      <th>1</th>\n",
       "      <td>Affenpinscher Mix</td>\n",
       "      <td>Adoption</td>\n",
       "      <td>4</td>\n",
       "    </tr>\n",
       "    <tr>\n",
       "      <th>2</th>\n",
       "      <td>Affenpinscher Mix</td>\n",
       "      <td>Return to Owner</td>\n",
       "      <td>3</td>\n",
       "    </tr>\n",
       "    <tr>\n",
       "      <th>3</th>\n",
       "      <td>Affenpinscher/Border Terrier Mix</td>\n",
       "      <td>Adoption</td>\n",
       "      <td>1</td>\n",
       "    </tr>\n",
       "    <tr>\n",
       "      <th>4</th>\n",
       "      <td>Affenpinscher/Bruss Griffon Mix</td>\n",
       "      <td>Transfer</td>\n",
       "      <td>1</td>\n",
       "    </tr>\n",
       "    <tr>\n",
       "      <th>...</th>\n",
       "      <td>...</td>\n",
       "      <td>...</td>\n",
       "      <td>...</td>\n",
       "    </tr>\n",
       "    <tr>\n",
       "      <th>3812</th>\n",
       "      <td>Yorkshire Terrier Mix</td>\n",
       "      <td>Euthanasia</td>\n",
       "      <td>16</td>\n",
       "    </tr>\n",
       "    <tr>\n",
       "      <th>3813</th>\n",
       "      <td>Yorkshire Terrier Mix</td>\n",
       "      <td>Return to Owner</td>\n",
       "      <td>201</td>\n",
       "    </tr>\n",
       "    <tr>\n",
       "      <th>3814</th>\n",
       "      <td>Yorkshire Terrier Mix</td>\n",
       "      <td>Rto-Adopt</td>\n",
       "      <td>1</td>\n",
       "    </tr>\n",
       "    <tr>\n",
       "      <th>3815</th>\n",
       "      <td>Yorkshire Terrier Mix</td>\n",
       "      <td>Transfer</td>\n",
       "      <td>153</td>\n",
       "    </tr>\n",
       "    <tr>\n",
       "      <th>3816</th>\n",
       "      <td>Yorkshire Terrier/Yorkshire Terrier Mix</td>\n",
       "      <td>Adoption</td>\n",
       "      <td>1</td>\n",
       "    </tr>\n",
       "  </tbody>\n",
       "</table>\n",
       "<p>3817 rows × 3 columns</p>\n",
       "</div>"
      ],
      "text/plain": [
       "                                   full_breed     outcome_type  animal_id\n",
       "0                               Affenpinscher         Adoption          1\n",
       "1                           Affenpinscher Mix         Adoption          4\n",
       "2                           Affenpinscher Mix  Return to Owner          3\n",
       "3            Affenpinscher/Border Terrier Mix         Adoption          1\n",
       "4             Affenpinscher/Bruss Griffon Mix         Transfer          1\n",
       "...                                       ...              ...        ...\n",
       "3812                    Yorkshire Terrier Mix       Euthanasia         16\n",
       "3813                    Yorkshire Terrier Mix  Return to Owner        201\n",
       "3814                    Yorkshire Terrier Mix        Rto-Adopt          1\n",
       "3815                    Yorkshire Terrier Mix         Transfer        153\n",
       "3816  Yorkshire Terrier/Yorkshire Terrier Mix         Adoption          1\n",
       "\n",
       "[3817 rows x 3 columns]"
      ]
     },
     "execution_count": 35,
     "metadata": {},
     "output_type": "execute_result"
    }
   ],
   "source": [
    "# rename animal id column to count--\n",
    "#need to plot stacked bar chart for highest/lowest percentages of adoption, transfer, RTO and euthanized\n",
    "dogs_outcomes.groupby(['full_breed', 'outcome_type'])['animal_id'].count().reset_index()"
   ]
  },
  {
   "cell_type": "code",
   "execution_count": 36,
   "metadata": {},
   "outputs": [
    {
     "data": {
      "text/plain": [
       "(array([ 2648,  3181,  3771,  5343,  8755,  9392, 10061, 11117, 15854,\n",
       "        15875, 18511, 18947, 21098, 21547, 27594, 28763, 34214, 34869,\n",
       "        35017, 35619, 36817, 49720, 52739, 57180, 57608, 59461, 60345,\n",
       "        65259, 68955, 69643]),)"
      ]
     },
     "execution_count": 36,
     "metadata": {},
     "output_type": "execute_result"
    }
   ],
   "source": [
    "np.where(dogs_outcomes['breed_1'] == dogs_outcomes['breed_2'])"
   ]
  },
  {
   "cell_type": "code",
   "execution_count": 37,
   "metadata": {},
   "outputs": [
    {
     "data": {
      "text/plain": [
       "animal_id                                                         A684804\n",
       "intake_datetime                                       2014-07-28 18:46:00\n",
       "name                                                              Diamond\n",
       "intake_type                                                         Stray\n",
       "intake_condition                                                   Normal\n",
       "animal_type                                                           Dog\n",
       "intake_sex                                                         Female\n",
       "intake_spay_neuter                                                 Intact\n",
       "intake_age_in_years                                                  0.75\n",
       "age_group                                                         under 1\n",
       "breed                   American Pit Bull Terrier/American Pit Bull Te...\n",
       "breed_1                                         American Pit Bull Terrier\n",
       "breed_2                                         American Pit Bull Terrier\n",
       "mix_flag                                                             True\n",
       "pit_flag                                                             True\n",
       "color                                                          Blue/White\n",
       "color_1                                                              Blue\n",
       "color_2                                                             White\n",
       "found_address                                      8706 Merridian Oaks Ln\n",
       "found_city                                                         Austin\n",
       "datetime_outcomes                                     2014-08-02 17:36:00\n",
       "outcome_type                                              Return to Owner\n",
       "outcome_subtype                                                       NaN\n",
       "outcome_sex                                                        Female\n",
       "outcome_spay_neuter                                                Spayed\n",
       "outcome_age_in_years                                                 0.83\n",
       "full_breed              American Pit Bull Terrier/American Pit Bull Te...\n",
       "Name: 8755, dtype: object"
      ]
     },
     "execution_count": 37,
     "metadata": {},
     "output_type": "execute_result"
    }
   ],
   "source": [
    "dogs_outcomes.iloc[8755]"
   ]
  },
  {
   "cell_type": "code",
   "execution_count": 57,
   "metadata": {},
   "outputs": [
    {
     "data": {
      "text/plain": [
       "3        4.00\n",
       "7        6.00\n",
       "9        2.00\n",
       "12       1.00\n",
       "15       8.00\n",
       "         ... \n",
       "70891    2.00\n",
       "70892    2.00\n",
       "70895    2.00\n",
       "70906    1.00\n",
       "70912    0.25\n",
       "Name: intake_age_in_years, Length: 33517, dtype: float64"
      ]
     },
     "execution_count": 57,
     "metadata": {},
     "output_type": "execute_result"
    }
   ],
   "source": [
    "dogs_outcomes[dogs_outcomes['outcome_type'] == 'Adoption']['intake_age_in_years']"
   ]
  },
  {
   "cell_type": "code",
   "execution_count": 67,
   "metadata": {},
   "outputs": [
    {
     "data": {
      "image/png": "[encoded data removed]",
      "text/plain": [
       "<Figure size 432x288 with 1 Axes>"
      ]
     },
     "metadata": {
      "needs_background": "light"
     },
     "output_type": "display_data"
    }
   ],
   "source": [
    "adopted = dogs_outcomes[dogs_outcomes['outcome_type'] == 'Adoption']['intake_age_in_years']\n",
    "transferred = dogs_outcomes[dogs_outcomes['outcome_type'] == 'Transfer']['intake_age_in_years']\n",
    "returned = dogs_outcomes[dogs_outcomes['outcome_type'] == 'Return to Owner']['intake_age_in_years']\n",
    "euth = dogs_outcomes[dogs_outcomes['outcome_type'] == 'Euthanasia']['intake_age_in_years']\n",
    "\n",
    "my_dict = {'Adopted': adopted, \n",
    "           'Transferred': transferred,\n",
    "           'Return to Owner': returned,\n",
    "           'Euthanasia': euth\n",
    "          }\n",
    "\n",
    "fig, ax = plt.subplots()\n",
    "ax.boxplot(my_dict.values())\n",
    "ax.set_xticklabels(my_dict.keys())\n",
    "\n",
    "plt.title('Age Distribution by Outcome', weight='bold')\n",
    "plt.savefig('../plots/age_dist_by_outcome', dpi=300, bbox_inches='tight');"
   ]
  },
  {
   "cell_type": "code",
   "execution_count": null,
   "metadata": {},
   "outputs": [],
   "source": []
  }
 ],
 "metadata": {
  "kernelspec": {
   "display_name": "Python 3",
   "language": "python",
   "name": "python3"
  },
  "language_info": {
   "codemirror_mode": {
    "name": "ipython",
    "version": 3
   },
   "file_extension": ".py",
   "mimetype": "text/x-python",
   "name": "python",
   "nbconvert_exporter": "python",
   "pygments_lexer": "ipython3",
   "version": "3.8.3"
  }
 },
 "nbformat": 4,
 "nbformat_minor": 4
}
