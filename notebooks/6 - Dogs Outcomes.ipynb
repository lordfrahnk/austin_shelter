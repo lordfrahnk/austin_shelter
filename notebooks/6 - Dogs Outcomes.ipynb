{
 "cells": [
  {
   "cell_type": "markdown",
   "metadata": {},
   "source": [
    "# Dogs Outcomes"
   ]
  },
  {
   "cell_type": "markdown",
   "metadata": {},
   "source": [
    "#### Imports"
   ]
  },
  {
   "cell_type": "code",
   "execution_count": 26,
   "metadata": {},
   "outputs": [],
   "source": [
    "import pandas as pd\n",
    "import matplotlib.pyplot as plt"
   ]
  },
  {
   "cell_type": "markdown",
   "metadata": {},
   "source": [
    "#### Read in Dataset"
   ]
  },
  {
   "cell_type": "code",
   "execution_count": 2,
   "metadata": {},
   "outputs": [],
   "source": [
    "dogs_outcomes = pd.read_csv('../data/dogs.csv')"
   ]
  },
  {
   "cell_type": "markdown",
   "metadata": {},
   "source": [
    "#### EDA"
   ]
  },
  {
   "cell_type": "code",
   "execution_count": 3,
   "metadata": {},
   "outputs": [
    {
     "data": {
      "text/plain": [
       "Adoption           0.472716\n",
       "Return to Owner    0.272555\n",
       "Transfer           0.217269\n",
       "Euthanasia         0.024935\n",
       "Rto-Adopt          0.008053\n",
       "Died               0.003568\n",
       "Disposal           0.000508\n",
       "Missing            0.000395\n",
       "Name: outcome_type, dtype: float64"
      ]
     },
     "execution_count": 3,
     "metadata": {},
     "output_type": "execute_result"
    }
   ],
   "source": [
    "dogs_outcomes['outcome_type'].value_counts(normalize=True)"
   ]
  },
  {
   "cell_type": "code",
   "execution_count": 4,
   "metadata": {},
   "outputs": [
    {
     "data": {
      "text/plain": [
       "<matplotlib.axes._subplots.AxesSubplot at 0x7fd0f32785b0>"
      ]
     },
     "execution_count": 4,
     "metadata": {},
     "output_type": "execute_result"
    },
    {
     "data": {
      "image/png": "[encoded data removed]",
      "text/plain": [
       "<Figure size 432x288 with 1 Axes>"
      ]
     },
     "metadata": {
      "needs_background": "light"
     },
     "output_type": "display_data"
    }
   ],
   "source": [
    "dogs_outcomes['outcome_type'].value_counts().plot(kind='barh')"
   ]
  },
  {
   "cell_type": "code",
   "execution_count": 5,
   "metadata": {},
   "outputs": [
    {
     "data": {
      "text/plain": [
       "outcome_type     outcome_subtype    \n",
       "Adoption         Foster                  4680\n",
       "                 Offsite                  314\n",
       "Died             At Vet                    28\n",
       "                 Enroute                    7\n",
       "                 In Foster                 40\n",
       "                 In Kennel                158\n",
       "                 In Surgery                10\n",
       "Euthanasia       Aggressive               525\n",
       "                 At Vet                    53\n",
       "                 Behavior                 149\n",
       "                 Court/Investigation       31\n",
       "                 Medical                   69\n",
       "                 Rabies Risk               94\n",
       "                 Suffering                839\n",
       "Missing          In Foster                  5\n",
       "                 In Kennel                  2\n",
       "                 Possible Theft            14\n",
       "Return to Owner  At Vet                     1\n",
       "                 Customer S                 5\n",
       "                 Field                     39\n",
       "                 Foster                     2\n",
       "                 Prc                        6\n",
       "Transfer         Barn                       1\n",
       "                 Emer                       3\n",
       "                 Partner                15401\n",
       "Name: animal_id, dtype: int64"
      ]
     },
     "execution_count": 5,
     "metadata": {},
     "output_type": "execute_result"
    }
   ],
   "source": [
    "dogs_outcomes.groupby(['outcome_type', 'outcome_subtype'])['animal_id'].count()"
   ]
  },
  {
   "cell_type": "code",
   "execution_count": 6,
   "metadata": {},
   "outputs": [
    {
     "data": {
      "text/plain": [
       "Male       0.535168\n",
       "Female     0.458825\n",
       "Unknown    0.006007\n",
       "Name: intake_sex, dtype: float64"
      ]
     },
     "execution_count": 6,
     "metadata": {},
     "output_type": "execute_result"
    }
   ],
   "source": [
    "dogs_outcomes['intake_sex'].value_counts(normalize=True)"
   ]
  },
  {
   "cell_type": "markdown",
   "metadata": {},
   "source": [
    "Matches the intakes data"
   ]
  },
  {
   "cell_type": "code",
   "execution_count": 7,
   "metadata": {},
   "outputs": [
    {
     "data": {
      "text/plain": [
       "Neutered    0.418368\n",
       "Spayed      0.357169\n",
       "Intact      0.218456\n",
       "Unknown     0.006007\n",
       "Name: outcome_spay_neuter, dtype: float64"
      ]
     },
     "execution_count": 7,
     "metadata": {},
     "output_type": "execute_result"
    }
   ],
   "source": [
    "dogs_outcomes['outcome_spay_neuter'].value_counts(normalize=True)"
   ]
  },
  {
   "cell_type": "markdown",
   "metadata": {},
   "source": [
    "63% of dogs are intact when they are brought into the shelter. This confirms that the shelter is actively spaying/neutering the animals"
   ]
  },
  {
   "cell_type": "markdown",
   "metadata": {},
   "source": [
    "#### Adoptions"
   ]
  },
  {
   "cell_type": "code",
   "execution_count": 8,
   "metadata": {},
   "outputs": [
    {
     "data": {
      "text/plain": [
       "<matplotlib.axes._subplots.AxesSubplot at 0x7fd0f332f130>"
      ]
     },
     "execution_count": 8,
     "metadata": {},
     "output_type": "execute_result"
    },
    {
     "data": {
      "image/png": "[encoded data removed]",
      "text/plain": [
       "<Figure size 432x288 with 1 Axes>"
      ]
     },
     "metadata": {
      "needs_background": "light"
     },
     "output_type": "display_data"
    }
   ],
   "source": [
    "adopted = dogs_outcomes[dogs_outcomes['outcome_type'] == 'Adoption'][['breed_1', 'breed_2']]\n",
    "\n",
    "pd.concat([adopted['breed_1'], adopted['breed_2']]).value_counts().head(20).plot(kind='barh')"
   ]
  },
  {
   "cell_type": "markdown",
   "metadata": {},
   "source": [
    "##### Age Distribution of Adopted Dogs"
   ]
  },
  {
   "cell_type": "code",
   "execution_count": 9,
   "metadata": {},
   "outputs": [
    {
     "data": {
      "image/png": "[encoded data removed]",
      "text/plain": [
       "<Figure size 432x288 with 1 Axes>"
      ]
     },
     "metadata": {
      "needs_background": "light"
     },
     "output_type": "display_data"
    }
   ],
   "source": [
    "dogs_outcomes[dogs_outcomes['outcome_type'] == 'Adoption']['outcome_age_in_years'].plot(kind='hist');"
   ]
  },
  {
   "cell_type": "code",
   "execution_count": 10,
   "metadata": {},
   "outputs": [
    {
     "data": {
      "image/png": "[encoded data removed]",
      "text/plain": [
       "<Figure size 432x288 with 1 Axes>"
      ]
     },
     "metadata": {
      "needs_background": "light"
     },
     "output_type": "display_data"
    }
   ],
   "source": [
    "dogs_outcomes[dogs_outcomes['outcome_type'] == 'Transfer']['outcome_age_in_years'].plot(kind='hist');"
   ]
  },
  {
   "cell_type": "code",
   "execution_count": 11,
   "metadata": {},
   "outputs": [
    {
     "data": {
      "text/html": [
       "<div>\n",
       "<style scoped>\n",
       "    .dataframe tbody tr th:only-of-type {\n",
       "        vertical-align: middle;\n",
       "    }\n",
       "\n",
       "    .dataframe tbody tr th {\n",
       "        vertical-align: top;\n",
       "    }\n",
       "\n",
       "    .dataframe thead th {\n",
       "        text-align: right;\n",
       "    }\n",
       "</style>\n",
       "<table border=\"1\" class=\"dataframe\">\n",
       "  <thead>\n",
       "    <tr style=\"text-align: right;\">\n",
       "      <th></th>\n",
       "      <th>animal_id</th>\n",
       "      <th>intake_datetime</th>\n",
       "      <th>name</th>\n",
       "      <th>intake_type</th>\n",
       "      <th>intake_condition</th>\n",
       "      <th>animal_type</th>\n",
       "      <th>intake_sex</th>\n",
       "      <th>intake_spay_neuter</th>\n",
       "      <th>intake_age_in_years</th>\n",
       "      <th>breed</th>\n",
       "      <th>...</th>\n",
       "      <th>color_1</th>\n",
       "      <th>color_2</th>\n",
       "      <th>found_address</th>\n",
       "      <th>found_city</th>\n",
       "      <th>datetime_outcomes</th>\n",
       "      <th>outcome_type</th>\n",
       "      <th>outcome_subtype</th>\n",
       "      <th>outcome_sex</th>\n",
       "      <th>outcome_spay_neuter</th>\n",
       "      <th>outcome_age_in_years</th>\n",
       "    </tr>\n",
       "  </thead>\n",
       "  <tbody>\n",
       "    <tr>\n",
       "      <th>0</th>\n",
       "      <td>A521520</td>\n",
       "      <td>2013-10-01 07:51:00</td>\n",
       "      <td>Nina</td>\n",
       "      <td>Stray</td>\n",
       "      <td>Normal</td>\n",
       "      <td>Dog</td>\n",
       "      <td>Female</td>\n",
       "      <td>Spayed</td>\n",
       "      <td>7.0</td>\n",
       "      <td>Border Terrier/Border Collie</td>\n",
       "      <td>...</td>\n",
       "      <td>White</td>\n",
       "      <td>Tan</td>\n",
       "      <td>NaN</td>\n",
       "      <td>Austin (TX)</td>\n",
       "      <td>2013-10-01 15:39:00</td>\n",
       "      <td>Return to Owner</td>\n",
       "      <td>NaN</td>\n",
       "      <td>Female</td>\n",
       "      <td>Spayed</td>\n",
       "      <td>7.0</td>\n",
       "    </tr>\n",
       "    <tr>\n",
       "      <th>1</th>\n",
       "      <td>A664233</td>\n",
       "      <td>2013-10-01 08:53:00</td>\n",
       "      <td>Stevie</td>\n",
       "      <td>Stray</td>\n",
       "      <td>Injured</td>\n",
       "      <td>Dog</td>\n",
       "      <td>Female</td>\n",
       "      <td>Intact</td>\n",
       "      <td>3.0</td>\n",
       "      <td>Pit Bull Mix</td>\n",
       "      <td>...</td>\n",
       "      <td>Blue</td>\n",
       "      <td>White</td>\n",
       "      <td>7405 Springtime</td>\n",
       "      <td>Austin (TX)</td>\n",
       "      <td>2013-10-01 15:33:00</td>\n",
       "      <td>Euthanasia</td>\n",
       "      <td>Suffering</td>\n",
       "      <td>Female</td>\n",
       "      <td>Intact</td>\n",
       "      <td>3.0</td>\n",
       "    </tr>\n",
       "    <tr>\n",
       "      <th>2</th>\n",
       "      <td>A664234</td>\n",
       "      <td>2013-10-01 10:37:00</td>\n",
       "      <td>NaN</td>\n",
       "      <td>Stray</td>\n",
       "      <td>Injured</td>\n",
       "      <td>Dog</td>\n",
       "      <td>Male</td>\n",
       "      <td>Intact</td>\n",
       "      <td>8.0</td>\n",
       "      <td>Border Collie Mix</td>\n",
       "      <td>...</td>\n",
       "      <td>Black</td>\n",
       "      <td>White</td>\n",
       "      <td>5400 Jimmy Clay</td>\n",
       "      <td>Austin (TX)</td>\n",
       "      <td>2013-10-01 19:09:00</td>\n",
       "      <td>Euthanasia</td>\n",
       "      <td>Suffering</td>\n",
       "      <td>Male</td>\n",
       "      <td>Intact</td>\n",
       "      <td>8.0</td>\n",
       "    </tr>\n",
       "    <tr>\n",
       "      <th>3</th>\n",
       "      <td>A664257</td>\n",
       "      <td>2013-10-01 11:01:00</td>\n",
       "      <td>Pippin</td>\n",
       "      <td>Stray</td>\n",
       "      <td>Normal</td>\n",
       "      <td>Dog</td>\n",
       "      <td>Female</td>\n",
       "      <td>Intact</td>\n",
       "      <td>4.0</td>\n",
       "      <td>Podengo Pequeno Mix</td>\n",
       "      <td>...</td>\n",
       "      <td>Black</td>\n",
       "      <td>NaN</td>\n",
       "      <td>NaN</td>\n",
       "      <td>Travis (TX)</td>\n",
       "      <td>2013-10-24 13:31:00</td>\n",
       "      <td>Adoption</td>\n",
       "      <td>Foster</td>\n",
       "      <td>Female</td>\n",
       "      <td>Spayed</td>\n",
       "      <td>4.0</td>\n",
       "    </tr>\n",
       "    <tr>\n",
       "      <th>4</th>\n",
       "      <td>A664266</td>\n",
       "      <td>2013-10-01 11:09:00</td>\n",
       "      <td>NaN</td>\n",
       "      <td>Stray</td>\n",
       "      <td>Normal</td>\n",
       "      <td>Dog</td>\n",
       "      <td>Female</td>\n",
       "      <td>Intact</td>\n",
       "      <td>1.0</td>\n",
       "      <td>Chihuahua Shorthair Mix</td>\n",
       "      <td>...</td>\n",
       "      <td>Buff</td>\n",
       "      <td>NaN</td>\n",
       "      <td>NaN</td>\n",
       "      <td>Austin (TX)</td>\n",
       "      <td>2013-10-05 15:06:00</td>\n",
       "      <td>Transfer</td>\n",
       "      <td>Partner</td>\n",
       "      <td>Female</td>\n",
       "      <td>Intact</td>\n",
       "      <td>1.0</td>\n",
       "    </tr>\n",
       "  </tbody>\n",
       "</table>\n",
       "<p>5 rows × 24 columns</p>\n",
       "</div>"
      ],
      "text/plain": [
       "  animal_id      intake_datetime    name intake_type intake_condition  \\\n",
       "0   A521520  2013-10-01 07:51:00    Nina       Stray           Normal   \n",
       "1   A664233  2013-10-01 08:53:00  Stevie       Stray          Injured   \n",
       "2   A664234  2013-10-01 10:37:00     NaN       Stray          Injured   \n",
       "3   A664257  2013-10-01 11:01:00  Pippin       Stray           Normal   \n",
       "4   A664266  2013-10-01 11:09:00     NaN       Stray           Normal   \n",
       "\n",
       "  animal_type intake_sex intake_spay_neuter  intake_age_in_years  \\\n",
       "0         Dog     Female             Spayed                  7.0   \n",
       "1         Dog     Female             Intact                  3.0   \n",
       "2         Dog       Male             Intact                  8.0   \n",
       "3         Dog     Female             Intact                  4.0   \n",
       "4         Dog     Female             Intact                  1.0   \n",
       "\n",
       "                          breed  ... color_1 color_2    found_address  \\\n",
       "0  Border Terrier/Border Collie  ...   White     Tan              NaN   \n",
       "1                  Pit Bull Mix  ...    Blue   White  7405 Springtime   \n",
       "2             Border Collie Mix  ...   Black   White  5400 Jimmy Clay   \n",
       "3           Podengo Pequeno Mix  ...   Black     NaN              NaN   \n",
       "4       Chihuahua Shorthair Mix  ...    Buff     NaN              NaN   \n",
       "\n",
       "    found_city    datetime_outcomes     outcome_type outcome_subtype  \\\n",
       "0  Austin (TX)  2013-10-01 15:39:00  Return to Owner             NaN   \n",
       "1  Austin (TX)  2013-10-01 15:33:00       Euthanasia       Suffering   \n",
       "2  Austin (TX)  2013-10-01 19:09:00       Euthanasia       Suffering   \n",
       "3  Travis (TX)  2013-10-24 13:31:00         Adoption          Foster   \n",
       "4  Austin (TX)  2013-10-05 15:06:00         Transfer         Partner   \n",
       "\n",
       "  outcome_sex outcome_spay_neuter outcome_age_in_years  \n",
       "0      Female              Spayed                  7.0  \n",
       "1      Female              Intact                  3.0  \n",
       "2        Male              Intact                  8.0  \n",
       "3      Female              Spayed                  4.0  \n",
       "4      Female              Intact                  1.0  \n",
       "\n",
       "[5 rows x 24 columns]"
      ]
     },
     "execution_count": 11,
     "metadata": {},
     "output_type": "execute_result"
    }
   ],
   "source": [
    "dogs_outcomes.head()"
   ]
  },
  {
   "cell_type": "code",
   "execution_count": 12,
   "metadata": {},
   "outputs": [
    {
     "data": {
      "text/html": [
       "<div>\n",
       "<style scoped>\n",
       "    .dataframe tbody tr th:only-of-type {\n",
       "        vertical-align: middle;\n",
       "    }\n",
       "\n",
       "    .dataframe tbody tr th {\n",
       "        vertical-align: top;\n",
       "    }\n",
       "\n",
       "    .dataframe thead th {\n",
       "        text-align: right;\n",
       "    }\n",
       "</style>\n",
       "<table border=\"1\" class=\"dataframe\">\n",
       "  <thead>\n",
       "    <tr style=\"text-align: right;\">\n",
       "      <th></th>\n",
       "      <th>breed_1</th>\n",
       "      <th>breed_2</th>\n",
       "    </tr>\n",
       "  </thead>\n",
       "  <tbody>\n",
       "    <tr>\n",
       "      <th>3</th>\n",
       "      <td>Podengo Pequeno</td>\n",
       "      <td>NaN</td>\n",
       "    </tr>\n",
       "    <tr>\n",
       "      <th>7</th>\n",
       "      <td>Chinese Sharpei</td>\n",
       "      <td>Labrador Retriever</td>\n",
       "    </tr>\n",
       "    <tr>\n",
       "      <th>9</th>\n",
       "      <td>Great Pyrenees</td>\n",
       "      <td>NaN</td>\n",
       "    </tr>\n",
       "    <tr>\n",
       "      <th>12</th>\n",
       "      <td>Chihuahua Shorthair</td>\n",
       "      <td>Dachshund</td>\n",
       "    </tr>\n",
       "    <tr>\n",
       "      <th>15</th>\n",
       "      <td>Siberian Husky</td>\n",
       "      <td>NaN</td>\n",
       "    </tr>\n",
       "    <tr>\n",
       "      <th>...</th>\n",
       "      <td>...</td>\n",
       "      <td>...</td>\n",
       "    </tr>\n",
       "    <tr>\n",
       "      <th>70891</th>\n",
       "      <td>Border Terrier</td>\n",
       "      <td>NaN</td>\n",
       "    </tr>\n",
       "    <tr>\n",
       "      <th>70892</th>\n",
       "      <td>Border Terrier</td>\n",
       "      <td>NaN</td>\n",
       "    </tr>\n",
       "    <tr>\n",
       "      <th>70895</th>\n",
       "      <td>German Shepherd</td>\n",
       "      <td>Great Pyrenees</td>\n",
       "    </tr>\n",
       "    <tr>\n",
       "      <th>70906</th>\n",
       "      <td>Labrador Retriever</td>\n",
       "      <td>NaN</td>\n",
       "    </tr>\n",
       "    <tr>\n",
       "      <th>70912</th>\n",
       "      <td>German Shepherd</td>\n",
       "      <td>NaN</td>\n",
       "    </tr>\n",
       "  </tbody>\n",
       "</table>\n",
       "<p>33517 rows × 2 columns</p>\n",
       "</div>"
      ],
      "text/plain": [
       "                   breed_1             breed_2\n",
       "3          Podengo Pequeno                 NaN\n",
       "7          Chinese Sharpei  Labrador Retriever\n",
       "9           Great Pyrenees                 NaN\n",
       "12     Chihuahua Shorthair           Dachshund\n",
       "15          Siberian Husky                 NaN\n",
       "...                    ...                 ...\n",
       "70891       Border Terrier                 NaN\n",
       "70892       Border Terrier                 NaN\n",
       "70895      German Shepherd      Great Pyrenees\n",
       "70906   Labrador Retriever                 NaN\n",
       "70912      German Shepherd                 NaN\n",
       "\n",
       "[33517 rows x 2 columns]"
      ]
     },
     "execution_count": 12,
     "metadata": {},
     "output_type": "execute_result"
    }
   ],
   "source": [
    "dogs_outcomes[dogs_outcomes['outcome_type'] == 'Adoption'][['breed_1', 'breed_2']]"
   ]
  },
  {
   "cell_type": "code",
   "execution_count": 13,
   "metadata": {},
   "outputs": [],
   "source": [
    "adopted_breeds = pd.concat([adopted['breed_1'], adopted['breed_2']]).value_counts().reset_index()\n",
    "\n",
    "intake_breeds = pd.concat([dogs_outcomes['breed_1'], dogs_outcomes['breed_2']]).value_counts().reset_index()"
   ]
  },
  {
   "cell_type": "code",
   "execution_count": 14,
   "metadata": {},
   "outputs": [],
   "source": [
    "adopted_breeds = adopted_breeds.rename(columns={'index': 'breed', 0:'adoption_count'})\n",
    "intake_breeds  = intake_breeds.rename(columns={'index': 'breed', 0:'intake_count'})"
   ]
  },
  {
   "cell_type": "code",
   "execution_count": 15,
   "metadata": {},
   "outputs": [
    {
     "data": {
      "text/html": [
       "<div>\n",
       "<style scoped>\n",
       "    .dataframe tbody tr th:only-of-type {\n",
       "        vertical-align: middle;\n",
       "    }\n",
       "\n",
       "    .dataframe tbody tr th {\n",
       "        vertical-align: top;\n",
       "    }\n",
       "\n",
       "    .dataframe thead th {\n",
       "        text-align: right;\n",
       "    }\n",
       "</style>\n",
       "<table border=\"1\" class=\"dataframe\">\n",
       "  <thead>\n",
       "    <tr style=\"text-align: right;\">\n",
       "      <th></th>\n",
       "      <th>breed</th>\n",
       "      <th>adoption_count</th>\n",
       "    </tr>\n",
       "  </thead>\n",
       "  <tbody>\n",
       "    <tr>\n",
       "      <th>0</th>\n",
       "      <td>Labrador Retriever</td>\n",
       "      <td>6091</td>\n",
       "    </tr>\n",
       "    <tr>\n",
       "      <th>1</th>\n",
       "      <td>Pit Bull</td>\n",
       "      <td>4488</td>\n",
       "    </tr>\n",
       "    <tr>\n",
       "      <th>2</th>\n",
       "      <td>Chihuahua Shorthair</td>\n",
       "      <td>4480</td>\n",
       "    </tr>\n",
       "    <tr>\n",
       "      <th>3</th>\n",
       "      <td>German Shepherd</td>\n",
       "      <td>2839</td>\n",
       "    </tr>\n",
       "    <tr>\n",
       "      <th>4</th>\n",
       "      <td>Australian Cattle Dog</td>\n",
       "      <td>1561</td>\n",
       "    </tr>\n",
       "  </tbody>\n",
       "</table>\n",
       "</div>"
      ],
      "text/plain": [
       "                   breed  adoption_count\n",
       "0     Labrador Retriever            6091\n",
       "1               Pit Bull            4488\n",
       "2    Chihuahua Shorthair            4480\n",
       "3        German Shepherd            2839\n",
       "4  Australian Cattle Dog            1561"
      ]
     },
     "execution_count": 15,
     "metadata": {},
     "output_type": "execute_result"
    }
   ],
   "source": [
    "adopted_breeds.head()"
   ]
  },
  {
   "cell_type": "code",
   "execution_count": 16,
   "metadata": {},
   "outputs": [
    {
     "data": {
      "text/html": [
       "<div>\n",
       "<style scoped>\n",
       "    .dataframe tbody tr th:only-of-type {\n",
       "        vertical-align: middle;\n",
       "    }\n",
       "\n",
       "    .dataframe tbody tr th {\n",
       "        vertical-align: top;\n",
       "    }\n",
       "\n",
       "    .dataframe thead th {\n",
       "        text-align: right;\n",
       "    }\n",
       "</style>\n",
       "<table border=\"1\" class=\"dataframe\">\n",
       "  <thead>\n",
       "    <tr style=\"text-align: right;\">\n",
       "      <th></th>\n",
       "      <th>breed</th>\n",
       "      <th>intake_count</th>\n",
       "    </tr>\n",
       "  </thead>\n",
       "  <tbody>\n",
       "    <tr>\n",
       "      <th>0</th>\n",
       "      <td>Labrador Retriever</td>\n",
       "      <td>11656</td>\n",
       "    </tr>\n",
       "    <tr>\n",
       "      <th>1</th>\n",
       "      <td>Pit Bull</td>\n",
       "      <td>11258</td>\n",
       "    </tr>\n",
       "    <tr>\n",
       "      <th>2</th>\n",
       "      <td>Chihuahua Shorthair</td>\n",
       "      <td>9122</td>\n",
       "    </tr>\n",
       "    <tr>\n",
       "      <th>3</th>\n",
       "      <td>German Shepherd</td>\n",
       "      <td>5437</td>\n",
       "    </tr>\n",
       "    <tr>\n",
       "      <th>4</th>\n",
       "      <td>Australian Cattle Dog</td>\n",
       "      <td>2739</td>\n",
       "    </tr>\n",
       "  </tbody>\n",
       "</table>\n",
       "</div>"
      ],
      "text/plain": [
       "                   breed  intake_count\n",
       "0     Labrador Retriever         11656\n",
       "1               Pit Bull         11258\n",
       "2    Chihuahua Shorthair          9122\n",
       "3        German Shepherd          5437\n",
       "4  Australian Cattle Dog          2739"
      ]
     },
     "execution_count": 16,
     "metadata": {},
     "output_type": "execute_result"
    }
   ],
   "source": [
    "intake_breeds.head()"
   ]
  },
  {
   "cell_type": "code",
   "execution_count": 19,
   "metadata": {},
   "outputs": [],
   "source": [
    "adoption_rate = intake_breeds.merge(adopted_breeds, on='breed')\n",
    "\n",
    "adoption_rate['adoption_rate'] = round((adoption_rate['adoption_count'] / adoption_rate['intake_count']) * 100, 2)"
   ]
  },
  {
   "cell_type": "code",
   "execution_count": 30,
   "metadata": {
    "scrolled": true
   },
   "outputs": [
    {
     "data": {
      "text/html": [
       "<div>\n",
       "<style scoped>\n",
       "    .dataframe tbody tr th:only-of-type {\n",
       "        vertical-align: middle;\n",
       "    }\n",
       "\n",
       "    .dataframe tbody tr th {\n",
       "        vertical-align: top;\n",
       "    }\n",
       "\n",
       "    .dataframe thead th {\n",
       "        text-align: right;\n",
       "    }\n",
       "</style>\n",
       "<table border=\"1\" class=\"dataframe\">\n",
       "  <thead>\n",
       "    <tr style=\"text-align: right;\">\n",
       "      <th></th>\n",
       "      <th>breed</th>\n",
       "      <th>intake_count</th>\n",
       "      <th>adoption_count</th>\n",
       "      <th>adoption_rate</th>\n",
       "    </tr>\n",
       "  </thead>\n",
       "  <tbody>\n",
       "    <tr>\n",
       "      <th>0</th>\n",
       "      <td>Labrador Retriever</td>\n",
       "      <td>11656</td>\n",
       "      <td>6091</td>\n",
       "      <td>52.26</td>\n",
       "    </tr>\n",
       "    <tr>\n",
       "      <th>1</th>\n",
       "      <td>Pit Bull</td>\n",
       "      <td>11258</td>\n",
       "      <td>4488</td>\n",
       "      <td>39.86</td>\n",
       "    </tr>\n",
       "    <tr>\n",
       "      <th>2</th>\n",
       "      <td>Chihuahua Shorthair</td>\n",
       "      <td>9122</td>\n",
       "      <td>4480</td>\n",
       "      <td>49.11</td>\n",
       "    </tr>\n",
       "    <tr>\n",
       "      <th>3</th>\n",
       "      <td>German Shepherd</td>\n",
       "      <td>5437</td>\n",
       "      <td>2839</td>\n",
       "      <td>52.22</td>\n",
       "    </tr>\n",
       "    <tr>\n",
       "      <th>4</th>\n",
       "      <td>Australian Cattle Dog</td>\n",
       "      <td>2739</td>\n",
       "      <td>1561</td>\n",
       "      <td>56.99</td>\n",
       "    </tr>\n",
       "    <tr>\n",
       "      <th>5</th>\n",
       "      <td>Dachshund</td>\n",
       "      <td>2371</td>\n",
       "      <td>1259</td>\n",
       "      <td>53.10</td>\n",
       "    </tr>\n",
       "    <tr>\n",
       "      <th>6</th>\n",
       "      <td>Boxer</td>\n",
       "      <td>1837</td>\n",
       "      <td>896</td>\n",
       "      <td>48.78</td>\n",
       "    </tr>\n",
       "    <tr>\n",
       "      <th>7</th>\n",
       "      <td>Border Collie</td>\n",
       "      <td>1771</td>\n",
       "      <td>999</td>\n",
       "      <td>56.41</td>\n",
       "    </tr>\n",
       "    <tr>\n",
       "      <th>8</th>\n",
       "      <td>Miniature Poodle</td>\n",
       "      <td>1568</td>\n",
       "      <td>599</td>\n",
       "      <td>38.20</td>\n",
       "    </tr>\n",
       "    <tr>\n",
       "      <th>9</th>\n",
       "      <td>Siberian Husky</td>\n",
       "      <td>1445</td>\n",
       "      <td>692</td>\n",
       "      <td>47.89</td>\n",
       "    </tr>\n",
       "    <tr>\n",
       "      <th>10</th>\n",
       "      <td>Beagle</td>\n",
       "      <td>1430</td>\n",
       "      <td>704</td>\n",
       "      <td>49.23</td>\n",
       "    </tr>\n",
       "    <tr>\n",
       "      <th>11</th>\n",
       "      <td>Great Pyrenees</td>\n",
       "      <td>1257</td>\n",
       "      <td>601</td>\n",
       "      <td>47.81</td>\n",
       "    </tr>\n",
       "    <tr>\n",
       "      <th>12</th>\n",
       "      <td>Catahoula</td>\n",
       "      <td>1183</td>\n",
       "      <td>649</td>\n",
       "      <td>54.86</td>\n",
       "    </tr>\n",
       "    <tr>\n",
       "      <th>13</th>\n",
       "      <td>Australian Shepherd</td>\n",
       "      <td>1100</td>\n",
       "      <td>560</td>\n",
       "      <td>50.91</td>\n",
       "    </tr>\n",
       "    <tr>\n",
       "      <th>14</th>\n",
       "      <td>Yorkshire Terrier</td>\n",
       "      <td>1067</td>\n",
       "      <td>447</td>\n",
       "      <td>41.89</td>\n",
       "    </tr>\n",
       "  </tbody>\n",
       "</table>\n",
       "</div>"
      ],
      "text/plain": [
       "                    breed  intake_count  adoption_count  adoption_rate\n",
       "0      Labrador Retriever         11656            6091          52.26\n",
       "1                Pit Bull         11258            4488          39.86\n",
       "2     Chihuahua Shorthair          9122            4480          49.11\n",
       "3         German Shepherd          5437            2839          52.22\n",
       "4   Australian Cattle Dog          2739            1561          56.99\n",
       "5               Dachshund          2371            1259          53.10\n",
       "6                   Boxer          1837             896          48.78\n",
       "7           Border Collie          1771             999          56.41\n",
       "8        Miniature Poodle          1568             599          38.20\n",
       "9          Siberian Husky          1445             692          47.89\n",
       "10                 Beagle          1430             704          49.23\n",
       "11         Great Pyrenees          1257             601          47.81\n",
       "12              Catahoula          1183             649          54.86\n",
       "13    Australian Shepherd          1100             560          50.91\n",
       "14      Yorkshire Terrier          1067             447          41.89"
      ]
     },
     "execution_count": 30,
     "metadata": {},
     "output_type": "execute_result"
    }
   ],
   "source": [
    "adoption_rate.sort_values('intake_count', ascending=False).head(15)"
   ]
  },
  {
   "cell_type": "code",
   "execution_count": 28,
   "metadata": {},
   "outputs": [
    {
     "data": {
      "image/png": "[encoded data removed]",
      "text/plain": [
       "<Figure size 432x288 with 1 Axes>"
      ]
     },
     "metadata": {
      "needs_background": "light"
     },
     "output_type": "display_data"
    }
   ],
   "source": [
    "plt.bar(adoption_rate['breed'], adoption_rate['adoption_rate']);"
   ]
  },
  {
   "cell_type": "code",
   "execution_count": null,
   "metadata": {},
   "outputs": [],
   "source": []
  }
 ],
 "metadata": {
  "kernelspec": {
   "display_name": "Python 3",
   "language": "python",
   "name": "python3"
  },
  "language_info": {
   "codemirror_mode": {
    "name": "ipython",
    "version": 3
   },
   "file_extension": ".py",
   "mimetype": "text/x-python",
   "name": "python",
   "nbconvert_exporter": "python",
   "pygments_lexer": "ipython3",
   "version": "3.8.3"
  }
 },
 "nbformat": 4,
 "nbformat_minor": 4
}
